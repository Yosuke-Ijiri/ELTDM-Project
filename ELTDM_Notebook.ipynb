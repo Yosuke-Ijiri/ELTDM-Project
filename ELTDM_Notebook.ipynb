{
 "cells": [
  {
   "cell_type": "markdown",
   "metadata": {},
   "source": [
    "<img src=\"img/ENSAE_logo.jpg\">"
   ]
  },
  {
   "cell_type": "markdown",
   "metadata": {},
   "source": [
    "# *ELTDM Project*\n",
    "# *Parallelised Community Detection with Spark MapReduce*  \n",
    "**Mastère Spécialisé Data Science, 2018-19, \"Éléments logiciels pour le traitement des données massives\"** \n",
    "  \n",
    "**Alban CHAMPEVILLE**   \n",
    "**Yosuke IJIRI**  \n",
    "  "
   ]
  },
  {
   "cell_type": "markdown",
   "metadata": {},
   "source": [
    "## Abstract"
   ]
  },
  {
   "cell_type": "markdown",
   "metadata": {},
   "source": [
    "This project implements a parallelised community detection algorithm proposed by [*Moon, et al. (2015)*.](http://dx.doi.org/10.1016/j.datak.2015.05.001) The model is based on Girvan-Newman Algorithm. For parallelisation, we run Spark using Python on our dual-core laptop with 4 logical CPUs. Our code can easily be adapted for much larger datasets by scaling out to distributed computing with cloud environments such as AWS and Microsoft Azure."
   ]
  },
  {
   "cell_type": "markdown",
   "metadata": {},
   "source": [
    "## Overview"
   ]
  },
  {
   "cell_type": "code",
   "execution_count": 1,
   "metadata": {
    "scrolled": false
   },
   "outputs": [
    {
     "data": {
      "text/html": [
       "<div id=\"my_id_menu_nb\">run previous cell, wait for 2 seconds</div>\n",
       "<script>\n",
       "function repeat_indent_string(n){\n",
       "    var a = \"\" ;\n",
       "    for ( ; n > 0 ; --n)\n",
       "        a += \"    \";\n",
       "    return a;\n",
       "}\n",
       "// look up into all sections and builds an automated menu //\n",
       "var update_menu_string = function(begin, lfirst, llast, sformat, send, keep_item, begin_format, end_format) {\n",
       "    var anchors = document.getElementsByClassName(\"section\");\n",
       "    if (anchors.length == 0) {\n",
       "        anchors = document.getElementsByClassName(\"text_cell_render rendered_html\");\n",
       "    }\n",
       "    var i,t;\n",
       "    var text_menu = begin;\n",
       "    var text_memo = \"<pre>\\nlength:\" + anchors.length + \"\\n\";\n",
       "    var ind = \"\";\n",
       "    var memo_level = 1;\n",
       "    var href;\n",
       "    var tags = [];\n",
       "    var main_item = 0;\n",
       "    var format_open = 0;\n",
       "    for (i = 0; i <= llast; i++)\n",
       "        tags.push(\"h\" + i);\n",
       "\n",
       "    for (i = 0; i < anchors.length; i++) {\n",
       "        text_memo += \"**\" + anchors[i].id + \"--\\n\";\n",
       "\n",
       "        var child = null;\n",
       "        for(t = 0; t < tags.length; t++) {\n",
       "            var r = anchors[i].getElementsByTagName(tags[t]);\n",
       "            if (r.length > 0) {\n",
       "child = r[0];\n",
       "break;\n",
       "            }\n",
       "        }\n",
       "        if (child == null) {\n",
       "            text_memo += \"null\\n\";\n",
       "            continue;\n",
       "        }\n",
       "        if (anchors[i].hasAttribute(\"id\")) {\n",
       "            // when converted in RST\n",
       "            href = anchors[i].id;\n",
       "            text_memo += \"#1-\" + href;\n",
       "            // passer à child suivant (le chercher)\n",
       "        }\n",
       "        else if (child.hasAttribute(\"id\")) {\n",
       "            // in a notebook\n",
       "            href = child.id;\n",
       "            text_memo += \"#2-\" + href;\n",
       "        }\n",
       "        else {\n",
       "            text_memo += \"#3-\" + \"*\" + \"\\n\";\n",
       "            continue;\n",
       "        }\n",
       "        var title = child.textContent;\n",
       "        var level = parseInt(child.tagName.substring(1,2));\n",
       "\n",
       "        text_memo += \"--\" + level + \"?\" + lfirst + \"--\" + title + \"\\n\";\n",
       "\n",
       "        if ((level < lfirst) || (level > llast)) {\n",
       "            continue ;\n",
       "        }\n",
       "        if (title.endsWith('¶')) {\n",
       "            title = title.substring(0,title.length-1).replace(\"<\", \"&lt;\")\n",
       "         .replace(\">\", \"&gt;\").replace(\"&\", \"&amp;\");\n",
       "        }\n",
       "        if (title.length == 0) {\n",
       "            continue;\n",
       "        }\n",
       "\n",
       "        while (level < memo_level) {\n",
       "            text_menu += end_format + \"</ul>\\n\";\n",
       "            format_open -= 1;\n",
       "            memo_level -= 1;\n",
       "        }\n",
       "        if (level == lfirst) {\n",
       "            main_item += 1;\n",
       "        }\n",
       "        if (keep_item != -1 && main_item != keep_item + 1) {\n",
       "            // alert(main_item + \" - \" + level + \" - \" + keep_item);\n",
       "            continue;\n",
       "        }\n",
       "        while (level > memo_level) {\n",
       "            text_menu += \"<ul>\\n\";\n",
       "            memo_level += 1;\n",
       "        }\n",
       "        text_menu += repeat_indent_string(level-2);\n",
       "        text_menu += begin_format + sformat.replace(\"__HREF__\", href).replace(\"__TITLE__\", title);\n",
       "        format_open += 1;\n",
       "    }\n",
       "    while (1 < memo_level) {\n",
       "        text_menu += end_format + \"</ul>\\n\";\n",
       "        memo_level -= 1;\n",
       "        format_open -= 1;\n",
       "    }\n",
       "    text_menu += send;\n",
       "    //text_menu += \"\\n\" + text_memo;\n",
       "\n",
       "    while (format_open > 0) {\n",
       "        text_menu += end_format;\n",
       "        format_open -= 1;\n",
       "    }\n",
       "    return text_menu;\n",
       "};\n",
       "var update_menu = function() {\n",
       "    var sbegin = \"\";\n",
       "    var sformat = '<a href=\"#__HREF__\">__TITLE__</a>';\n",
       "    var send = \"\";\n",
       "    var begin_format = '<li>';\n",
       "    var end_format = '</li>';\n",
       "    var keep_item = -1;\n",
       "    var text_menu = update_menu_string(sbegin, 2, 4, sformat, send, keep_item,\n",
       "       begin_format, end_format);\n",
       "    var menu = document.getElementById(\"my_id_menu_nb\");\n",
       "    menu.innerHTML=text_menu;\n",
       "};\n",
       "window.setTimeout(update_menu,2000);\n",
       "            </script>"
      ],
      "text/plain": [
       "<IPython.core.display.HTML object>"
      ]
     },
     "execution_count": 1,
     "metadata": {},
     "output_type": "execute_result"
    }
   ],
   "source": [
    "from jyquickhelper import add_notebook_menu\n",
    "add_notebook_menu()"
   ]
  },
  {
   "cell_type": "markdown",
   "metadata": {},
   "source": [
    "## 1. Introduction & Literature Review"
   ]
  },
  {
   "cell_type": "markdown",
   "metadata": {},
   "source": [
    "Analysing network datum has become a key issue in many areas to base suggestions, advices and strategies in many sectors and applications. In Data Science, K-mean clustering and community detection method are the two main approaches to analyse networks in applications such as anomaly detection and recommendation system.\n",
    "\n",
    "In our project, we employ community detection which allows us to identify clusters in a graph network with nodes and edges by regrouping nodes into groups of densely connected nodes."
   ]
  },
  {
   "cell_type": "markdown",
   "metadata": {},
   "source": [
    "<img src=\"img/network.png\" width=\"400\" align=\"left\">"
   ]
  },
  {
   "cell_type": "markdown",
   "metadata": {},
   "source": [
    "Community detection is a process to partition the set of network nodes into multiple groups such that the nodes within a group are connected densely, but connections between groups are sparse. Popular algorithms of community detection include Girvan-Newman, Louvain and Walktrap. Other popular algorithms and methodologies are compared in [*Algesheimer, et al. (2016)*](https://www.nature.com/articles/srep30750).\n",
    "\n",
    "The Girvan-Newman algorithm [(*Girvan and Newman (2004)*)](http://www.cse.cuhk.edu.hk/~cslui/CMSC5734/newman_community_struct_networks_phys_rev.pdf) exploits the concept of edge betweenness, a measure of the centrality and influence of an edge in a network. The edges connecting communities are expected to have high edge betweenness. The underlying community structure of the network will be much clear after removing edges with high edge betweenness. For the removal of each edge, the calculation of edge betweenness is $\\mathcal{O}(EN)$; therefore, this algorithm’s time complexity is $\\mathcal{O}(E^2N)$ (with E edges and N nodes). There are two major definitions of edge betweenness: shortest-path betweenness and random-walk betweenness.\n",
    "\n",
    "We find the shortest paths between all pairs of nodes and count how many run along each edge. *Girvan and Newman (2004)* suggest that *\"for most problems, we recommend the algorithm with ... shortest-path betweenness measure ... This measure appears to work well and is the quickest\"* and that *\"The other versions ... make greater computational demands, and in practice seem to give results no better than the shortest-path method\"*. The random-walk betweenness which requires to calculate how often on average random walks starting at node s will pass down a particular edge from node v to node w (or vice versa) before finding their way to a given target node t. But it cannot produce a local maximum in the modularity unlike the shortest-path method.\n",
    "\n",
    "The Louvain algorithm [(*Blondel et al. (2008)*)](https://pdfs.semanticscholar.org/b434/c0199bbf38163abd5f995e76aa1619d39db9.pdf), which looks first for \"small\" communities by optimizing modularity locally. It aggregates in a second time nodes belonging to the same community and builds a new network whose nodes are the communities. These 2 steps are repeated iteratively until a maximum of modularity is reached and a hierarchy of communities is produced. This method allows community detections on networks of 2 million nodes within 2 minutes on a standard PC.\n",
    "\n",
    "The Walktrap [(*Pons and Latapy (2005)*)](https://www-complexnetworks.lip6.fr/~latapy/Publis/communities.pdf) method utilises that random walkers tends to get ‘trapped’ into more densely connected group.\n",
    "\n",
    "Although the Girvan-Newman algorithm with shortest-path betweenness methodology is proved to be one of the most efficient community detection algorithms, it has limitations in supporting large-scale networks since it needs to calculate the shortest path between every pair of nodes which lead Newman and Girvan to mention in 2004 *\"In our experience, this typically makes it tactable for networks of up to about n=10000 nodes, with current desktop computers\"*, whose capability is relatively small if we compare with the capability of 2 million nodes of the Louvain.\n",
    "\n",
    "In this context, and given the expanding size of networks today, parallelisation of calculation is key to realize the task efficiently, and thus our work is focused on the MapReduce version of Girvan-Newman algorithm based on shortest-path betweeness which allows us to process large network data. In the model, that is explained in the next section, each of the 4 stages contains Map-Reduce functions parallelized on machine's threads."
   ]
  },
  {
   "cell_type": "markdown",
   "metadata": {},
   "source": [
    "## 2. Model"
   ]
  },
  {
   "cell_type": "markdown",
   "metadata": {},
   "source": [
    "- The MapReduce shortest-path betweenness Girvan-Newman algorithm processes data in four stages with tuples output of each stage being chained to the input of the next stage. Each stage executes its own map and reduce tasks. An iteration (round) of these four stages produces a community detection result. In each iteration, Stage1 is executed multiple times, and the other stages are executed only once. The four stages repeat until the result quality no longer improves. This quality is measured by a modularity Q (method detailed in this notebook). We run the model until the value of Q reaches a negative value; the best community structure is determined at the point where the quality of communities does not improve any more (at the top of the Q curve).\n",
    "\n",
    "\n",
    "- A tuple of 7 elements is maintained for each pair of nodes in the process of community detection. It holds the network structure (i.e., an adjacency list), the shortest path obtained so far, and so on:\n",
    "    - **targetId** indicates the destination node of a shortest path and is initially set to be sourceId.\n",
    "    - **sourceId** indicates the source node of a shortest path and is initially set to be targetId.\n",
    "    - **distance** indicates the length of a shortest path and is initially set to be 0. The value of distance is updated in each iteration of Stage 1.\n",
    "    - **status** indicates the status of a specific path. a is “active”, and i is “inactive” meaning that the shortest path is already detected.\n",
    "    - **weight** indicates the number of the shortest paths from sourceId to targetId and is initially set to be 1.\n",
    "    - **pathInfo** indicates the list of the nodes on a shortest path and is initially set to be null.\n",
    "    - **adjList** indicates the list of the nodes adjacent to targetId."
   ]
  },
  {
   "cell_type": "markdown",
   "metadata": {},
   "source": [
    "### 2.1. Algorithm\n",
    "\n",
    "- The algorithm is splited in 4 stages executed sequentially:\n",
    "\n",
    "    - [Stage 1]: finds all pair shortest paths (Breadth-first search). In short, each round of this algorithm cuts $k_{itr}$ (= 1 by default) edges based on shortest path betweenness, and measures the strength (modularity) of its community structure.\n",
    "    - [Stage 2]: calculates edge betweenness. Total weight of edges are computed given their importance in shorter paths between 2 nodes.\n",
    "    - [Stage 3]: selects the edges to be removed. $k_{itr}$ edges are selected according to edge betweenness. $k_{itr}$ can be specified by a user as a tuning parameter. One in the case of our Notebook.\n",
    "    - [Stage 4]: removes the edges. Edges selected by Stage 3 are removed from the network. This will impact edge betweeness in next iterations.\n",
    "\n",
    "- At the end of Stage 4 of each round, the strength (Q) of its community structure is measured. The best community division can be found at the round that gives the largest value of Q.\n",
    "\n",
    "- The pseudocode of Girvan-Newman Algorithm with MapReduce is described below."
   ]
  },
  {
   "cell_type": "markdown",
   "metadata": {},
   "source": [
    "<img src=\"img/algo.png\" width=\"450\" align=\"left\">"
   ]
  },
  {
   "cell_type": "markdown",
   "metadata": {},
   "source": [
    "### 2.2. Data\n",
    "- We have 7 network datasets with different number of nodes and edges.  \n",
    "(Some of the datasets are pre-processed in order to be adapted for our algorithm and purpose.)\n",
    "\n",
    "| Data set     |  Number of nodes & edges  |  Source |\n",
    "|-----------| ------------  |  ---|\n",
    "|test.txt | 21 nodes, 31 edges  |  [Newman and Girvan (2004)](http://www.cse.cuhk.edu.hk/~cslui/CMSC5734/newman_community_struct_networks_phys_rev.pdf)|\n",
    "|soc-karate.txt | 34 nodes, 78 edges  |  [Mark Newman's web page](http://www-personal.umich.edu/~mejn/netdata/)|\n",
    "|Test100.txt | 103 nodes, 239 edges  |  \n",
    "|soc-ANU-residence_without_weights.txt | 217 nodes, 1839 edges  |  [Network Repository](http://networkrepository.com/soc.php)|\n",
    "|soc-physicians.txt | 241 nodes, 923 edges  |  [Network Repository](http://networkrepository.com/soc.php)|\n",
    "|ca-GrQc_small.txt | 639 nodes, 617 edges  |  [Stanford Network Analysis Project](https://snap.stanford.edu/data/ca-GrQc.html)|\n",
    "|email-Eu-core.txt | 986 nodes, 16064 edges  | [Stanford Large Network Dataset Collection](https://snap.stanford.edu/data/)  |\n",
    "\n",
    "- Among those, we use \"soc-karate\" data as our benchmark. This dataset is from Zachary’s Karate Club data (Zachary 1977), which describes social network friendships between 34 members of a karate club at a U.S. university in the 1970s. This is one of the standard publicly available data sets for testing community detection algorithms. It contains 34 nodes (members) and 78 links (friendships). NodeId=1 is a part-time instructor and nodeId=33 is the captain of the club. There was a split in the club due to the difference of opinion on the club management between the instructor and the captain."
   ]
  },
  {
   "cell_type": "markdown",
   "metadata": {},
   "source": [
    "### 2.3. Environment\n",
    "We run Spark using Python on our dual-core laptop with 4 logical CPUs (hyper-threading technology).\n",
    "\n",
    "- Specification  \n",
    "    - Hardware: MacBook Pro (Mid 2014)  \n",
    "    - OS: macOS Mojave, Version 10.14.3\n",
    "    - CPU: Intel(R) Core(TM) i5-4278U CPU, 2.6GHz, dual core\n",
    "    - Memory: 8GB 1600 MHz DDR3  \n",
    "- Language: Python\n",
    "- Parallelisation method: Spark (pyspark)\n",
    "\n"
   ]
  },
  {
   "cell_type": "markdown",
   "metadata": {},
   "source": [
    "## 3. Implementation"
   ]
  },
  {
   "cell_type": "code",
   "execution_count": 85,
   "metadata": {},
   "outputs": [],
   "source": [
    "# Import libraries\n",
    "import numpy as np\n",
    "import pandas as pd\n",
    "%matplotlib inline\n",
    "import matplotlib.pyplot as plt\n",
    "import networkx as nx\n",
    "from operator import add\n",
    "from copy import deepcopy\n",
    "import time\n",
    "from IPython.display import HTML\n",
    "from pyspark import SparkContext, SparkConf"
   ]
  },
  {
   "cell_type": "markdown",
   "metadata": {},
   "source": [
    "- We load a dataset from the 7 options"
   ]
  },
  {
   "cell_type": "code",
   "execution_count": 86,
   "metadata": {
    "scrolled": true
   },
   "outputs": [
    {
     "name": "stdout",
     "output_type": "stream",
     "text": [
      "<class 'numpy.ndarray'>\n",
      "[[   1  701]\n",
      " [   1 1673]\n",
      " [   1 1800]\n",
      " [   1 2914]\n",
      " [   1 7018]]\n"
     ]
    }
   ],
   "source": [
    "# Load a dataset from the 7 options\n",
    "\n",
    "#file = 'test.txt'  # 21 nodes,31 edges\n",
    "#file = 'soc-karate.txt'  # 34 nodes,78 edges\n",
    "file = 'Test100.txt'  # 103 nodes,239 edges\n",
    "#file = 'soc-ANU-residence_without_weights.txt'  # 217 nodes, 1839 edges\n",
    "#file = 'soc-physicians.txt'  # 241 nodes, 923 edges\n",
    "#file = 'ca-GrQc_small.txt'  # 639 nodes, 617 edges\n",
    "#file = 'email-Eu-core.txt'  # 986 nodes, 16064 edges\n",
    "\n",
    "data = np.loadtxt('./Data/' + file, dtype='uint16')\n",
    "\n",
    "print(type(data))\n",
    "print(data[:5])  # Display the first 5 rows of the loaded dataset"
   ]
  },
  {
   "cell_type": "code",
   "execution_count": 87,
   "metadata": {},
   "outputs": [],
   "source": [
    "# Define dictionaries to store execution time histories.\n",
    "# We use them in 4. Result and Discussion to draw result graphs.\n",
    "try:  # Do nothing if these variables are already defined\n",
    "    stage_time_dict\n",
    "    total_time_dict\n",
    "except NameError:\n",
    "    stage_time_dict = {}\n",
    "    total_time_dict = {}"
   ]
  },
  {
   "cell_type": "markdown",
   "metadata": {},
   "source": [
    "<a id='Spark Configuration'></a>"
   ]
  },
  {
   "cell_type": "markdown",
   "metadata": {},
   "source": [
    "### 3.1. Spark Configuration\n",
    "- We first start SparkContext by specifying the number of threads to be used.\n",
    "- (After running this cell, in case of re-execution, re-execute from <a href='#Adjacency List Creation'>here</a>.)"
   ]
  },
  {
   "cell_type": "code",
   "execution_count": 124,
   "metadata": {},
   "outputs": [
    {
     "data": {
      "text/html": [
       "\n",
       "        <div>\n",
       "            <p><b>SparkContext</b></p>\n",
       "\n",
       "            <p><a href=\"http://localhost:4040\">Spark UI</a></p>\n",
       "\n",
       "            <dl>\n",
       "              <dt>Version</dt>\n",
       "                <dd><code>v2.4.0</code></dd>\n",
       "              <dt>Master</dt>\n",
       "                <dd><code>local[4]</code></dd>\n",
       "              <dt>AppName</dt>\n",
       "                <dd><code>ELTDM</code></dd>\n",
       "            </dl>\n",
       "        </div>\n",
       "        "
      ],
      "text/plain": [
       "<SparkContext master=local[4] appName=ELTDM>"
      ]
     },
     "execution_count": 124,
     "metadata": {},
     "output_type": "execute_result"
    }
   ],
   "source": [
    "# Stop SparkContext if it is already running\n",
    "try:\n",
    "    sc.stop()\n",
    "except NameError:\n",
    "    pass\n",
    "\n",
    "configuration = (SparkConf()\n",
    "        .setMaster(\"local[4]\")  # Specify the number of threads to be used\n",
    "        .setAppName(\"ELTDM\")\n",
    "        .set('spark.executor.memory', '1g')\n",
    "        .set('spark.driver.memory', '1g')\n",
    "        .set('spark.driver.host', 'localhost'))\n",
    "sc = SparkContext(conf = configuration)\n",
    "nb_thread = sc.defaultParallelism\n",
    "sc"
   ]
  },
  {
   "cell_type": "code",
   "execution_count": 125,
   "metadata": {},
   "outputs": [
    {
     "data": {
      "text/plain": [
       "4"
      ]
     },
     "execution_count": 125,
     "metadata": {},
     "output_type": "execute_result"
    }
   ],
   "source": [
    "sc.defaultParallelism"
   ]
  },
  {
   "cell_type": "code",
   "execution_count": 126,
   "metadata": {
    "scrolled": true
   },
   "outputs": [
    {
     "data": {
      "text/plain": [
       "[('spark.master', 'local[4]'),\n",
       " ('spark.executor.memory', '1g'),\n",
       " ('spark.rdd.compress', 'True'),\n",
       " ('spark.app.name', 'ELTDM'),\n",
       " ('spark.driver.port', '54651'),\n",
       " ('spark.serializer.objectStreamReset', '100'),\n",
       " ('spark.executor.id', 'driver'),\n",
       " ('spark.submit.deployMode', 'client'),\n",
       " ('spark.driver.host', 'localhost'),\n",
       " ('spark.app.id', 'local-1550685975052'),\n",
       " ('spark.driver.memory', '1g'),\n",
       " ('spark.ui.showConsoleProgress', 'true')]"
      ]
     },
     "execution_count": 126,
     "metadata": {},
     "output_type": "execute_result"
    }
   ],
   "source": [
    "sc._conf.getAll()"
   ]
  },
  {
   "cell_type": "markdown",
   "metadata": {},
   "source": [
    "### 3.2. Data Preparation\n",
    "- Before proceeding, we clean up the dataset (edge list) according to the below three criteria:\n",
    "    1. Put the node with smaller ID to the left for each edge data (e.g. [3 1] -> [1 3]) (undirectional network)\n",
    "    2. Filter out self-edge data (e.g. [2 2] -> delete)\n",
    "    3. Remove duplicate edges"
   ]
  },
  {
   "cell_type": "code",
   "execution_count": 133,
   "metadata": {},
   "outputs": [
    {
     "name": "stdout",
     "output_type": "stream",
     "text": [
      "<class 'list'>\n"
     ]
    }
   ],
   "source": [
    "# Clean up the edge list\n",
    "rdd = sc.parallelize(data, numSlices=100)\n",
    "d = rdd.map(lambda x: x if x[0] < x[1] else [x[1], x[0]]  # Criterion 1\n",
    "           ).filter(lambda x: x[0] != x[1]).collect()  # Criterion 2\n",
    "d = list(set(map(tuple, d)))  # Criterion 3\n",
    "d = list(map(list, d))\n",
    "print(type(d))"
   ]
  },
  {
   "cell_type": "code",
   "execution_count": 134,
   "metadata": {},
   "outputs": [
    {
     "name": "stdout",
     "output_type": "stream",
     "text": [
      "The data contains 103 distinct nodes, and 239 distinct edges\n"
     ]
    }
   ],
   "source": [
    "# Save the original node&edge information\n",
    "nodes = list(set([n1 for n1, n2 in d] + [n2 for n1, n2 in d]))\n",
    "nb_edges_initial = len(d)\n",
    "\n",
    "print('The data contains %d distinct nodes, and %d distinct edges' % (len(nodes), nb_edges_initial))"
   ]
  },
  {
   "cell_type": "markdown",
   "metadata": {},
   "source": [
    "- Let's visualise the initial network of the dataset.\n",
    "- We can confirm that the nodeId=1 (instructor) and nodeId=33 (captain), the leader of each of the two factions, have many edges (friendships) connected to other nodes (members)."
   ]
  },
  {
   "cell_type": "markdown",
   "metadata": {},
   "source": [
    "<a id='Adjacency List Creation'></a>"
   ]
  },
  {
   "cell_type": "code",
   "execution_count": 135,
   "metadata": {},
   "outputs": [
    {
     "data": {
      "image/png": "[encoded data removed]",
      "text/plain": [
       "<Figure size 432x288 with 1 Axes>"
      ]
     },
     "metadata": {},
     "output_type": "display_data"
    }
   ],
   "source": [
    "# Visualisation of the graph\n",
    "n_size = 5  # node size: 200 for benckmark network\n",
    "f_size = 8  # font size: 12 for benckmark network\n",
    "l_width = 0.2  # edge width: 1.0 for benckmark network\n",
    "\n",
    "def draw_initial_graph(graph):\n",
    "    \n",
    "    # Create networkx graph\n",
    "    G=nx.Graph()\n",
    "    \n",
    "    # Add nodes\n",
    "    for node in nodes:\n",
    "        G.add_node(node)\n",
    "        \n",
    "    # Add edges\n",
    "    for edge in graph:\n",
    "        G.add_edge(edge[0], edge[1])\n",
    "        \n",
    "    # Save the positions of the nodes\n",
    "    pos=nx.get_node_attributes(G,'pos')\n",
    "\n",
    "    # Configure the graph\n",
    "    pos = nx.spring_layout(G)\n",
    "    nx.draw(G, \n",
    "            pos, \n",
    "            with_labels = False,\n",
    "            font_size = f_size,\n",
    "            width= l_width,\n",
    "            node_size = n_size,\n",
    "            node_color = 'lightgreen', edge_color = 'gray', font_color = 'gray')\n",
    "    \n",
    "    # Save and display the graph\n",
    "    plt.suptitle('Pre Round 1')\n",
    "    plt.savefig('./Data/Figures/Post_Round_00.png')\n",
    "    plt.show()\n",
    "    plt.close()\n",
    "    return pos\n",
    "\n",
    "np.random.seed(seed=97)\n",
    "pos = draw_initial_graph(d)  # Save the initial node positions"
   ]
  },
  {
   "cell_type": "markdown",
   "metadata": {},
   "source": [
    "(In case of re-execution, run the below 3 cells.)"
   ]
  },
  {
   "cell_type": "code",
   "execution_count": 136,
   "metadata": {},
   "outputs": [
    {
     "name": "stdout",
     "output_type": "stream",
     "text": [
      "Sample: Adjacency list of origin node ID 1 is [1, 7170, 11015, 1800, 1673, 2828, 5006, 6301, 286, 293, 6453, 701, 6461, 1740, 209, 1239, 11354, 2914, 3561, 7018, 7914, 2685]\n"
     ]
    }
   ],
   "source": [
    "# Make a list of adjacency lists\n",
    "# The first element of each adjacency list denotes the node of origin\n",
    "adj_list = []\n",
    "\n",
    "for n in nodes:\n",
    "    \n",
    "    adj = []\n",
    "\n",
    "    # If a node in a edge data is the origin (n),\n",
    "    # add the connected node to its adjacency list\n",
    "    for i in range(len(d)):\n",
    "        if d[i][0] == n:\n",
    "            adj.append(d[i][1])\n",
    "        if d[i][1] == n:\n",
    "            adj.append(d[i][0])\n",
    "    \n",
    "    adj = list(set(adj)) \n",
    "    adj.insert(0, n)  # Label the adjacency list with the node ID of origin\n",
    "    adj_list.append(adj)\n",
    "\n",
    "print('Sample: Adjacency list of origin node ID %d is %s' %(adj_list[0][0], adj_list[0]))"
   ]
  },
  {
   "cell_type": "markdown",
   "metadata": {},
   "source": [
    "- The format of tuple is : (targetId, sourceId, distance, 'status', weight, [pathInfo], [adjList])"
   ]
  },
  {
   "cell_type": "code",
   "execution_count": 137,
   "metadata": {},
   "outputs": [
    {
     "name": "stdout",
     "output_type": "stream",
     "text": [
      "Sample: the first tuple is [1, 1, 0, 'a', 1, [], [7170, 11015, 1800, 1673, 2828, 5006, 6301, 286, 293, 6453, 701, 6461, 1740, 209, 1239, 11354, 2914, 3561, 7018, 7914, 2685]]\n"
     ]
    }
   ],
   "source": [
    "# Make tuple for each node\n",
    "class tuples():\n",
    "    def __init__(self, targetId, sourceId, distance, status, weight, pathInfo, adjList) :\n",
    "        self.targetId = targetId\n",
    "        self.sourceId = sourceId\n",
    "        self.distance = distance\n",
    "        self.status = status\n",
    "        self.weight = weight\n",
    "        self.pathInfo = pathInfo\n",
    "        self.adjList = adjList\n",
    "\n",
    "network = []\n",
    "\n",
    "for n in nodes:\n",
    "    \n",
    "    # Create tuples\n",
    "    v = tuples(targetId = n, sourceId = n, distance = 0, status = 'a', weight = 1, pathInfo = [], adjList = [])\n",
    "    \n",
    "    # Fill in adjList\n",
    "    for i in range(len(adj_list)):\n",
    "        if adj_list[i][0] == n:\n",
    "            v.adjList = adj_list[i][1:len(adj_list[i])]\n",
    "            break\n",
    "            \n",
    "    network.append([v.targetId, v.sourceId, v.distance, v.status, v.weight, v.pathInfo, v.adjList])\n",
    "\n",
    "print('Sample: the first tuple is %s' %network[0])"
   ]
  },
  {
   "cell_type": "markdown",
   "metadata": {},
   "source": [
    "- Although it is not necessary to convert the input of the initial Stage1 Map into key-value format, we make this conversion in order to be able to put the output of the Stage4 Reduce directly to the Stage1 Map of the next round."
   ]
  },
  {
   "cell_type": "code",
   "execution_count": 138,
   "metadata": {},
   "outputs": [],
   "source": [
    "# Key-value conversion\n",
    "rdd = sc.parallelize(network, numSlices=100)\n",
    "rdd = rdd.map(lambda x: (x[0], x[1:]))\n",
    "output = rdd.collect()"
   ]
  },
  {
   "cell_type": "markdown",
   "metadata": {},
   "source": [
    "(In case of re-execution, go to <a href='#Rounds Stage1-4'> 3.8. Rounds Stage1-4</a>)"
   ]
  },
  {
   "cell_type": "markdown",
   "metadata": {},
   "source": [
    "### 3.3. Stage 1\n",
    "- In this stage, the shortest paths between every pair of nodes in the network are calculated.\n",
    "- This Map-Reduce stage (stage 1) repeats until all tuples have 'i' (inactive) for status.\n",
    "- The outcome of the iteration of this stage should give a list of tuples which tells the shortest paths between every pair of nodes in the network.\n"
   ]
  },
  {
   "cell_type": "markdown",
   "metadata": {},
   "source": [
    "#### Map "
   ]
  },
  {
   "cell_type": "markdown",
   "metadata": {},
   "source": [
    "- In the Map operation, the frontiers are expanded from every node to its adjacent nodes.\n",
    "- If $status$ is 'a' (active), status is changed to 'i' (inactive), 1 is added to $distance$ and $targetId$ is added to $pathInfo$.\n",
    "- In addition, new active tuples are generated by assigning each node in $adjList$ to $targetId$, with $distance$ and $pathInfo$ equal to those of the original tuple.\n",
    "- Thus, this Map is characterised by **Breadth First Search**."
   ]
  },
  {
   "cell_type": "code",
   "execution_count": 139,
   "metadata": {},
   "outputs": [],
   "source": [
    "def stage1_map(p):  \n",
    "    result = []\n",
    "    if p[1][2] == 'a':\n",
    "        p[1][2] = 'i'\n",
    "        p[1][1] += 1\n",
    "        p[1][4].append(p[0])\n",
    "        x = deepcopy(p)\n",
    "        result.append(x)\n",
    "        temp = p[1][5].copy()\n",
    "        for i in range(len(temp)):\n",
    "            k = temp[i]\n",
    "            p[1][2] = 'a'\n",
    "            p[1][5] = []\n",
    "            y = deepcopy(p)\n",
    "            result.append((k, y[1]))\n",
    "        return result\n",
    "    else:\n",
    "        els = deepcopy(p)\n",
    "        result.append(els)\n",
    "        return result"
   ]
  },
  {
   "cell_type": "markdown",
   "metadata": {},
   "source": [
    "#### Reduce "
   ]
  },
  {
   "cell_type": "markdown",
   "metadata": {},
   "source": [
    "- In this Reduce operation, among the tuples sharing $sourceId$ and $targetId$, only the tuple that has the minimum value of distance survices.\n",
    "- If two or more tuples have the same minimum, $weight$ is changed to the number of such tuples to remember the multiplicity of the shortest path.\n",
    "<br />\n",
    "<br />\n",
    "- This Reduce part consists of 6 steps:  \n",
    "1) Add *sourceId* to key  \n",
    "2) Aggregate the values that belong to the same key  \n",
    "3) Take only values that have the shortest distance in the same key  \n",
    "4) Replace *weight* of such values $\\in minList$ with the size of $minList$  \n",
    "5) Flatten values and list the tuples  \n",
    "6) Fill in any empty adjList"
   ]
  },
  {
   "cell_type": "code",
   "execution_count": 140,
   "metadata": {},
   "outputs": [],
   "source": [
    "def join(x, y):\n",
    "    # 4 conditional statements below to join values\n",
    "    # with correct level of nesting\n",
    "    if (type(x[0]) is list) and (type(y[0]) is not list):\n",
    "        return x+[y]\n",
    "    elif (type(x[0]) is not list) and (type(y[0]) is list):\n",
    "        return [x]+y\n",
    "    elif (type(x[0]) is not list) and (type(y[0]) is not list):\n",
    "        return [x]+[y]\n",
    "    else:\n",
    "        return x+y\n",
    "    isinstance(x[0], int)"
   ]
  },
  {
   "cell_type": "code",
   "execution_count": 141,
   "metadata": {},
   "outputs": [],
   "source": [
    "def stage1_reduce(x):\n",
    "    if type(x[1][0]) is list:\n",
    "        m = x[1][0][0]\n",
    "        for s in range(len(x[1])):\n",
    "            if x[1][s][0] < m:\n",
    "                m = x[1][s][0]\n",
    "        minList = []\n",
    "        # Drop tuple(s) with non-shortest distance\n",
    "        for s in range(len(x[1])):\n",
    "            if x[1][s][0] == m:\n",
    "                minList.append(x[1][s])\n",
    "        y = (x[0], minList)\n",
    "        # Update weight\n",
    "        for s in range(len(minList)):\n",
    "            y[1][s][2] = len(minList)\n",
    "        return y\n",
    "    else:\n",
    "        return x"
   ]
  },
  {
   "cell_type": "code",
   "execution_count": 142,
   "metadata": {},
   "outputs": [],
   "source": [
    "def twokeys_to_onekey(x):\n",
    "    k = x[0][0]\n",
    "    v = [x[0][1]]\n",
    "    v.extend(x[1])\n",
    "    return k, v"
   ]
  },
  {
   "cell_type": "markdown",
   "metadata": {},
   "source": [
    "### 3.4. Stage 2\n",
    "- In this stage, the edge betweenneses of all eadges in the network are calculated."
   ]
  },
  {
   "cell_type": "markdown",
   "metadata": {},
   "source": [
    "#### Map & Reduce\n",
    "- In the Map operation, unity is divided to each edge on a shortest path according to the **weight** of the shortest paths sharing **sourceId** and **targetId**.\n",
    "- In the Reduce operation, the contribution of each shortest path is summed up for each stage."
   ]
  },
  {
   "cell_type": "code",
   "execution_count": 143,
   "metadata": {},
   "outputs": [],
   "source": [
    "def stage2_map(x):\n",
    "    edges_on_the_path = []\n",
    "    for i in range(len(x[1][4])-1):\n",
    "        k = (x[1][4][i], x[1][4][i+1])\n",
    "        w = x[1][3]\n",
    "        edges_on_the_path.append((k, 1/w))\n",
    "    return edges_on_the_path"
   ]
  },
  {
   "cell_type": "markdown",
   "metadata": {},
   "source": [
    "### 3.5. Stage 3\n",
    "- In this stage, $k_{iter}$ edges are selected according to edge betweenness. By default, $k_{iter} = 1$."
   ]
  },
  {
   "cell_type": "markdown",
   "metadata": {},
   "source": [
    "#### Map & Reduce"
   ]
  },
  {
   "cell_type": "markdown",
   "metadata": {},
   "source": [
    "- There is no function to be defined here.\n",
    "- Refer to Stage3 of <a href='#Rounds Stage1-4'>4.8. Rounds Stage1-4</a>."
   ]
  },
  {
   "cell_type": "markdown",
   "metadata": {},
   "source": [
    "### 3.6. Stage4\n",
    "- In this stage, the edges selected by Stage 3 are removed from the network. Then, a new set of tuples are generated to reflect the removed edges since edge betweenness needs to be recalculated in the next round."
   ]
  },
  {
   "cell_type": "markdown",
   "metadata": {},
   "source": [
    "#### Map"
   ]
  },
  {
   "cell_type": "code",
   "execution_count": 144,
   "metadata": {},
   "outputs": [],
   "source": [
    "def stage4_map(x):\n",
    "    counter = 0\n",
    "    output = []\n",
    "    for i in range(len(distributed_cache)):\n",
    "        if x[0] in distributed_cache[i][0]:\n",
    "            counter += 1  # Increase counter if its key is affected by the removal of the edge(s)\n",
    "            c = distributed_cache[i][0][not(distributed_cache[i][0].index(x[0]))]  # Take the corresponding node\n",
    "            try:\n",
    "                x[1][5].remove(c)  # Remove if the corresponding node exists in the adjList\n",
    "            except ValueError:\n",
    "                pass  # Pass otherwise\n",
    "    if counter == 0:\n",
    "        return [tuple(x)]\n",
    "    else:\n",
    "        new = (x[1][0], [x[1][0], 0, 'a', 1, [], []])\n",
    "        return x, new"
   ]
  },
  {
   "cell_type": "markdown",
   "metadata": {},
   "source": [
    "#### Reduce"
   ]
  },
  {
   "cell_type": "code",
   "execution_count": 145,
   "metadata": {},
   "outputs": [],
   "source": [
    "def stage4_reduce(x, y):\n",
    "    if x[2] == 'a' and y[2] == 'a':\n",
    "        return x\n",
    "    elif x[2] == 'a' and y[2] == 'i':\n",
    "        x[5] = y[5].copy()\n",
    "        return x\n",
    "    elif x[2] == 'i' and y[2] == 'a':\n",
    "        y[5] = x[5].copy()\n",
    "        return y\n",
    "    else:\n",
    "        return x+y\n",
    "def revision(x):  # To flatten the pressed tuples (ones with status i)\n",
    "    tup = []\n",
    "    if len(x[1]) > 6:\n",
    "        for i in range(int(len(x[1])/6)):\n",
    "            tup.append((x[0],x[1][i*6:i*6+6]))\n",
    "        return tup\n",
    "    else:\n",
    "        return [x]"
   ]
  },
  {
   "cell_type": "code",
   "execution_count": 146,
   "metadata": {},
   "outputs": [],
   "source": [
    "def from_tuples_to_edgelist(x):\n",
    "    res = []\n",
    "    for i in range(len(x)):\n",
    "        for j in range(len(x[i][1][5])):\n",
    "            res.append([x[i][0], x[i][1][5][j]])\n",
    "    res = set(map(tuple, res))  # Remove duplicate edges\n",
    "    res = list(res)\n",
    "    result = list(map(list, res))\n",
    "    return result"
   ]
  },
  {
   "cell_type": "code",
   "execution_count": 147,
   "metadata": {},
   "outputs": [],
   "source": [
    "#Visualisation of the graph\n",
    "r = 1\n",
    "def draw_graph(graph, r):\n",
    "    # create networkx graph\n",
    "    G=nx.Graph()\n",
    "    # add nodes\n",
    "    for node in nodes:\n",
    "        G.add_node(node)\n",
    "    # add edges\n",
    "    for edge in graph:\n",
    "        G.add_edge(edge[0], edge[1])\n",
    "    # draw graph\n",
    "    nx.draw(G, pos = pos,\n",
    "            with_labels = True,\n",
    "            font_size = f_size,\n",
    "            widths = l_width,\n",
    "            node_size=n_size,\n",
    "            node_color=\"lightgreen\", edge_color='gray', font_color='gray')\n",
    "    # show graph\n",
    "    t = float(time.time())\n",
    "    plt.suptitle('Post Round ' + str(r))\n",
    "    plt.savefig('./Data/Figures/Post_Round_%02d.png' %r)"
   ]
  },
  {
   "cell_type": "markdown",
   "metadata": {},
   "source": [
    "### 3.7. Modularity Q\n",
    "- In order to measure the goodness of a community we find, we employ Modularity Q proposed by [*Girvan and Newman (2004)*.](http://www.cse.cuhk.edu.hk/~cslui/CMSC5734/newman_community_struct_networks_phys_rev.pdf)\n",
    "\n",
    "- Modularity Q measures the strengh of the community structure of the network. We use the following definition of modularity among several options:\n",
    "\n",
    "$$Q=\\sum_{i}\\{e_{ii}-(\\sum_{j}e_{ij})^2\\} = \\mathrm{Tr}\\ {\\bf e} - \\|{\\bf e}^2\\|$$\n",
    "\n",
    "- Where “e” is a symmetric matrix of k communities, whose element eij is the fraction of all edges in the network that link nodes in community i to nodes in community j. This quantity Q measures the fraction of the edges in the network that connect nodes in the same community (Tr e), i.e. within-community edges, minus the expected value of the same quantity in a network with the same community divisions but random connections between the nodes ||e²||. \n",
    "- If the number of within-community edges is no better than random, we will get Q=0. Values approaching Q=1, which is the maximum, indicate networks with strong community structure. In practice, values for such networks typically fall in the range from about 0.3 to 0.7. Higher values are rare. \n",
    "- We will calculate Q for each split of a network into communities and look for local peaks in its value, which indicate particularly satisfactory splits."
   ]
  },
  {
   "cell_type": "code",
   "execution_count": 148,
   "metadata": {},
   "outputs": [],
   "source": [
    "def Q_modularity(elist, nodes):\n",
    "\n",
    "# Read and clean up edges\n",
    "    c = sc.parallelize(elist, numSlices=100)\n",
    "    c = c.map(lambda x: x if x[0] < x[1] else [x[1], x[0]])\\\n",
    "        .filter(lambda x: x[0] != x[1])\\\n",
    "        .collect()  # Put a smaller ID to the left of the edge and remove self-connecting edge\n",
    "    c = set(map(tuple, c))  # Remove duplicate edges\n",
    "    c = list(c)\n",
    "    c = list(map(list, c))\n",
    "\n",
    "# Make a graph for NetworkX library\n",
    "    H=nx.Graph()\n",
    "    # add nodes\n",
    "    for node in nodes:\n",
    "        H.add_node(node)\n",
    "    # add edges\n",
    "    for edge in c:\n",
    "        H.add_edge(edge[0], edge[1])\n",
    "\n",
    "# Make a community dictionary from the edge list {nodeId: communityId}\n",
    "    com_dic = {}\n",
    "    com_id = 0\n",
    "\n",
    "    for n in nodes:\n",
    "        try:\n",
    "            com_dic[n]\n",
    "        except KeyError:\n",
    "            com_id += 1\n",
    "            com_dic[n] = com_id\n",
    "            for m in nodes:\n",
    "                if (n != m) and (nx.has_path(H, m, n)):  # has_path(G, source, target) returns True if a path exists\n",
    "                    try:\n",
    "                        com_dic[m]\n",
    "                    except KeyError:\n",
    "                        com_dic[m] = com_id\n",
    "\n",
    "    com_ids = list(set(com_dic.values()))\n",
    "    com_ids\n",
    "\n",
    "# Create a matrix `e` to calculate Q\n",
    "    e = np.matrix([[0.]*len(com_ids)]*len(com_ids))\n",
    "\n",
    "# Fill in `e` \n",
    "    for i in range(len(com_ids)):\n",
    "        for j in range(len(com_ids)):\n",
    "            keys_i = [k for k, v in com_dic.items() if v == i+1]\n",
    "            keys_j = [k for k, v in com_dic.items() if v == j+1]\n",
    "            if i == j:  # Fraction of edges that are within the same community\n",
    "                nb_within = 0\n",
    "                for edge in c:\n",
    "                    if set(edge) <= set(keys_i):\n",
    "                        nb_within += 1\n",
    "                e[i, i] = nb_within/nb_edges_initial\n",
    "            elif i < j:  # Fraction of edges that cross between community i and community j\n",
    "                nb_cross = 0\n",
    "                for edge in d:\n",
    "                    if (({edge[0]} <= set(keys_i)) and ({edge[1]} <= set(keys_j))) or (({edge[0]} <= set(keys_j)) and ({edge[1]} <= set(keys_i))):\n",
    "                        nb_cross += 1\n",
    "                e[i, j] = nb_cross/nb_edges_initial\n",
    "                e[j, i] = nb_cross/nb_edges_initial\n",
    "\n",
    "    a = np.ndarray.sum(e, axis=1)  \n",
    "    a = np.squeeze(np.asarray(a))\n",
    "\n",
    "# Calculate Q \n",
    "    Q = float(e.trace()) - np.dot(a, a)\n",
    "\n",
    "    return Q, com_dic"
   ]
  },
  {
   "cell_type": "markdown",
   "metadata": {},
   "source": [
    "<a id='Rounds Stage1-4'></a>"
   ]
  },
  {
   "cell_type": "markdown",
   "metadata": {},
   "source": [
    "### 3.8. Rounds Stage1-4\n",
    "- Finally we run the code using the functions defined above.\n",
    "- One round means one iteration over the Stage 1-4."
   ]
  },
  {
   "cell_type": "markdown",
   "metadata": {},
   "source": [
    "(In case of re-execuiton, click 'Cell' then 'Run All Below')"
   ]
  },
  {
   "cell_type": "code",
   "execution_count": 149,
   "metadata": {
    "scrolled": false
   },
   "outputs": [
    {
     "name": "stdout",
     "output_type": "stream",
     "text": [
      "Data contains 103 nodes, and 239 edges.\n",
      "nb_thread = 4 \n",
      "\n",
      "ROUND 1 STARTED!\n",
      "  Stage 1 iteration 8 finished. There are 0 / 23311 active tuples left.             \n",
      "  Stage 1 finished..  Stage 2 finished..  Stage 3 finished..  Stage 4 finished..\n",
      "  Round 1 took 207 seconds ( 3 mins ).\n",
      "  ( Q: 0, Removed edge(s): [((701, 7018), 302.31031142770274)] )\n",
      "ROUND 2 STARTED!\n",
      "  Stage 1 iteration 8 finished. There are 0 / 25999 active tuples left.             \n",
      "  Stage 1 finished..  Stage 2 finished..  Stage 3 finished..  Stage 4 finished..\n",
      "  Round 2 took 325 seconds ( 5 mins ).\n",
      "  ( Q: 0, Removed edge(s): [((7018, 7170), 230.697506148822)] )\n",
      "ROUND 3 STARTED!\n",
      "  Stage 1 iteration 8 finished. There are 0 / 26269 active tuples left.             \n",
      "  Stage 1 finished..  Stage 2 finished..  Stage 3 finished..  Stage 4 finished..\n",
      "  Round 3 took 432 seconds ( 7 mins ).\n",
      "  ( Q: 0, Removed edge(s): [((145, 293), 293.79796314796306)] )\n",
      "ROUND 4 STARTED!\n"
     ]
    },
    {
     "ename": "KeyboardInterrupt",
     "evalue": "",
     "output_type": "error",
     "traceback": [
      "\u001b[0;31m---------------------------------------------------------------------------\u001b[0m",
      "\u001b[0;31mKeyboardInterrupt\u001b[0m                         Traceback (most recent call last)",
      "\u001b[0;32m<ipython-input-149-c23337aadb3d>\u001b[0m in \u001b[0;36m<module>\u001b[0;34m\u001b[0m\n\u001b[1;32m     40\u001b[0m         \u001b[0;31m#print(\" Now collecting Reduce result..\")\u001b[0m\u001b[0;34m\u001b[0m\u001b[0;34m\u001b[0m\u001b[0m\n\u001b[1;32m     41\u001b[0m         \u001b[0mt1\u001b[0m \u001b[0;34m=\u001b[0m \u001b[0mtime\u001b[0m\u001b[0;34m.\u001b[0m\u001b[0mtime\u001b[0m\u001b[0;34m(\u001b[0m\u001b[0;34m)\u001b[0m\u001b[0;34m\u001b[0m\u001b[0m\n\u001b[0;32m---> 42\u001b[0;31m         \u001b[0mrecord\u001b[0m \u001b[0;34m=\u001b[0m \u001b[0mred1_weighted\u001b[0m\u001b[0;34m.\u001b[0m\u001b[0mmap\u001b[0m\u001b[0;34m(\u001b[0m\u001b[0mtwokeys_to_onekey\u001b[0m\u001b[0;34m)\u001b[0m\u001b[0;34m.\u001b[0m\u001b[0mcollect\u001b[0m\u001b[0;34m(\u001b[0m\u001b[0;34m)\u001b[0m\u001b[0;34m\u001b[0m\u001b[0m\n\u001b[0m\u001b[1;32m     43\u001b[0m         \u001b[0mt2\u001b[0m \u001b[0;34m=\u001b[0m \u001b[0mtime\u001b[0m\u001b[0;34m.\u001b[0m\u001b[0mtime\u001b[0m\u001b[0;34m(\u001b[0m\u001b[0;34m)\u001b[0m\u001b[0;34m\u001b[0m\u001b[0m\n\u001b[1;32m     44\u001b[0m         \u001b[0mt_ac1\u001b[0m \u001b[0;34m+=\u001b[0m \u001b[0mt2\u001b[0m\u001b[0;34m-\u001b[0m\u001b[0mt1\u001b[0m\u001b[0;34m\u001b[0m\u001b[0m\n",
      "\u001b[0;32m/Library/Frameworks/Python.framework/Versions/3.6/lib/python3.6/site-packages/pyspark/rdd.py\u001b[0m in \u001b[0;36mcollect\u001b[0;34m(self)\u001b[0m\n\u001b[1;32m    814\u001b[0m         \"\"\"\n\u001b[1;32m    815\u001b[0m         \u001b[0;32mwith\u001b[0m \u001b[0mSCCallSiteSync\u001b[0m\u001b[0;34m(\u001b[0m\u001b[0mself\u001b[0m\u001b[0;34m.\u001b[0m\u001b[0mcontext\u001b[0m\u001b[0;34m)\u001b[0m \u001b[0;32mas\u001b[0m \u001b[0mcss\u001b[0m\u001b[0;34m:\u001b[0m\u001b[0;34m\u001b[0m\u001b[0m\n\u001b[0;32m--> 816\u001b[0;31m             \u001b[0msock_info\u001b[0m \u001b[0;34m=\u001b[0m \u001b[0mself\u001b[0m\u001b[0;34m.\u001b[0m\u001b[0mctx\u001b[0m\u001b[0;34m.\u001b[0m\u001b[0m_jvm\u001b[0m\u001b[0;34m.\u001b[0m\u001b[0mPythonRDD\u001b[0m\u001b[0;34m.\u001b[0m\u001b[0mcollectAndServe\u001b[0m\u001b[0;34m(\u001b[0m\u001b[0mself\u001b[0m\u001b[0;34m.\u001b[0m\u001b[0m_jrdd\u001b[0m\u001b[0;34m.\u001b[0m\u001b[0mrdd\u001b[0m\u001b[0;34m(\u001b[0m\u001b[0;34m)\u001b[0m\u001b[0;34m)\u001b[0m\u001b[0;34m\u001b[0m\u001b[0m\n\u001b[0m\u001b[1;32m    817\u001b[0m         \u001b[0;32mreturn\u001b[0m \u001b[0mlist\u001b[0m\u001b[0;34m(\u001b[0m\u001b[0m_load_from_socket\u001b[0m\u001b[0;34m(\u001b[0m\u001b[0msock_info\u001b[0m\u001b[0;34m,\u001b[0m \u001b[0mself\u001b[0m\u001b[0;34m.\u001b[0m\u001b[0m_jrdd_deserializer\u001b[0m\u001b[0;34m)\u001b[0m\u001b[0;34m)\u001b[0m\u001b[0;34m\u001b[0m\u001b[0m\n\u001b[1;32m    818\u001b[0m \u001b[0;34m\u001b[0m\u001b[0m\n",
      "\u001b[0;32m/Library/Frameworks/Python.framework/Versions/3.6/lib/python3.6/site-packages/py4j/java_gateway.py\u001b[0m in \u001b[0;36m__call__\u001b[0;34m(self, *args)\u001b[0m\n\u001b[1;32m   1253\u001b[0m             \u001b[0mproto\u001b[0m\u001b[0;34m.\u001b[0m\u001b[0mEND_COMMAND_PART\u001b[0m\u001b[0;34m\u001b[0m\u001b[0m\n\u001b[1;32m   1254\u001b[0m \u001b[0;34m\u001b[0m\u001b[0m\n\u001b[0;32m-> 1255\u001b[0;31m         \u001b[0manswer\u001b[0m \u001b[0;34m=\u001b[0m \u001b[0mself\u001b[0m\u001b[0;34m.\u001b[0m\u001b[0mgateway_client\u001b[0m\u001b[0;34m.\u001b[0m\u001b[0msend_command\u001b[0m\u001b[0;34m(\u001b[0m\u001b[0mcommand\u001b[0m\u001b[0;34m)\u001b[0m\u001b[0;34m\u001b[0m\u001b[0m\n\u001b[0m\u001b[1;32m   1256\u001b[0m         return_value = get_return_value(\n\u001b[1;32m   1257\u001b[0m             answer, self.gateway_client, self.target_id, self.name)\n",
      "\u001b[0;32m/Library/Frameworks/Python.framework/Versions/3.6/lib/python3.6/site-packages/py4j/java_gateway.py\u001b[0m in \u001b[0;36msend_command\u001b[0;34m(self, command, retry, binary)\u001b[0m\n\u001b[1;32m    983\u001b[0m         \u001b[0mconnection\u001b[0m \u001b[0;34m=\u001b[0m \u001b[0mself\u001b[0m\u001b[0;34m.\u001b[0m\u001b[0m_get_connection\u001b[0m\u001b[0;34m(\u001b[0m\u001b[0;34m)\u001b[0m\u001b[0;34m\u001b[0m\u001b[0m\n\u001b[1;32m    984\u001b[0m         \u001b[0;32mtry\u001b[0m\u001b[0;34m:\u001b[0m\u001b[0;34m\u001b[0m\u001b[0m\n\u001b[0;32m--> 985\u001b[0;31m             \u001b[0mresponse\u001b[0m \u001b[0;34m=\u001b[0m \u001b[0mconnection\u001b[0m\u001b[0;34m.\u001b[0m\u001b[0msend_command\u001b[0m\u001b[0;34m(\u001b[0m\u001b[0mcommand\u001b[0m\u001b[0;34m)\u001b[0m\u001b[0;34m\u001b[0m\u001b[0m\n\u001b[0m\u001b[1;32m    986\u001b[0m             \u001b[0;32mif\u001b[0m \u001b[0mbinary\u001b[0m\u001b[0;34m:\u001b[0m\u001b[0;34m\u001b[0m\u001b[0m\n\u001b[1;32m    987\u001b[0m                 \u001b[0;32mreturn\u001b[0m \u001b[0mresponse\u001b[0m\u001b[0;34m,\u001b[0m \u001b[0mself\u001b[0m\u001b[0;34m.\u001b[0m\u001b[0m_create_connection_guard\u001b[0m\u001b[0;34m(\u001b[0m\u001b[0mconnection\u001b[0m\u001b[0;34m)\u001b[0m\u001b[0;34m\u001b[0m\u001b[0m\n",
      "\u001b[0;32m/Library/Frameworks/Python.framework/Versions/3.6/lib/python3.6/site-packages/py4j/java_gateway.py\u001b[0m in \u001b[0;36msend_command\u001b[0;34m(self, command)\u001b[0m\n\u001b[1;32m   1150\u001b[0m \u001b[0;34m\u001b[0m\u001b[0m\n\u001b[1;32m   1151\u001b[0m         \u001b[0;32mtry\u001b[0m\u001b[0;34m:\u001b[0m\u001b[0;34m\u001b[0m\u001b[0m\n\u001b[0;32m-> 1152\u001b[0;31m             \u001b[0manswer\u001b[0m \u001b[0;34m=\u001b[0m \u001b[0msmart_decode\u001b[0m\u001b[0;34m(\u001b[0m\u001b[0mself\u001b[0m\u001b[0;34m.\u001b[0m\u001b[0mstream\u001b[0m\u001b[0;34m.\u001b[0m\u001b[0mreadline\u001b[0m\u001b[0;34m(\u001b[0m\u001b[0;34m)\u001b[0m\u001b[0;34m[\u001b[0m\u001b[0;34m:\u001b[0m\u001b[0;34m-\u001b[0m\u001b[0;36m1\u001b[0m\u001b[0;34m]\u001b[0m\u001b[0;34m)\u001b[0m\u001b[0;34m\u001b[0m\u001b[0m\n\u001b[0m\u001b[1;32m   1153\u001b[0m             \u001b[0mlogger\u001b[0m\u001b[0;34m.\u001b[0m\u001b[0mdebug\u001b[0m\u001b[0;34m(\u001b[0m\u001b[0;34m\"Answer received: {0}\"\u001b[0m\u001b[0;34m.\u001b[0m\u001b[0mformat\u001b[0m\u001b[0;34m(\u001b[0m\u001b[0manswer\u001b[0m\u001b[0;34m)\u001b[0m\u001b[0;34m)\u001b[0m\u001b[0;34m\u001b[0m\u001b[0m\n\u001b[1;32m   1154\u001b[0m             \u001b[0;32mif\u001b[0m \u001b[0manswer\u001b[0m\u001b[0;34m.\u001b[0m\u001b[0mstartswith\u001b[0m\u001b[0;34m(\u001b[0m\u001b[0mproto\u001b[0m\u001b[0;34m.\u001b[0m\u001b[0mRETURN_MESSAGE\u001b[0m\u001b[0;34m)\u001b[0m\u001b[0;34m:\u001b[0m\u001b[0;34m\u001b[0m\u001b[0m\n",
      "\u001b[0;32m/Library/Frameworks/Python.framework/Versions/3.6/lib/python3.6/socket.py\u001b[0m in \u001b[0;36mreadinto\u001b[0;34m(self, b)\u001b[0m\n\u001b[1;32m    584\u001b[0m         \u001b[0;32mwhile\u001b[0m \u001b[0;32mTrue\u001b[0m\u001b[0;34m:\u001b[0m\u001b[0;34m\u001b[0m\u001b[0m\n\u001b[1;32m    585\u001b[0m             \u001b[0;32mtry\u001b[0m\u001b[0;34m:\u001b[0m\u001b[0;34m\u001b[0m\u001b[0m\n\u001b[0;32m--> 586\u001b[0;31m                 \u001b[0;32mreturn\u001b[0m \u001b[0mself\u001b[0m\u001b[0;34m.\u001b[0m\u001b[0m_sock\u001b[0m\u001b[0;34m.\u001b[0m\u001b[0mrecv_into\u001b[0m\u001b[0;34m(\u001b[0m\u001b[0mb\u001b[0m\u001b[0;34m)\u001b[0m\u001b[0;34m\u001b[0m\u001b[0m\n\u001b[0m\u001b[1;32m    587\u001b[0m             \u001b[0;32mexcept\u001b[0m \u001b[0mtimeout\u001b[0m\u001b[0;34m:\u001b[0m\u001b[0;34m\u001b[0m\u001b[0m\n\u001b[1;32m    588\u001b[0m                 \u001b[0mself\u001b[0m\u001b[0;34m.\u001b[0m\u001b[0m_timeout_occurred\u001b[0m \u001b[0;34m=\u001b[0m \u001b[0;32mTrue\u001b[0m\u001b[0;34m\u001b[0m\u001b[0m\n",
      "\u001b[0;31mKeyboardInterrupt\u001b[0m: "
     ]
    }
   ],
   "source": [
    "# The main code to repeat Stage1-Stage4\n",
    "\n",
    "print('Data contains %d nodes, and %d edges.' % (len(nodes), nb_edges_initial))\n",
    "print('nb_thread =', nb_thread, '\\n')\n",
    "\n",
    "# Parameter initialisation\n",
    "k_iter = 1  # Number of edges to be removed at each round. (default value = 1)\n",
    "r = 1  # Round\n",
    "removed_edges=[]\n",
    "Q = 0\n",
    "Q_hist = []\n",
    "elist_hist = []\n",
    "community_hist = []\n",
    "t_hist, t_hist_st1, t_hist_st2, t_hist_st3, t_hist_st4, t_hist_round = [], [], [], [], [], []\n",
    "t_ac1, t_ac2, t_ac3 = 0, 0, 0\n",
    "t_initial = time.time()\n",
    "\n",
    "# Loop the rounds as long as Q is positive\n",
    "while Q >= 0:\n",
    "    print(\"ROUND\", r, \"STARTED!\")\n",
    "    \n",
    "## Stage1\n",
    "    t_start = time.time() \n",
    "    t_st1_start = time.time()\n",
    "    act_counter = 1\n",
    "    ite = 1\n",
    "    \n",
    "    while act_counter > 0:  # Repeat Stage1 until all the tuples become inactive state\n",
    "        #print(\"Iteration\", ite, \"started...\")\n",
    "        rdd = sc.parallelize(output, numSlices=100)#.repartition(sc.defaultParallelism * 3)\n",
    "\n",
    "    # <stage1 map>\n",
    "        #print(\" Now doing Map..\")\n",
    "        pos_map1 = rdd.flatMap(stage1_map)\n",
    "    # <stage1 reduce>\n",
    "        #print(\" Now doing Reduce..\")\n",
    "        red1_twokeys = pos_map1.map(lambda x: ((x[0],x[1][0]), x[1][1:]))\n",
    "        red1_grouped = red1_twokeys.reduceByKey(join)\n",
    "        red1_weighted = red1_grouped.map(stage1_reduce)\n",
    "        #print(\" Now collecting Reduce result..\")\n",
    "        t1 = time.time()\n",
    "        record = red1_weighted.map(twokeys_to_onekey).collect()\n",
    "        t2 = time.time()\n",
    "        t_ac1 += t2-t1\n",
    "    # [Checkpoint1]\n",
    "        #print(\"    [Checkpoint1] Collecting Map&Reduce result took\", round(t2-t1, 1), \"seconds (\", round((t2-t1)/60, 1), \"mins ).\")\n",
    "        #print(\" Now flattening Reduce result..\")\n",
    "        t3 = time.time()\n",
    "        \n",
    "        # for-loop to flatten the grouped values (non-parallelized)\n",
    "        new = []\n",
    "        for i in range(len(record)):\n",
    "            if type(record[i][1][1]) is list:\n",
    "                record[i]\n",
    "                key = record[i][0]\n",
    "                srcId = [record[i][1][0]]\n",
    "                others = record[i][1][1:]\n",
    "                for j in range(len(others)):\n",
    "                    s = srcId.copy()\n",
    "                    o = others[j]\n",
    "                    s.extend(o)\n",
    "                    newrec = (key, s)\n",
    "                    new.append(newrec)\n",
    "        pos_red1 = list(filter(lambda item: type(item[1][1]) != list, record))  # Save records with only one value\n",
    "        pos_red1.extend(new)  # Add records which had multiple values\n",
    "        output = pos_red1.copy()\n",
    "        t4 = time.time()\n",
    "        t_ac2 += t4-t3\n",
    "    # [Checkpoint2]\n",
    "        #print(\"    [Checkpoint2] Flattening took\", round(t4-t3, 1), \"seconds (\", round((t4-t3)/60, 1), \"mins ).\")\n",
    "        #print(\" Now finalising Reduce result by filling in adjList..\")\n",
    "        # Fill in adjList before going to next iteration\n",
    "        t5 = time.time()    \n",
    "        for i in range(len(output)):\n",
    "            if output[i][1][5] == []:\n",
    "                for j in range(len(adj_list)):\n",
    "                    if adj_list[j][0] == output[i][0]:\n",
    "                        output[i][1][5] = adj_list[j][1:len(adj_list[j])]\n",
    "                        break\n",
    "        t6 = time.time()\n",
    "        t_ac3 += t6-t5\n",
    "    # [Checkpoint3]\n",
    "        #print(\"    [Checkpoint3] Filling in adjList took\", round(t6-t5, 1), \"seconds (\", round((t6-t5)/60, 1), \"mins ).\")\n",
    "        #print(\" Now iteration\",ite ,\"finished!\")\n",
    "        act_counter = 0\n",
    "        for i in range(len(output)):\n",
    "            if output[i][1][2] == 'a':\n",
    "                act_counter += 1\n",
    "        print(\"\\r  Stage 1 iteration %d finished. There are %d / %d active tuples left.       \"\n",
    "              % (ite, act_counter, len(output)), end=\"\")\n",
    "        ite += 1\n",
    "    stage1_output = output.copy()\n",
    "    t_end = time.time()\n",
    "    elapsed_time = t_end-t_start\n",
    "    elapsed_time_min = elapsed_time/60\n",
    "    print(\"\\n  Stage 1 finished..\", end=\" \")\n",
    "    #print(\"Stage1 execution time was\", round(elapsed_time, 1), \"seconds (\", round(elapsed_time_min, 1), \"mins ).\")\n",
    "    t_st1_end = time.time()\n",
    "\n",
    "## Stage2\n",
    "    t_st2_start = time.time()\n",
    "    pre_map2 = sc.parallelize(stage1_output, numSlices=100)\n",
    "    # Apply Map after filtering out tuples which has single node info and duplicated tuples (as we consider undirected graph network)\n",
    "    pos_map2 = pre_map2.filter(lambda x: x[0] > x[1][0]).flatMap(stage2_map)\n",
    "    # Stage2 Reduce\n",
    "    pos_red2_directed = pos_map2.reduceByKey(add)\n",
    "    # Ignore the order of node ID at each edge and run reduceByKey(add) again\n",
    "    pos_red2 = pos_red2_directed.map(lambda x: ((x[0][1], x[0][0]), x[1]) if x[0][0] > x[0][1] else x).reduceByKey(add)\n",
    "    print(\" Stage 2 finished..\", end=\" \")\n",
    "    t_st2_end = time.time()\n",
    "    \n",
    "## Stage3\n",
    "    # Stage3 Map & Reduce\n",
    "    t_st3_start = time.time()\n",
    "    distributed_cache = pos_red2.map(lambda x: (x[1], x[0])).sortByKey(False).map(lambda x: (x[1], x[0])).take(k_iter)\n",
    "    top5 = pos_red2.map(lambda x: (x[1], x[0])).sortByKey(False).map(lambda x: (x[1], x[0])).take(5)\n",
    "    #print(\"Edge betweenness Score Top 5 is:\", top5)   \n",
    "    removed_edges.append(distributed_cache)\n",
    "    print(\" Stage 3 finished..\", end=\" \")\n",
    "    t_st3_end = time.time()\n",
    "    \n",
    "## Stage4\n",
    "    t_st4_start = time.time()\n",
    "    pos_map4 = pre_map2.flatMap(stage4_map)\n",
    "    pos_red4 = pos_map4.reduceByKey(stage4_reduce).flatMap(revision)\n",
    "    output = pos_red4.collect()\n",
    "    elist = from_tuples_to_edgelist(output)\n",
    "    print(\" Stage 4 finished..\")\n",
    "    t_st4_end = time.time()\n",
    "\n",
    "# Save graph\n",
    "    draw_graph(elist, r)\n",
    "    plt.close()\n",
    "\n",
    "# Update adjacency list \n",
    "    adj_list = []\n",
    "    for i in range(len(output)):\n",
    "        targ = [output[i][0]]\n",
    "        targ.extend(output[i][1][5])\n",
    "        adj_list.append(targ)\n",
    "    adj_list = set(map(tuple, adj_list))  # Remove duplicates\n",
    "    adj_list = list(adj_list)\n",
    "    adj_list = list(map(list, adj_list))\n",
    "    \n",
    "# Calculate Q\n",
    "    Q_fun_result = Q_modularity(elist, nodes)\n",
    "    Q = Q_fun_result[0]\n",
    "    community = Q_fun_result[1]\n",
    "    \n",
    "# Store the time histories\n",
    "    t_hist_st1.append(t_st1_end - t_st1_start)\n",
    "    t_hist_st2.append(t_st2_end - t_st2_start)\n",
    "    t_hist_st3.append(t_st3_end - t_st3_start)\n",
    "    t_hist_st4.append(t_st4_end - t_st4_start)\n",
    "\n",
    "# Store the result histories\n",
    "    Q_hist.append(Q)\n",
    "    elist_hist.append(elist)\n",
    "    community_hist.append(community)\n",
    "    t_hist.append(time.time()-t_initial)\n",
    "    t_r_end = time.time()\n",
    "    t_hist_round.append(t_r_end - t_start)\n",
    "    r_time = t_r_end - t_start\n",
    "    print('  Round %d took %d seconds ( %d mins ).'\n",
    "         % (r, round(r_time, 1), round(r_time/60, 1)))\n",
    "    print('  ( Q: %d, Removed edge(s): %s )'\n",
    "         % (Q, str(distributed_cache)))\n",
    "    \n",
    "    r += 1  # Go to next round\n",
    "\n",
    "# Save the total execution time\n",
    "t_terminal = time.time()\n",
    "total_time = t_terminal - t_initial\n",
    "\n",
    "# Give the summaries\n",
    "print('Since the Q modularity reached a negative value, we ended the calculations.\\n')\n",
    "print('All the ', r-1, 'rounds have finished.')\n",
    "print('Total execution time was %d seconds ( %d mins )\\n'\n",
    "     % (round(total_time, 1), round(total_time/60, 1)))\n",
    "\n",
    "# Checkpoint results (To be deleted after analysing)\n",
    "print('Round-average time for each Stage 1 Checkpoint operation is:')\n",
    "print('  [Checkpoint1] Collecting Map&Reduce result:', round(t_ac1/(r-1), 1), 'seconds (', round(t_ac1/((r-1)*60), 1), 'mins)')\n",
    "print('  [Checkpoint2] Flattening:', round(t_ac2/(r-1), 1), 'seconds (', round(t_ac2/((r-1)*60), 1), 'mins)')\n",
    "print('  [Checkpoint3] Filling in adjList:', round(t_ac3/(r-1), 1), 'seconds (', round(t_ac3/((r-1)*60), 1), 'mins )\\n')\n",
    "\n",
    "# Draw a graph of the modularity Q's evolution\n",
    "x_axis = [x+1 for x in range(r-1)]\n",
    "plt.plot(x_axis, Q_hist)\n",
    "plt.title(\"Evolution of Q\")\n",
    "plt.xlabel(\"Round\")\n",
    "plt.ylabel(\"Q Modularity\")\n",
    "plt.savefig('./Data/Figures/Q_Modularity_evolution_nb_thread' + str(nb_thread) + '.png')\n",
    "plt.show()\n",
    "\n",
    "# Save information on the best community structure\n",
    "Q_best = Q_hist[np.argmax(Q_hist)]\n",
    "r_best = np.argmax(Q_hist) + 1\n",
    "elist_best = elist_hist[np.argmax(Q_hist)]\n",
    "community_best = community_hist[np.argmax(Q_hist)]\n",
    "t_best = t_hist[np.argmax(Q_hist)]\n",
    "\n",
    "# Comment on the best community structure\n",
    "print('Maximum Q was achieved at round %d and its value was %d.\\n' % (r_best, Q_best))\n",
    "print('The best community structure is:\\n', community_best)\n",
    "print('  ({<Node ID>: <Community ID>}) and there are %d communities.' % len(set(community_best.values())))\n",
    "print('The graph at the best was:')\n",
    "draw_graph(elist_best, r_best)\n",
    "plt.show()\n",
    "print('It took %d seconds ( %d mins ) until the network reached the best community structure.'\n",
    "      % (round(t_best, 1), round((t_best)/60, 1)))\n",
    "print('\\nPlease check the saved figures under \"./Data/Figures\"')"
   ]
  },
  {
   "cell_type": "markdown",
   "metadata": {},
   "source": [
    "- Here we create a gif animation to visualise the edge-cutting process during the rounds."
   ]
  },
  {
   "cell_type": "code",
   "execution_count": 54,
   "metadata": {
    "scrolled": false
   },
   "outputs": [
    {
     "data": {
      "text/html": [
       "<img src=\"Data/Figures/Edge_Cutting.gif\">"
      ],
      "text/plain": [
       "<IPython.core.display.HTML object>"
      ]
     },
     "execution_count": 54,
     "metadata": {},
     "output_type": "execute_result"
    }
   ],
   "source": [
    "#!brew install imagemagick\n",
    "!convert -layers optimize -loop 0 -delay 30 Data/Figures/Post_Round_*.png Data/Figures/Edge_Cutting.gif\n",
    "HTML('<img src=\"Data/Figures/Edge_Cutting.gif\">')"
   ]
  },
  {
   "cell_type": "markdown",
   "metadata": {},
   "source": [
    "## 4. Result and Discussion"
   ]
  },
  {
   "cell_type": "markdown",
   "metadata": {},
   "source": [
    " - From the best community structure, we can verify that the members of the karate club are grouped into two different communities (factions) having nodeId=1 (instructor) and nodeId=33 (captain) at the centre of each of the communities.\n",
    " \n",
    " \n",
    " - [Discussion points]:  \n",
    "    1) Analyse the per-stage execution time in terms of stage (type of operation), round, and nb_thread.  \n",
    "    2) Compare execution time with different number of threads (nb_thread = [1, 2, 3, 4, 5, 6]).  \n",
    "    3) Try with different datasets with different size:  \n",
    "    - The smallest dataset => Obtain a per-thread execution time graph with nb_thread = [1, 2, 3, 4, 5, 6], then compare its gradient with that of the karate dataset.\n",
    "    - Test100 dataset => Run the code with nb_thread=4 and obtain a per-round execution time graph, then compare their per-stage execution time among test.txt, karate.txt and Test100. We expect that the impact of parallelisation gets bigger as the nodes/edges increase, that way we can suggest that we better use Spark if the size of the network is more than xxx.\n",
    "    - Even larger datasets => Run each of the 4 large datasets for only one round (they are too big to run for multiple rounds), then verify $\\mathcal{O}(E^2N)$.  \n",
    "  - Since we will get quite a lot of different graphs with different aspects, we will need to be selective about which results/discussion should be kept and delete the others."
   ]
  },
  {
   "cell_type": "markdown",
   "metadata": {},
   "source": [
    "- (Re-execution steps to collect results with different number of threads):\n",
    "    - Jump back to <a href='#Spark Configuration'>6.1. Spark Configuration</a> to change the number of threads. (nb_thread = [1, 2, 3, 4, 5, 6])\n",
    "    - Then re-execute the 3 cells from <a href='#Adjacency List Creation'>here</a>.\n",
    "    - Then re-execute <a href='#Rounds Stage1-4'>6.8. Rounds Stage1-4</a> with 'Run All Below'."
   ]
  },
  {
   "cell_type": "code",
   "execution_count": 52,
   "metadata": {},
   "outputs": [
    {
     "name": "stdout",
     "output_type": "stream",
     "text": [
      "\n",
      "Total execution time was 3477.2 seconds ( 58.0 mins)\n",
      "\n",
      "With nb_thread=1, Total execution time for each stage is, Stage1: 2262, Stage2: 5, Stage3: 772, Stage4: 357\n"
     ]
    },
    {
     "data": {
      "image/png": "[encoded data removed]",
      "text/plain": [
       "<Figure size 432x288 with 1 Axes>"
      ]
     },
     "metadata": {
      "needs_background": "light"
     },
     "output_type": "display_data"
    }
   ],
   "source": [
    "print('Total execution time was', round(total_time, 1), 'seconds (', round(total_time/60, 1), 'mins)')\n",
    "\n",
    "stage_time_dict[nb_thread] = (sum(t_hist_st1), sum(t_hist_st2), sum(t_hist_st3), sum(t_hist_st4))\n",
    "total_time_dict[nb_thread] = total_time\n",
    "\n",
    "print('With nb_thread=%d, Total execution time for each stage is,\\\n",
    "    Stage1: %d, Stage2: %d, Stage3: %d, Stage4: %d'\n",
    "      % (nb_thread, sum(t_hist_st1), sum(t_hist_st2), sum(t_hist_st3), sum(t_hist_st4)))\n",
    "\n",
    "plt.plot(t_hist_st1, label='Stage 1')\n",
    "plt.plot(t_hist_st2, label='Stage 2') \n",
    "plt.plot(t_hist_st3, label='Stage 3')\n",
    "plt.plot(t_hist_st4, label='Stage 4')\n",
    "plt.plot(t_hist_round, label='Round Total')\n",
    "\n",
    "plt.title('Execution Time Evolution per Stage over Rounds (nb_thread= '+ str(nb_thread) + ')') \n",
    "plt.legend(loc='upper right')\n",
    "plt.xlabel(\"Round\"), plt.ylabel(\"Execution Time (sec)\")\n",
    "plt.savefig('./Data/Figures/Time_per_Stage_nb_thread' + str(nb_thread) + '.png')"
   ]
  },
  {
   "cell_type": "code",
   "execution_count": 53,
   "metadata": {
    "scrolled": true
   },
   "outputs": [
    {
     "name": "stdout",
     "output_type": "stream",
     "text": [
      "stage_time_dict =  {4: (537.1893882751465, 4.809790134429932, 362.9148871898651, 99.20552110671997), 1: (2262.2788252830505, 5.380246639251709, 772.9202580451965, 357.55978751182556)}\n",
      "total_time_dict =  {4: 1026.6403391361237, 1: 3477.242879152298}\n"
     ]
    }
   ],
   "source": [
    "print('stage_time_dict = ', stage_time_dict)\n",
    "print('total_time_dict = ', total_time_dict)"
   ]
  },
  {
   "cell_type": "code",
   "execution_count": 288,
   "metadata": {},
   "outputs": [
    {
     "data": {
      "image/png": "[encoded data removed]",
      "text/plain": [
       "<Figure size 432x288 with 1 Axes>"
      ]
     },
     "metadata": {
      "needs_background": "light"
     },
     "output_type": "display_data"
    }
   ],
   "source": [
    "# Sort the dictionary by key (nb_thread)\n",
    "time_list_sorted = sorted(stage_time_dict.items(), key=lambda x: x[0], reverse=False)\n",
    "total_time_list_sorted = sorted(total_time_dict.items(), key=lambda x: x[0], reverse=False)\n",
    "\n",
    "x, y1, y2, y3, y4, y = [], [], [], [], [], []\n",
    "\n",
    "for i in range(len(time_list_sorted)):\n",
    "    x.append(str(time_list_sorted[i][0]))\n",
    "    y1.append(time_list_sorted[i][1][0])\n",
    "    y2.append(time_list_sorted[i][1][1])\n",
    "    y3.append(time_list_sorted[i][1][2])\n",
    "    y4.append(time_list_sorted[i][1][3])\n",
    "    y.append(total_time_list_sorted[i][1])\n",
    "\n",
    "y1_m, y2_m, y3_m, y4_m, y_m = np.array(y1)/60, np.array(y2)/60, np.array(y3)/60, np.array(y4)/60, np.array(y)/60\n",
    "\n",
    "plt.plot(x, y1_m, label='Stage 1')\n",
    "plt.plot(x, y2_m, label='Stage 2')\n",
    "plt.plot(x, y3_m, label='Stage 3')\n",
    "plt.plot(x, y4_m, label='Stage 4')\n",
    "plt.plot(x, y_m, label='Total')\n",
    "plt.title('Execution Time Evolution per Stage over nb_thread') \n",
    "plt.legend(loc='upper right')\n",
    "plt.xlabel(\"Number of Threads\"), plt.ylabel(\"Execution Time (min)\")\n",
    "plt.savefig('./Data/Figures/Time_per_Stage_over_nb_thread.png')"
   ]
  },
  {
   "cell_type": "markdown",
   "metadata": {},
   "source": [
    "## 5. Conclusion"
   ]
  },
  {
   "cell_type": "markdown",
   "metadata": {},
   "source": [
    "- Our algorithm has successfully detected the two communities in the benchmark network dataset.\n",
    "\n",
    "\n",
    "- As per total execution times disclosed on graphs above, we observe a nice improvement of time saved in using parallelisation on threads. On most datasets, using 4 or 5 threads divide execution time by more than 3.\n",
    "\n",
    "\n",
    "- Effects of parallelisation are mostly visible on the first stage of the algorithm, which is by far the most time-consuming, especially due to the reduce part at each iteration.\n",
    "\n",
    "\n",
    "- Looking at the whole process, increasing the number of threads has almost a linear effect on execution time reduction for large networks.\n",
    "\n",
    "\n",
    "- Whatever the size of the dataset we are working on, parallelisation of computations has significant impacts on time and indirectly on energy consumed. In order to process larger datasets (e.g. over than 1000 nodes and thousands of edges), it is recommended to use a Hadoop cluster (on such as AWS and Microsoft Azure) to run distributed computing over multiple workers.\n",
    "\n",
    "\n",
    "- It is also possible to remove multiple edges (that have the highest edge betweenness scores) rather than only one edge per round, whose approximation technique permits us to significantly decrease the computation load."
   ]
  },
  {
   "cell_type": "markdown",
   "metadata": {},
   "source": [
    "## 6. References"
   ]
  },
  {
   "cell_type": "markdown",
   "metadata": {},
   "source": [
    "1) S. Moon, et al., *\"Parallel community detection on large graphs with MapReduce and GraphChi\"*, Data Knowl. Eng. (2015)  \n",
    "\n",
    "2) M.E. Newman, M. Girvan, *\"Finding and evaluating community structure in networks\"*, Phys. Rev. E 69 (2) (2004)  \n",
    "\n",
    "3) V.D. Blondel, et al., *\"Fast unfolding of communities in large networks\"*, Journal of Statistical Mechanics: Theory and Experiment (2008)  \n",
    "\n",
    "4) P. Pons and M. Latapy, *\"Computing communities in large networks using random walks\"*, J. Graph Algorithms Appl. (2005) \n",
    "\n",
    "5) R. Algesheimer, et al., *\"A Comparative Analysis of Community Detection Algorithms on Artificial Networks\"*, Nature (2016)  "
   ]
  },
  {
   "cell_type": "markdown",
   "metadata": {},
   "source": [
    "## (Appendix) Notification Email (Temporal Section) \n",
    "- This is a code to send a notification email when all the rounds have finished.\n",
    "- This section is to be deleted before submitting this notebook."
   ]
  },
  {
   "cell_type": "code",
   "execution_count": 30,
   "metadata": {},
   "outputs": [],
   "source": [
    "MY_PASSWORD = 'pass'"
   ]
  },
  {
   "cell_type": "code",
   "execution_count": 34,
   "metadata": {},
   "outputs": [],
   "source": [
    "import smtplib, base64\n",
    "from email.mime.text import MIMEText\n",
    "from email.utils import formatdate\n",
    "from email import encoders "
   ]
  },
  {
   "cell_type": "code",
   "execution_count": null,
   "metadata": {},
   "outputs": [],
   "source": [
    "# This code allows the notebook to send an email to inform us that all the rounds have been finished.\n",
    "# Since we need to execute the whole code by changing nb_thread from 1 to 7 and each execution takes long time,\n",
    "# we will benefit from this auto-notification code.\n",
    "\n",
    "FROM_ADDRESS = 'a@gmail.com'\n",
    "TO_ADDRESS = 'a@gmail.com'\n",
    "BCC = None\n",
    "SUBJECT = '[ELTDM] All Rounds with nb_thread = ' + str(nb_thread) + ' Done' \n",
    "BODY = 'This is to inform you that all the rounds with the number of threads ' + str(nb_thread)\\\n",
    "    + ' have finished. \\nPlease check the result.\\n'\\\n",
    "    + 'Figures are saved under file:///Users/IjiriYosuke/Documents/GitHub/ELTDM-Project/Data/Figures'\\\n",
    "    + '\\n\\n Maximum Q was achieved at round ' + str(r_best) + ', and it took '\\\n",
    "    + str(round(t_best, 1)) + ' seconds (' + str(round((t_best)/60, 1))\\\n",
    "    + 'mins) until the network reaches the best community structure.'\\\n",
    "    + '\\nTotal execution time was ' + str(round(total_time, 1))\\\n",
    "    + ' seconds ( ' + str(round(total_time/60, 1)) + ' mins) \\n\\n'\\\n",
    "    + 'Current stage time dictionary is:\\n' + str(stage_time_dict)\\\n",
    "    + '\\nCurrent total time dictionary is:\\n' + str(total_time_dict)\\\n",
    "    + 'stage_time_dict = ' + str(stage_time_dict)\\\n",
    "    + 'total_time_dict = ' + str(total_time_dict)\\\n",
    "    + '\\n\\n(This email is sent automatically)'\n",
    "\n",
    "def create_message(from_addr, to_addr, bcc_addrs, subject, body):\n",
    "    msg = MIMEText(body)\n",
    "    msg['Subject'] = subject\n",
    "    msg['From'] = from_addr\n",
    "    msg['To'] = to_addr\n",
    "    msg['Bcc'] = bcc_addrs\n",
    "    msg['Date'] = formatdate()\n",
    "    return msg\n",
    "\n",
    "def send(from_addr, to_addrs, msg):\n",
    "    smtpobj = smtplib.SMTP('smtp.gmail.com', 587)\n",
    "    smtpobj.ehlo()\n",
    "    smtpobj.starttls()\n",
    "    smtpobj.ehlo()\n",
    "    smtpobj.login(FROM_ADDRESS, MY_PASSWORD)\n",
    "    smtpobj.sendmail(from_addr, to_addrs, msg.as_string())\n",
    "    smtpobj.close()\n",
    "\n",
    "if __name__ == '__main__':\n",
    "    to_addr = TO_ADDRESS\n",
    "    subject = SUBJECT\n",
    "    body = BODY\n",
    "    msg = create_message(FROM_ADDRESS, to_addr, BCC, subject, body)\n",
    "    send(FROM_ADDRESS, to_addr, msg)\n",
    "    \n",
    "print('Email sent!')"
   ]
  }
 ],
 "metadata": {
  "kernelspec": {
   "display_name": "Python 3",
   "language": "python",
   "name": "python3"
  },
  "language_info": {
   "codemirror_mode": {
    "name": "ipython",
    "version": 3
   },
   "file_extension": ".py",
   "mimetype": "text/x-python",
   "name": "python",
   "nbconvert_exporter": "python",
   "pygments_lexer": "ipython3",
   "version": "3.6.6"
  }
 },
 "nbformat": 4,
 "nbformat_minor": 2
}
