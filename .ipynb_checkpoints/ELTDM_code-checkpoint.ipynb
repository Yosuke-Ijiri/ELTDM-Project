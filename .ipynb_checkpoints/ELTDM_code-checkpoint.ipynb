{
 "cells": [
  {
   "cell_type": "markdown",
   "metadata": {},
   "source": [
    "![top](img/ENSAE_logo.jpg \"ensae_logo\")"
   ]
  },
  {
   "cell_type": "markdown",
   "metadata": {},
   "source": [
    "# ELTDM Project"
   ]
  },
  {
   "cell_type": "markdown",
   "metadata": {},
   "source": [
    "# Community Detection with Spark MapReduce"
   ]
  },
  {
   "cell_type": "markdown",
   "metadata": {},
   "source": [
    "Abstract: This project is based on \"Parallel community detection on large graphs with MapReduce and GraphChi\". Our model uses Girvan-Newman Algorithm. Environment: Python + Spark + AWS"
   ]
  },
  {
   "cell_type": "code",
   "execution_count": 3,
   "metadata": {},
   "outputs": [],
   "source": [
    "import numpy as np\n",
    "import pandas as pd\n",
    "import matplotlib.pyplot\n",
    "%matplotlib inline\n",
    "%config InlineBackend.figure_format = 'retina'"
   ]
  },
  {
   "cell_type": "code",
   "execution_count": 4,
   "metadata": {},
   "outputs": [
    {
     "data": {
      "text/html": [
       "<div id=\"my_id_menu_nb\">run previous cell, wait for 2 seconds</div>\n",
       "<script>\n",
       "function repeat_indent_string(n){\n",
       "    var a = \"\" ;\n",
       "    for ( ; n > 0 ; --n)\n",
       "        a += \"    \";\n",
       "    return a;\n",
       "}\n",
       "// look up into all sections and builds an automated menu //\n",
       "var update_menu_string = function(begin, lfirst, llast, sformat, send, keep_item, begin_format, end_format) {\n",
       "    var anchors = document.getElementsByClassName(\"section\");\n",
       "    if (anchors.length == 0) {\n",
       "        anchors = document.getElementsByClassName(\"text_cell_render rendered_html\");\n",
       "    }\n",
       "    var i,t;\n",
       "    var text_menu = begin;\n",
       "    var text_memo = \"<pre>\\nlength:\" + anchors.length + \"\\n\";\n",
       "    var ind = \"\";\n",
       "    var memo_level = 1;\n",
       "    var href;\n",
       "    var tags = [];\n",
       "    var main_item = 0;\n",
       "    var format_open = 0;\n",
       "    for (i = 0; i <= llast; i++)\n",
       "        tags.push(\"h\" + i);\n",
       "\n",
       "    for (i = 0; i < anchors.length; i++) {\n",
       "        text_memo += \"**\" + anchors[i].id + \"--\\n\";\n",
       "\n",
       "        var child = null;\n",
       "        for(t = 0; t < tags.length; t++) {\n",
       "            var r = anchors[i].getElementsByTagName(tags[t]);\n",
       "            if (r.length > 0) {\n",
       "child = r[0];\n",
       "break;\n",
       "            }\n",
       "        }\n",
       "        if (child == null) {\n",
       "            text_memo += \"null\\n\";\n",
       "            continue;\n",
       "        }\n",
       "        if (anchors[i].hasAttribute(\"id\")) {\n",
       "            // when converted in RST\n",
       "            href = anchors[i].id;\n",
       "            text_memo += \"#1-\" + href;\n",
       "            // passer à child suivant (le chercher)\n",
       "        }\n",
       "        else if (child.hasAttribute(\"id\")) {\n",
       "            // in a notebook\n",
       "            href = child.id;\n",
       "            text_memo += \"#2-\" + href;\n",
       "        }\n",
       "        else {\n",
       "            text_memo += \"#3-\" + \"*\" + \"\\n\";\n",
       "            continue;\n",
       "        }\n",
       "        var title = child.textContent;\n",
       "        var level = parseInt(child.tagName.substring(1,2));\n",
       "\n",
       "        text_memo += \"--\" + level + \"?\" + lfirst + \"--\" + title + \"\\n\";\n",
       "\n",
       "        if ((level < lfirst) || (level > llast)) {\n",
       "            continue ;\n",
       "        }\n",
       "        if (title.endsWith('¶')) {\n",
       "            title = title.substring(0,title.length-1).replace(\"<\", \"&lt;\")\n",
       "         .replace(\">\", \"&gt;\").replace(\"&\", \"&amp;\");\n",
       "        }\n",
       "        if (title.length == 0) {\n",
       "            continue;\n",
       "        }\n",
       "\n",
       "        while (level < memo_level) {\n",
       "            text_menu += end_format + \"</ul>\\n\";\n",
       "            format_open -= 1;\n",
       "            memo_level -= 1;\n",
       "        }\n",
       "        if (level == lfirst) {\n",
       "            main_item += 1;\n",
       "        }\n",
       "        if (keep_item != -1 && main_item != keep_item + 1) {\n",
       "            // alert(main_item + \" - \" + level + \" - \" + keep_item);\n",
       "            continue;\n",
       "        }\n",
       "        while (level > memo_level) {\n",
       "            text_menu += \"<ul>\\n\";\n",
       "            memo_level += 1;\n",
       "        }\n",
       "        text_menu += repeat_indent_string(level-2);\n",
       "        text_menu += begin_format + sformat.replace(\"__HREF__\", href).replace(\"__TITLE__\", title);\n",
       "        format_open += 1;\n",
       "    }\n",
       "    while (1 < memo_level) {\n",
       "        text_menu += end_format + \"</ul>\\n\";\n",
       "        memo_level -= 1;\n",
       "        format_open -= 1;\n",
       "    }\n",
       "    text_menu += send;\n",
       "    //text_menu += \"\\n\" + text_memo;\n",
       "\n",
       "    while (format_open > 0) {\n",
       "        text_menu += end_format;\n",
       "        format_open -= 1;\n",
       "    }\n",
       "    return text_menu;\n",
       "};\n",
       "var update_menu = function() {\n",
       "    var sbegin = \"\";\n",
       "    var sformat = '<a href=\"#__HREF__\">__TITLE__</a>';\n",
       "    var send = \"\";\n",
       "    var begin_format = '<li>';\n",
       "    var end_format = '</li>';\n",
       "    var keep_item = -1;\n",
       "    var text_menu = update_menu_string(sbegin, 2, 4, sformat, send, keep_item,\n",
       "       begin_format, end_format);\n",
       "    var menu = document.getElementById(\"my_id_menu_nb\");\n",
       "    menu.innerHTML=text_menu;\n",
       "};\n",
       "window.setTimeout(update_menu,2000);\n",
       "            </script>"
      ],
      "text/plain": [
       "<IPython.core.display.HTML object>"
      ]
     },
     "execution_count": 4,
     "metadata": {},
     "output_type": "execute_result"
    }
   ],
   "source": [
    "from jyquickhelper import add_notebook_menu\n",
    "add_notebook_menu()"
   ]
  },
  {
   "cell_type": "code",
   "execution_count": 170,
   "metadata": {},
   "outputs": [
    {
     "data": {
      "text/plain": [
       "'/Users/IjiriYosuke/Documents/ENSAE_MSDS_2018-19/S1/ELTDM/Spark/spark-2.4.0-bin-hadoop2.7/project/ELTDM-Project'"
      ]
     },
     "execution_count": 170,
     "metadata": {},
     "output_type": "execute_result"
    }
   ],
   "source": [
    "import os\n",
    "os.getcwd()"
   ]
  },
  {
   "cell_type": "code",
   "execution_count": 5,
   "metadata": {
    "scrolled": true
   },
   "outputs": [
    {
     "name": "stdout",
     "output_type": "stream",
     "text": [
      "[[1 2]\n",
      " [1 3]\n",
      " [2 4]\n",
      " [2 5]\n",
      " [3 1]\n",
      " [3 4]\n",
      " [5 3]\n",
      " [1 4]\n",
      " [8 1]\n",
      " [4 8]\n",
      " [9 8]\n",
      " [7 6]\n",
      " [7 8]\n",
      " [9 7]\n",
      " [9 6]]\n",
      "<class 'numpy.ndarray'>\n"
     ]
    }
   ],
   "source": [
    "#Read the data\n",
    "data = np.loadtxt(\"./Data/test.txt\", dtype='uint16')\n",
    "print(data)\n",
    "print(type(data))\n",
    "#data = pd.DataFrame(data)\n",
    "#data.to_csv(\"./Data/test_with_index.txt\", sep=\"\\t\", header=None, index=False)"
   ]
  },
  {
   "cell_type": "code",
   "execution_count": 6,
   "metadata": {},
   "outputs": [
    {
     "name": "stdout",
     "output_type": "stream",
     "text": [
      "[[1, 8, 2, 3, 4], [2, 1, 4, 5], [3, 1, 4, 5], [4, 8, 1, 2, 3], [5, 2, 3], [6, 9, 7], [7, 8, 9, 6], [8, 1, 4, 9, 7], [9, 8, 6, 7]]\n"
     ]
    }
   ],
   "source": [
    "#Make a list of adjacency lists (first element is the node of origin)\n",
    "nodeId = np.unique(data)\n",
    "nrow = len(data)\n",
    "adj_list = []\n",
    "\n",
    "for n in nodeId:\n",
    "    adj = []\n",
    "    for i in range(nrow):\n",
    "        if data[i, 0] == n:\n",
    "            adj.append(data[i, 1])\n",
    "        if data[i, 1] == n:\n",
    "            adj.append(data[i, 0])\n",
    "    adj = list(set(adj)) \n",
    "    adj.insert(0, n)\n",
    "    adj_list.append(adj)\n",
    "print(adj_list)"
   ]
  },
  {
   "cell_type": "code",
   "execution_count": 7,
   "metadata": {},
   "outputs": [
    {
     "name": "stdout",
     "output_type": "stream",
     "text": [
      "[[1, 1, 0, 'a', 1, [], [8, 2, 3, 4]], [2, 2, 0, 'a', 1, [], [1, 4, 5]], [3, 3, 0, 'a', 1, [], [1, 4, 5]], [4, 4, 0, 'a', 1, [], [8, 1, 2, 3]], [5, 5, 0, 'a', 1, [], [2, 3]], [6, 6, 0, 'a', 1, [], [9, 7]], [7, 7, 0, 'a', 1, [], [8, 9, 6]], [8, 8, 0, 'a', 1, [], [1, 4, 9, 7]], [9, 9, 0, 'a', 1, [], [8, 6, 7]]]\n"
     ]
    }
   ],
   "source": [
    "#Make tuple for each node\n",
    "class tuples():\n",
    "    def __init__(self, targetId, sourceId, distance, status, weight, pathInfo, adjList) :\n",
    "        self.targetId = targetId\n",
    "        self.sourceId = sourceId\n",
    "        self.distance = distance\n",
    "        self.status = status\n",
    "        self.weight = weight\n",
    "        self.pathInfo = pathInfo\n",
    "        self.adjList = adjList\n",
    "\n",
    "network = []\n",
    "for n in nodeId:\n",
    "    v = tuples(targetId = n, sourceId = n, distance = 0, status = 'a', weight = 1, pathInfo = [], adjList = [])\n",
    "    for i in range(len(adj_list)):\n",
    "        if adj_list[i][0] == n:\n",
    "            v.adjList = adj_list[i][1:len(adj_list[i])]\n",
    "            break\n",
    "    network.append([v.targetId, v.sourceId, v.distance, v.status, v.weight, v.pathInfo, v.adjList])\n",
    "print(network)"
   ]
  },
  {
   "cell_type": "code",
   "execution_count": 8,
   "metadata": {
    "scrolled": true
   },
   "outputs": [
    {
     "name": "stdout",
     "output_type": "stream",
     "text": [
      "[1, 1, 0, 'a', 1, [], [8, 2, 3, 4]]\n",
      "[2, 2, 0, 'a', 1, [], [1, 4, 5]]\n",
      "[3, 3, 0, 'a', 1, [], [1, 4, 5]]\n",
      "[4, 4, 0, 'a', 1, [], [8, 1, 2, 3]]\n",
      "[5, 5, 0, 'a', 1, [], [2, 3]]\n",
      "[6, 6, 0, 'a', 1, [], [9, 7]]\n",
      "[7, 7, 0, 'a', 1, [], [8, 9, 6]]\n",
      "[8, 8, 0, 'a', 1, [], [1, 4, 9, 7]]\n",
      "[9, 9, 0, 'a', 1, [], [8, 6, 7]]\n"
     ]
    }
   ],
   "source": [
    "for i in range(len(network)):\n",
    "    print(network[i])"
   ]
  },
  {
   "cell_type": "markdown",
   "metadata": {},
   "source": [
    "Parallelization part"
   ]
  },
  {
   "cell_type": "code",
   "execution_count": 9,
   "metadata": {},
   "outputs": [
    {
     "data": {
      "text/html": [
       "\n",
       "        <div>\n",
       "            <p><b>SparkContext</b></p>\n",
       "\n",
       "            <p><a href=\"http://10.21.1.74:4040\">Spark UI</a></p>\n",
       "\n",
       "            <dl>\n",
       "              <dt>Version</dt>\n",
       "                <dd><code>v2.4.0</code></dd>\n",
       "              <dt>Master</dt>\n",
       "                <dd><code>local[*]</code></dd>\n",
       "              <dt>AppName</dt>\n",
       "                <dd><code>pyspark-shell</code></dd>\n",
       "            </dl>\n",
       "        </div>\n",
       "        "
      ],
      "text/plain": [
       "<SparkContext master=local[*] appName=pyspark-shell>"
      ]
     },
     "execution_count": 9,
     "metadata": {},
     "output_type": "execute_result"
    }
   ],
   "source": [
    "#sc.stop()\n",
    "#import findspark \n",
    "#findspark.init()\n",
    "from pyspark import SparkContext, SparkConf\n",
    "#import copy in order to do deepcopy of tuples\n",
    "from copy import deepcopy\n",
    "#from operator import itemgetter\n",
    "from itertools import groupby\n",
    "sc = SparkContext()\n",
    "sc"
   ]
  },
  {
   "cell_type": "code",
   "execution_count": 10,
   "metadata": {},
   "outputs": [
    {
     "data": {
      "text/plain": [
       "[(1, [1, 0, 'a', 1, [], [8, 2, 3, 4]]),\n",
       " (2, [2, 0, 'a', 1, [], [1, 4, 5]]),\n",
       " (3, [3, 0, 'a', 1, [], [1, 4, 5]]),\n",
       " (4, [4, 0, 'a', 1, [], [8, 1, 2, 3]]),\n",
       " (5, [5, 0, 'a', 1, [], [2, 3]]),\n",
       " (6, [6, 0, 'a', 1, [], [9, 7]]),\n",
       " (7, [7, 0, 'a', 1, [], [8, 9, 6]]),\n",
       " (8, [8, 0, 'a', 1, [], [1, 4, 9, 7]]),\n",
       " (9, [9, 0, 'a', 1, [], [8, 6, 7]])]"
      ]
     },
     "execution_count": 10,
     "metadata": {},
     "output_type": "execute_result"
    }
   ],
   "source": [
    "#Set a dataset and create key-value pairs\n",
    "rdd = sc.parallelize(network)\n",
    "rdd = rdd.map(lambda x: (x[0], x[1:]))\n",
    "rdd.collect()"
   ]
  },
  {
   "cell_type": "markdown",
   "metadata": {},
   "source": [
    "Stage 1 - Map"
   ]
  },
  {
   "cell_type": "code",
   "execution_count": 11,
   "metadata": {},
   "outputs": [
    {
     "name": "stdout",
     "output_type": "stream",
     "text": [
      "(1, [1, 1, 'i', 1, [1], [8, 2, 3, 4]])\n",
      "(8, [1, 1, 'a', 1, [1], []])\n",
      "(2, [1, 1, 'a', 1, [1], []])\n",
      "(3, [1, 1, 'a', 1, [1], []])\n",
      "(4, [1, 1, 'a', 1, [1], []])\n",
      "(2, [2, 1, 'i', 1, [2], [1, 4, 5]])\n",
      "(1, [2, 1, 'a', 1, [2], []])\n",
      "(4, [2, 1, 'a', 1, [2], []])\n",
      "(5, [2, 1, 'a', 1, [2], []])\n",
      "(3, [3, 1, 'i', 1, [3], [1, 4, 5]])\n",
      "(1, [3, 1, 'a', 1, [3], []])\n",
      "(4, [3, 1, 'a', 1, [3], []])\n",
      "(5, [3, 1, 'a', 1, [3], []])\n",
      "(4, [4, 1, 'i', 1, [4], [8, 1, 2, 3]])\n",
      "(8, [4, 1, 'a', 1, [4], []])\n",
      "(1, [4, 1, 'a', 1, [4], []])\n",
      "(2, [4, 1, 'a', 1, [4], []])\n",
      "(3, [4, 1, 'a', 1, [4], []])\n",
      "(5, [5, 1, 'i', 1, [5], [2, 3]])\n",
      "(2, [5, 1, 'a', 1, [5], []])\n",
      "(3, [5, 1, 'a', 1, [5], []])\n",
      "(6, [6, 1, 'i', 1, [6], [9, 7]])\n",
      "(9, [6, 1, 'a', 1, [6], []])\n",
      "(7, [6, 1, 'a', 1, [6], []])\n",
      "(7, [7, 1, 'i', 1, [7], [8, 9, 6]])\n",
      "(8, [7, 1, 'a', 1, [7], []])\n",
      "(9, [7, 1, 'a', 1, [7], []])\n",
      "(6, [7, 1, 'a', 1, [7], []])\n",
      "(8, [8, 1, 'i', 1, [8], [1, 4, 9, 7]])\n",
      "(1, [8, 1, 'a', 1, [8], []])\n",
      "(4, [8, 1, 'a', 1, [8], []])\n",
      "(9, [8, 1, 'a', 1, [8], []])\n",
      "(7, [8, 1, 'a', 1, [8], []])\n",
      "(9, [9, 1, 'i', 1, [9], [8, 6, 7]])\n",
      "(8, [9, 1, 'a', 1, [9], []])\n",
      "(6, [9, 1, 'a', 1, [9], []])\n",
      "(7, [9, 1, 'a', 1, [9], []])\n",
      "(4, [4, 2, 'a', 1, [2], []])\n",
      "(4, [4, 1, 'a', 1, [3], [1, 3]])\n",
      "(4, [4, 2, 'a', 1, [2], []])\n",
      "(4, [4, 5, 'a', 1, [2], []])\n",
      "(4, [4, 1, 'a', 1, [3], [1, 3]])\n",
      "(4, [4, 1, 'a', 1, [5], [5]])\n",
      "(4, [4, 1, 'a', 1, [2], [2]])\n"
     ]
    }
   ],
   "source": [
    "def stage1_map(p):    \n",
    "    result = []\n",
    "    if p[1][2] == 'a':\n",
    "        p[1][2] = 'i'\n",
    "        p[1][1] += 1\n",
    "        p[1][4].append(p[0])\n",
    "        x = deepcopy(p)\n",
    "        result.append(x)\n",
    "        temp = p[1][5].copy()\n",
    "        for i in range(len(temp)):\n",
    "            k = temp[i]\n",
    "            p[1][2] = 'a'\n",
    "            p[1][5] = []\n",
    "            y = deepcopy(p)\n",
    "            result.append((k, y[1]))\n",
    "    return result\n",
    "pos_map1 = rdd.flatMap(stage1_map)\n",
    "pos_map1.collect()\n",
    "\n",
    "#Add artifitial records in order to test MapReduce functions\n",
    "for_testing = pos_map1.collect()\n",
    "add_for_testing = [(4, [4, 2, 'a', 1, [2], []]), \n",
    "    (4, [4, 1, 'a', 1, [3], [1, 3]]),\n",
    "    (4, [4, 2, 'a', 1, [2], []]),\n",
    "    (4, [4, 5, 'a', 1, [2], []]),\n",
    "    (4, [4, 1, 'a', 1, [3], [1, 3]]),\n",
    "    (4, [4, 1, 'a', 1, [5], [5]]),\n",
    "    (4, [4, 1, 'a', 1, [2], [2]])]\n",
    "for_testing.extend(add_for_testing)\n",
    "\n",
    "for i in range(len(for_testing)):\n",
    "    print(for_testing[i])\n",
    "pos_map1_test = sc.parallelize(for_testing)"
   ]
  },
  {
   "cell_type": "markdown",
   "metadata": {},
   "source": [
    "Stage 1 - Reduce"
   ]
  },
  {
   "cell_type": "code",
   "execution_count": 520,
   "metadata": {},
   "outputs": [
    {
     "data": {
      "text/plain": [
       "[((1, 1), [1, 'i', 1, [1], [8, 2, 3, 4]]),\n",
       " ((8, 1), [1, 'a', 1, [1], []]),\n",
       " ((2, 1), [1, 'a', 1, [1], []]),\n",
       " ((3, 1), [1, 'a', 1, [1], []]),\n",
       " ((4, 1), [1, 'a', 1, [1], []]),\n",
       " ((2, 2), [1, 'i', 1, [2], [1, 4, 5]]),\n",
       " ((1, 2), [1, 'a', 1, [2], []]),\n",
       " ((4, 2), [1, 'a', 1, [2], []]),\n",
       " ((5, 2), [1, 'a', 1, [2], []]),\n",
       " ((3, 3), [1, 'i', 1, [3], [1, 4, 5]]),\n",
       " ((1, 3), [1, 'a', 1, [3], []]),\n",
       " ((4, 3), [1, 'a', 1, [3], []]),\n",
       " ((5, 3), [1, 'a', 1, [3], []]),\n",
       " ((4, 4), [1, 'i', 1, [4], [8, 1, 2, 3]]),\n",
       " ((8, 4), [1, 'a', 1, [4], []]),\n",
       " ((1, 4), [1, 'a', 1, [4], []]),\n",
       " ((2, 4), [1, 'a', 1, [4], []]),\n",
       " ((3, 4), [1, 'a', 1, [4], []]),\n",
       " ((5, 5), [1, 'i', 1, [5], [2, 3]]),\n",
       " ((2, 5), [1, 'a', 1, [5], []]),\n",
       " ((3, 5), [1, 'a', 1, [5], []]),\n",
       " ((6, 6), [1, 'i', 1, [6], [9, 7]]),\n",
       " ((9, 6), [1, 'a', 1, [6], []]),\n",
       " ((7, 6), [1, 'a', 1, [6], []]),\n",
       " ((7, 7), [1, 'i', 1, [7], [8, 9, 6]]),\n",
       " ((8, 7), [1, 'a', 1, [7], []]),\n",
       " ((9, 7), [1, 'a', 1, [7], []]),\n",
       " ((6, 7), [1, 'a', 1, [7], []]),\n",
       " ((8, 8), [1, 'i', 1, [8], [1, 4, 9, 7]]),\n",
       " ((1, 8), [1, 'a', 1, [8], []]),\n",
       " ((4, 8), [1, 'a', 1, [8], []]),\n",
       " ((9, 8), [1, 'a', 1, [8], []]),\n",
       " ((7, 8), [1, 'a', 1, [8], []]),\n",
       " ((9, 9), [1, 'i', 1, [9], [8, 6, 7]]),\n",
       " ((8, 9), [1, 'a', 1, [9], []]),\n",
       " ((6, 9), [1, 'a', 1, [9], []]),\n",
       " ((7, 9), [1, 'a', 1, [9], []]),\n",
       " ((4, 4), [2, 'a', 1, [2], []]),\n",
       " ((4, 4), [1, 'a', 1, [3], [1, 3]]),\n",
       " ((4, 4), [2, 'a', 1, [2], []]),\n",
       " ((4, 4), [5, 'a', 1, [2], []]),\n",
       " ((4, 4), [1, 'a', 1, [3], [1, 3]]),\n",
       " ((4, 4), [1, 'a', 1, [5], [5]]),\n",
       " ((4, 4), [1, 'a', 1, [2], [2]])]"
      ]
     },
     "execution_count": 520,
     "metadata": {},
     "output_type": "execute_result"
    }
   ],
   "source": [
    "pos_map1_test.collect()\n",
    "red1_twokeys = pos_map1_test.map(lambda x: ((x[0],x[1][0]), x[1][1:]))\n",
    "red1_twokeys.collect()"
   ]
  },
  {
   "cell_type": "code",
   "execution_count": 542,
   "metadata": {},
   "outputs": [
    {
     "data": {
      "text/plain": [
       "[((1, 1), [1, 'i', 1, [1], [8, 2, 3, 4]]),\n",
       " ((4, 2), [1, 'a', 1, [2], []]),\n",
       " ((3, 3), [1, 'i', 1, [3], [1, 4, 5]]),\n",
       " ((2, 4), [1, 'a', 1, [4], []]),\n",
       " ((5, 5), [1, 'i', 1, [5], [2, 3]]),\n",
       " ((7, 7), [1, 'i', 1, [7], [8, 9, 6]]),\n",
       " ((9, 9), [1, 'i', 1, [9], [8, 6, 7]]),\n",
       " ((8, 1), [1, 'a', 1, [1], []]),\n",
       " ((4, 1), [1, 'a', 1, [1], []]),\n",
       " ((1, 2), [1, 'a', 1, [2], []]),\n",
       " ((5, 2), [1, 'a', 1, [2], []]),\n",
       " ((3, 4), [1, 'a', 1, [4], []]),\n",
       " ((9, 6), [1, 'a', 1, [6], []]),\n",
       " ((6, 7), [1, 'a', 1, [7], []]),\n",
       " ((7, 8), [1, 'a', 1, [8], []]),\n",
       " ((8, 9), [1, 'a', 1, [9], []]),\n",
       " ((3, 1), [1, 'a', 1, [1], []]),\n",
       " ((2, 2), [1, 'i', 1, [2], [1, 4, 5]]),\n",
       " ((1, 3), [1, 'a', 1, [3], []]),\n",
       " ((5, 3), [1, 'a', 1, [3], []]),\n",
       " ((4, 4),\n",
       "  [[1, 'i', 1, [4], [8, 1, 2, 3]],\n",
       "   [2, 'a', 1, [2], []],\n",
       "   [1, 'a', 1, [3], [1, 3]],\n",
       "   [2, 'a', 1, [2], []],\n",
       "   [5, 'a', 1, [2], []],\n",
       "   [1, 'a', 1, [3], [1, 3]],\n",
       "   [1, 'a', 1, [5], [5]],\n",
       "   [1, 'a', 1, [2], [2]]]),\n",
       " ((8, 4), [1, 'a', 1, [4], []]),\n",
       " ((3, 5), [1, 'a', 1, [5], []]),\n",
       " ((6, 6), [1, 'i', 1, [6], [9, 7]]),\n",
       " ((9, 7), [1, 'a', 1, [7], []]),\n",
       " ((8, 8), [1, 'i', 1, [8], [1, 4, 9, 7]]),\n",
       " ((4, 8), [1, 'a', 1, [8], []]),\n",
       " ((7, 9), [1, 'a', 1, [9], []]),\n",
       " ((2, 1), [1, 'a', 1, [1], []]),\n",
       " ((4, 3), [1, 'a', 1, [3], []]),\n",
       " ((1, 4), [1, 'a', 1, [4], []]),\n",
       " ((2, 5), [1, 'a', 1, [5], []]),\n",
       " ((7, 6), [1, 'a', 1, [6], []]),\n",
       " ((8, 7), [1, 'a', 1, [7], []]),\n",
       " ((1, 8), [1, 'a', 1, [8], []]),\n",
       " ((9, 8), [1, 'a', 1, [8], []]),\n",
       " ((6, 9), [1, 'a', 1, [9], []])]"
      ]
     },
     "execution_count": 542,
     "metadata": {},
     "output_type": "execute_result"
    }
   ],
   "source": [
    "def join(x, y):\n",
    "    if (type(x[0]) is list) and (type(y[0]) is not list):\n",
    "        return x+[y]\n",
    "    elif (type(x[0]) is not list) and (type(y[0]) is list):\n",
    "        return [x]+y\n",
    "    elif (type(x[0]) is not list) and (type(y[0]) is not list):\n",
    "        return [x]+[y]\n",
    "    else:\n",
    "        return x+y\n",
    "    isinstance(x[0], int)\n",
    "red1_grouped = red1_twokeys.reduceByKey(join)\n",
    "red1_twokeys.reduceByKey(join).collect()"
   ]
  },
  {
   "cell_type": "code",
   "execution_count": 640,
   "metadata": {},
   "outputs": [
    {
     "data": {
      "text/plain": [
       "[((1, 1), [1, 'i', 1, [1], [8, 2, 3, 4]]),\n",
       " ((4, 2), [1, 'a', 1, [2], []]),\n",
       " ((3, 3), [1, 'i', 1, [3], [1, 4, 5]]),\n",
       " ((2, 4), [1, 'a', 1, [4], []]),\n",
       " ((5, 5), [1, 'i', 1, [5], [2, 3]]),\n",
       " ((7, 7), [1, 'i', 1, [7], [8, 9, 6]]),\n",
       " ((9, 9), [1, 'i', 1, [9], [8, 6, 7]]),\n",
       " ((8, 1), [1, 'a', 1, [1], []]),\n",
       " ((4, 1), [1, 'a', 1, [1], []]),\n",
       " ((1, 2), [1, 'a', 1, [2], []]),\n",
       " ((5, 2), [1, 'a', 1, [2], []]),\n",
       " ((3, 4), [1, 'a', 1, [4], []]),\n",
       " ((9, 6), [1, 'a', 1, [6], []]),\n",
       " ((6, 7), [1, 'a', 1, [7], []]),\n",
       " ((7, 8), [1, 'a', 1, [8], []]),\n",
       " ((8, 9), [1, 'a', 1, [9], []]),\n",
       " ((3, 1), [1, 'a', 1, [1], []]),\n",
       " ((2, 2), [1, 'i', 1, [2], [1, 4, 5]]),\n",
       " ((1, 3), [1, 'a', 1, [3], []]),\n",
       " ((5, 3), [1, 'a', 1, [3], []]),\n",
       " ((4, 4),\n",
       "  [[1, 'i', 5, [4], [8, 1, 2, 3]],\n",
       "   [1, 'a', 5, [3], [1, 3]],\n",
       "   [1, 'a', 5, [3], [1, 3]],\n",
       "   [1, 'a', 5, [5], [5]],\n",
       "   [1, 'a', 5, [2], [2]]]),\n",
       " ((8, 4), [1, 'a', 1, [4], []]),\n",
       " ((3, 5), [1, 'a', 1, [5], []]),\n",
       " ((6, 6), [1, 'i', 1, [6], [9, 7]]),\n",
       " ((9, 7), [1, 'a', 1, [7], []]),\n",
       " ((8, 8), [1, 'i', 1, [8], [1, 4, 9, 7]]),\n",
       " ((4, 8), [1, 'a', 1, [8], []]),\n",
       " ((7, 9), [1, 'a', 1, [9], []]),\n",
       " ((2, 1), [1, 'a', 1, [1], []]),\n",
       " ((4, 3), [1, 'a', 1, [3], []]),\n",
       " ((1, 4), [1, 'a', 1, [4], []]),\n",
       " ((2, 5), [1, 'a', 1, [5], []]),\n",
       " ((7, 6), [1, 'a', 1, [6], []]),\n",
       " ((8, 7), [1, 'a', 1, [7], []]),\n",
       " ((1, 8), [1, 'a', 1, [8], []]),\n",
       " ((9, 8), [1, 'a', 1, [8], []]),\n",
       " ((6, 9), [1, 'a', 1, [9], []])]"
      ]
     },
     "execution_count": 640,
     "metadata": {},
     "output_type": "execute_result"
    }
   ],
   "source": [
    "def stage1_reduce(x):\n",
    "    if type(x[1][0]) is list:\n",
    "        m = x[1][0][0]\n",
    "        for s in range(len(x[1])):\n",
    "            if x[1][s][0] < m:\n",
    "                m = x[1][s][0]\n",
    "        minList = []\n",
    "        #Drop tuple(s) with non-shortest distance\n",
    "        for s in range(len(x[1])):\n",
    "            if x[1][s][0] == m:\n",
    "                minList.append(x[1][s])\n",
    "        y = (x[0], minList)\n",
    "        #Update weight\n",
    "        for s in range(len(minList)):\n",
    "            y[1][s][2] = len(minList)\n",
    "        return y\n",
    "    else:\n",
    "        return x\n",
    "red1_weighted = red1_grouped.map(stage1_reduce)\n",
    "red1_grouped.map(stage1_reduce).collect()"
   ]
  },
  {
   "cell_type": "code",
   "execution_count": 643,
   "metadata": {},
   "outputs": [
    {
     "name": "stdout",
     "output_type": "stream",
     "text": [
      "(1, [1, 1, 'i', 1, [1], [8, 2, 3, 4]])\n",
      "(4, [2, 1, 'a', 1, [2], []])\n",
      "(3, [3, 1, 'i', 1, [3], [1, 4, 5]])\n",
      "(2, [4, 1, 'a', 1, [4], []])\n",
      "(5, [5, 1, 'i', 1, [5], [2, 3]])\n",
      "(7, [7, 1, 'i', 1, [7], [8, 9, 6]])\n",
      "(9, [9, 1, 'i', 1, [9], [8, 6, 7]])\n",
      "(8, [1, 1, 'a', 1, [1], []])\n",
      "(4, [1, 1, 'a', 1, [1], []])\n",
      "(1, [2, 1, 'a', 1, [2], []])\n",
      "(5, [2, 1, 'a', 1, [2], []])\n",
      "(3, [4, 1, 'a', 1, [4], []])\n",
      "(9, [6, 1, 'a', 1, [6], []])\n",
      "(6, [7, 1, 'a', 1, [7], []])\n",
      "(7, [8, 1, 'a', 1, [8], []])\n",
      "(8, [9, 1, 'a', 1, [9], []])\n",
      "(3, [1, 1, 'a', 1, [1], []])\n",
      "(2, [2, 1, 'i', 1, [2], [1, 4, 5]])\n",
      "(1, [3, 1, 'a', 1, [3], []])\n",
      "(5, [3, 1, 'a', 1, [3], []])\n",
      "(8, [4, 1, 'a', 1, [4], []])\n",
      "(3, [5, 1, 'a', 1, [5], []])\n",
      "(6, [6, 1, 'i', 1, [6], [9, 7]])\n",
      "(9, [7, 1, 'a', 1, [7], []])\n",
      "(8, [8, 1, 'i', 1, [8], [1, 4, 9, 7]])\n",
      "(4, [8, 1, 'a', 1, [8], []])\n",
      "(7, [9, 1, 'a', 1, [9], []])\n",
      "(2, [1, 1, 'a', 1, [1], []])\n",
      "(4, [3, 1, 'a', 1, [3], []])\n",
      "(1, [4, 1, 'a', 1, [4], []])\n",
      "(2, [5, 1, 'a', 1, [5], []])\n",
      "(7, [6, 1, 'a', 1, [6], []])\n",
      "(8, [7, 1, 'a', 1, [7], []])\n",
      "(1, [8, 1, 'a', 1, [8], []])\n",
      "(9, [8, 1, 'a', 1, [8], []])\n",
      "(6, [9, 1, 'a', 1, [9], []])\n",
      "(4, [4, 1, 'i', 5, [4], [8, 1, 2, 3]])\n",
      "(4, [4, 1, 'a', 5, [3], [1, 3]])\n",
      "(4, [4, 1, 'a', 5, [3], [1, 3]])\n",
      "(4, [4, 1, 'a', 5, [5], [5]])\n",
      "(4, [4, 1, 'a', 5, [2], [2]])\n"
     ]
    }
   ],
   "source": [
    "def twokeys_to_onekey(x):\n",
    "    k = x[0][0]\n",
    "    v = [x[0][1]]\n",
    "    v.extend(x[1])\n",
    "    return k, v\n",
    "#From two-keys tuples to one-key tuples\n",
    "record = red1_weighted.map(twokeys_to_onekey).collect()\n",
    "\n",
    "#To flatten the grouped values (non-parallelized)\n",
    "new = []\n",
    "for i in range(len(record)):\n",
    "    if type(record[i][1][1]) is list:\n",
    "        record[i]\n",
    "        key = record[i][0]\n",
    "        srcId = [record[i][1][0]]\n",
    "        others = record[i][1][1:]\n",
    "        for j in range(len(others)):\n",
    "            s = srcId.copy()\n",
    "            o = others[j]\n",
    "            s.extend(o)\n",
    "            newrec = (key, s)\n",
    "            new.append(newrec)\n",
    "pos_red1 = list(filter(lambda item: type(item[1][1]) != list, record))  \n",
    "pos_red1.extend(new)\n",
    "for i in range(len(pos_red1)):\n",
    "    print(pos_red1[i])"
   ]
  },
  {
   "cell_type": "code",
   "execution_count": null,
   "metadata": {},
   "outputs": [],
   "source": [
    "#Iteration until status becomes 'i' for all tuples\n",
    "\n"
   ]
  },
  {
   "cell_type": "markdown",
   "metadata": {},
   "source": [
    "Stage2 - Map"
   ]
  },
  {
   "cell_type": "code",
   "execution_count": null,
   "metadata": {},
   "outputs": [],
   "source": []
  },
  {
   "cell_type": "markdown",
   "metadata": {},
   "source": [
    "Visualisation Part"
   ]
  },
  {
   "cell_type": "code",
   "execution_count": 178,
   "metadata": {},
   "outputs": [
    {
     "data": {
      "image/png": "[encoded data removed]",
      "text/plain": [
       "<Figure size 432x288 with 1 Axes>"
      ]
     },
     "metadata": {
      "image/png": {
       "height": 320,
       "width": 485
      }
     },
     "output_type": "display_data"
    }
   ],
   "source": [
    "#Visualisation of the graph\n",
    "#This is just for reference for now\n",
    "import pandas\n",
    "import networkx as nx\n",
    "import matplotlib.pyplot as plt\n",
    "\n",
    "def draw_graph(graph):\n",
    "\n",
    "    # extract nodes from graph\n",
    "    nodes = set([n1 for n1, n2 in graph] + [n2 for n1, n2 in graph])\n",
    "\n",
    "    # create networkx graph\n",
    "    G=nx.Graph()\n",
    "\n",
    "    # add nodes\n",
    "    for node in nodes:\n",
    "        G.add_node(node)\n",
    "\n",
    "    # add edges\n",
    "    for edge in graph:\n",
    "        G.add_edge(edge[0], edge[1])\n",
    "\n",
    "    # draw graph\n",
    "    pos = nx.shell_layout(G)\n",
    "    nx.draw(G, pos)\n",
    "\n",
    "    # show graph\n",
    "    plt.show()\n",
    "    \n",
    "draw_graph(data)\n"
   ]
  },
  {
   "cell_type": "markdown",
   "metadata": {},
   "source": [
    "ANNEX: Spark SQL - Tried Spark DataFrame but did not use it in the end"
   ]
  },
  {
   "cell_type": "code",
   "execution_count": 286,
   "metadata": {},
   "outputs": [],
   "source": [
    "from pyspark.sql import SparkSession\n",
    "from pyspark.sql import Row\n",
    "from pyspark.sql import SQLContext\n",
    "#sqlContext = SQLContext(sc)\n",
    "spark = SparkSession.builder.appName('ELTDM').getOrCreate()\n",
    "from pyspark.sql import functions as func\n",
    "from pyspark.sql.functions import count, col\n",
    "from pyspark.sql.window import Window\n",
    "from pyspark.sql.functions import struct\n",
    "\n",
    "from pyspark.sql.types import StructField\n",
    "from pyspark.sql.types import StructType\n",
    "from pyspark.sql.types import IntegerType\n",
    "from pyspark.sql.types import StringType\n",
    "from pyspark.sql.types import ArrayType"
   ]
  },
  {
   "cell_type": "code",
   "execution_count": 316,
   "metadata": {
    "scrolled": true
   },
   "outputs": [
    {
     "name": "stdout",
     "output_type": "stream",
     "text": [
      "+--------+--------+--------+------+------+--------+------------+\n",
      "|targetId|sourceId|distance|status|weight|pathInfo|     adjList|\n",
      "+--------+--------+--------+------+------+--------+------------+\n",
      "|       1|       1|       1|     i|     1|     [1]|[8, 2, 3, 4]|\n",
      "|       8|       1|       1|     a|     1|     [1]|          []|\n",
      "|       2|       1|       1|     a|     1|     [1]|          []|\n",
      "|       3|       1|       1|     a|     1|     [1]|          []|\n",
      "|       4|       1|       1|     a|     1|     [1]|          []|\n",
      "|       2|       2|       1|     i|     1|     [2]|   [1, 4, 5]|\n",
      "|       1|       2|       1|     a|     1|     [2]|          []|\n",
      "|       4|       2|       1|     a|     1|     [2]|          []|\n",
      "|       5|       2|       1|     a|     1|     [2]|          []|\n",
      "|       3|       3|       1|     i|     1|     [3]|   [1, 4, 5]|\n",
      "|       1|       3|       1|     a|     1|     [3]|          []|\n",
      "|       4|       3|       1|     a|     1|     [3]|          []|\n",
      "|       5|       3|       1|     a|     1|     [3]|          []|\n",
      "|       4|       4|       1|     i|     1|     [4]|[8, 1, 2, 3]|\n",
      "|       8|       4|       1|     a|     1|     [4]|          []|\n",
      "|       1|       4|       1|     a|     1|     [4]|          []|\n",
      "|       2|       4|       1|     a|     1|     [4]|          []|\n",
      "|       3|       4|       1|     a|     1|     [4]|          []|\n",
      "|       5|       5|       1|     i|     1|     [5]|      [2, 3]|\n",
      "|       2|       5|       1|     a|     1|     [5]|          []|\n",
      "|       3|       5|       1|     a|     1|     [5]|          []|\n",
      "|       6|       6|       1|     i|     1|     [6]|      [9, 7]|\n",
      "|       9|       6|       1|     a|     1|     [6]|          []|\n",
      "|       7|       6|       1|     a|     1|     [6]|          []|\n",
      "|       7|       7|       1|     i|     1|     [7]|   [8, 9, 6]|\n",
      "|       8|       7|       1|     a|     1|     [7]|          []|\n",
      "|       9|       7|       1|     a|     1|     [7]|          []|\n",
      "|       6|       7|       1|     a|     1|     [7]|          []|\n",
      "|       8|       8|       1|     i|     1|     [8]|[1, 4, 9, 7]|\n",
      "|       1|       8|       1|     a|     1|     [8]|          []|\n",
      "|       4|       8|       1|     a|     1|     [8]|          []|\n",
      "|       9|       8|       1|     a|     1|     [8]|          []|\n",
      "|       7|       8|       1|     a|     1|     [8]|          []|\n",
      "|       9|       9|       1|     i|     1|     [9]|   [8, 6, 7]|\n",
      "|       8|       9|       1|     a|     1|     [9]|          []|\n",
      "|       6|       9|       1|     a|     1|     [9]|          []|\n",
      "|       7|       9|       1|     a|     1|     [9]|          []|\n",
      "|       4|       4|       2|     a|     1|     [2]|          []|\n",
      "|       4|       4|       1|     a|     1|     [3]|      [1, 3]|\n",
      "|       4|       4|       2|     a|     1|     [2]|          []|\n",
      "|       4|       4|       5|     a|     1|     [2]|          []|\n",
      "|       4|       4|       1|     a|     1|     [3]|      [1, 3]|\n",
      "|       4|       4|       1|     a|     1|     [5]|         [5]|\n",
      "|       4|       4|       1|     a|     1|     [2]|         [2]|\n",
      "+--------+--------+--------+------+------+--------+------------+\n",
      "\n",
      "root\n",
      " |-- targetId: integer (nullable = false)\n",
      " |-- sourceId: integer (nullable = false)\n",
      " |-- distance: integer (nullable = false)\n",
      " |-- status: string (nullable = false)\n",
      " |-- weight: integer (nullable = false)\n",
      " |-- pathInfo: array (nullable = false)\n",
      " |    |-- element: integer (containsNull = true)\n",
      " |-- adjList: array (nullable = false)\n",
      " |    |-- element: integer (containsNull = true)\n",
      "\n",
      "None\n"
     ]
    }
   ],
   "source": [
    "fields = [\n",
    "    StructField('targetId', IntegerType(), False),\n",
    "    StructField('sourceId', IntegerType(), False),\n",
    "    StructField('distance', IntegerType(), False),\n",
    "    StructField('status', StringType(), False), \n",
    "    StructField('weight', IntegerType(), False),\n",
    "    StructField('pathInfo', ArrayType(IntegerType(), True), False), \n",
    "    StructField('adjList', ArrayType(IntegerType(), True), False)]\n",
    "schema = StructType(fields)\n",
    "\n",
    "temp1 = pos_map1_test.map(lambda x: (int(x[0]),int(x[1][0]),int(x[1][1]),str(x[1][2]),int(x[1][3]),[int(s) for s in x[1][4]],[int(s) for s in x[1][5]])).collect()\n",
    "temp2 = sc.parallelize(temp1)\n",
    "df = spark.createDataFrame(temp2, schema)\n",
    "df.show(100)\n",
    "\n",
    "print(df.printSchema())\n",
    "df.registerTempTable(\"Stage1_pre_reduce\")"
   ]
  },
  {
   "cell_type": "code",
   "execution_count": 381,
   "metadata": {},
   "outputs": [
    {
     "name": "stdout",
     "output_type": "stream",
     "text": [
      "+--------+--------+--------+------+------+--------+------------+\n",
      "|targetId|sourceId|distance|status|weight|pathInfo|     adjList|\n",
      "+--------+--------+--------+------+------+--------+------------+\n",
      "|       1|       1|       1|     i|     1|     [1]|[8, 2, 3, 4]|\n",
      "|       1|       2|       1|     a|     1|     [2]|          []|\n",
      "|       1|       3|       1|     a|     1|     [3]|          []|\n",
      "|       1|       4|       1|     a|     1|     [4]|          []|\n",
      "|       1|       8|       1|     a|     1|     [8]|          []|\n",
      "|       2|       1|       1|     a|     1|     [1]|          []|\n",
      "|       2|       2|       1|     i|     1|     [2]|   [1, 4, 5]|\n",
      "|       2|       4|       1|     a|     1|     [4]|          []|\n",
      "|       2|       5|       1|     a|     1|     [5]|          []|\n",
      "|       3|       1|       1|     a|     1|     [1]|          []|\n",
      "|       3|       3|       1|     i|     1|     [3]|   [1, 4, 5]|\n",
      "|       3|       4|       1|     a|     1|     [4]|          []|\n",
      "|       3|       5|       1|     a|     1|     [5]|          []|\n",
      "|       4|       1|       1|     a|     1|     [1]|          []|\n",
      "|       4|       2|       1|     a|     1|     [2]|          []|\n",
      "|       4|       3|       1|     a|     1|     [3]|          []|\n",
      "|       4|       4|       1|     a|     1|     [3]|      [1, 3]|\n",
      "|       4|       4|       1|     i|     1|     [4]|[8, 1, 2, 3]|\n",
      "|       4|       4|       5|     a|     1|     [2]|          []|\n",
      "|       4|       4|       1|     a|     1|     [2]|         [2]|\n",
      "+--------+--------+--------+------+------+--------+------------+\n",
      "only showing top 20 rows\n",
      "\n"
     ]
    }
   ],
   "source": [
    "q = \"\"\"\n",
    "SELECT\n",
    "  targetId,\n",
    "  sourceId,\n",
    "  distance,\n",
    "  status,\n",
    "  weight,\n",
    "  pathInfo,\n",
    "  adjList\n",
    "FROM\n",
    "  Stage1_pre_reduce\n",
    "ORDER BY targetId, sourceId\n",
    "\"\"\"\n",
    "df_ = sqlContext.sql(q)\n",
    "df_.registerTempTable(\"Sorted\")\n",
    "df_.show()"
   ]
  },
  {
   "cell_type": "code",
   "execution_count": null,
   "metadata": {},
   "outputs": [],
   "source": [
    "q = \"\"\"\n",
    "SELECT\n",
    "  targetId,\n",
    "  sourceId,\n",
    "  distance,\n",
    "  MIN(distance) OVER (PARTITION BY sourceId ORDER BY targetId) as min_distance,\n",
    "  status,\n",
    "  weight,\n",
    "  pathInfo,\n",
    "  adjList\n",
    "FROM\n",
    "  Stage1_pre_reduce\n",
    "\"\"\"\n",
    "sqlContext.sql(q).show(100)"
   ]
  }
 ],
 "metadata": {
  "kernelspec": {
   "display_name": "Python 3",
   "language": "python",
   "name": "python3"
  },
  "language_info": {
   "codemirror_mode": {
    "name": "ipython",
    "version": 3
   },
   "file_extension": ".py",
   "mimetype": "text/x-python",
   "name": "python",
   "nbconvert_exporter": "python",
   "pygments_lexer": "ipython3",
   "version": "3.7.0"
  }
 },
 "nbformat": 4,
 "nbformat_minor": 2
}
