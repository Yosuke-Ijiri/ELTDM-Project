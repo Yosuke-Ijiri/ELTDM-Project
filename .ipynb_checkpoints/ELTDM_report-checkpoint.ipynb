{
 "cells": [
  {
   "cell_type": "markdown",
   "metadata": {
    "colab_type": "text",
    "id": "ylT6kawGVYjC"
   },
   "source": [
    "1. Introduction\n",
    "\n",
    "Analysing network datum has become a key issue in many areas to base suggestions, advices and strategies in many sectors and applications. \n",
    "We focus our work on community detection...  \n",
    "The paper we base ourself on is named \" Parallel community detection on large graphs with MapReduce and GraphChi\" published in 2015 by Seunghyeon Moon, Jae-Gil Lee, Minseo Kang, Minsoo Choy and Jin-woo Lee. This paper is based on \"Community structure in social and biological networks\" in 2001 by Michelle Girvan, M. E. J. Newman.\n",
    "\n",
    "Our work is covering the Shortest-Path Betweeness MapReduce Algorithm (SPB-MRA) and the parallel calculation using pyspark on AWS."
   ]
  },
  {
   "cell_type": "markdown",
   "metadata": {
    "colab_type": "text",
    "id": "vn5-dlhIVbAM"
   },
   "source": [
    "2. Model"
   ]
  },
  {
   "cell_type": "code",
   "execution_count": 0,
   "metadata": {
    "colab": {},
    "colab_type": "code",
    "id": "Yd2i6SCyReLo"
   },
   "outputs": [],
   "source": []
  },
  {
   "cell_type": "markdown",
   "metadata": {
    "colab_type": "text",
    "id": "E3-ep7DdWCap"
   },
   "source": [
    "3. Algorithm"
   ]
  },
  {
   "cell_type": "code",
   "execution_count": 0,
   "metadata": {
    "colab": {},
    "colab_type": "code",
    "id": "2F2tkBQlWXei"
   },
   "outputs": [],
   "source": [
    "code here"
   ]
  },
  {
   "cell_type": "markdown",
   "metadata": {
    "colab_type": "text",
    "id": "CmzortVzVdTn"
   },
   "source": [
    "4. Data"
   ]
  },
  {
   "cell_type": "markdown",
   "metadata": {
    "colab_type": "text",
    "id": "Ualy_sMdVg9k"
   },
   "source": [
    "5. Implementation (Environment)"
   ]
  },
  {
   "cell_type": "markdown",
   "metadata": {
    "colab_type": "text",
    "id": "ygSmqwRJVmBz"
   },
   "source": [
    "6. Result and discussion"
   ]
  },
  {
   "cell_type": "markdown",
   "metadata": {
    "colab_type": "text",
    "id": "hG9g7JanVozE"
   },
   "source": [
    "7. Efficiency (compare with algorithm without parallelization)"
   ]
  },
  {
   "cell_type": "markdown",
   "metadata": {
    "colab_type": "text",
    "id": "8JiGoyqLVzVW"
   },
   "source": []
  }
 ],
 "metadata": {
  "colab": {
   "collapsed_sections": [],
   "name": "ELTDM.ipynb",
   "provenance": [],
   "version": "0.3.2"
  },
  "kernelspec": {
   "display_name": "Python 3",
   "language": "python",
   "name": "python3"
  },
  "language_info": {
   "codemirror_mode": {
    "name": "ipython",
    "version": 3
   },
   "file_extension": ".py",
   "mimetype": "text/x-python",
   "name": "python",
   "nbconvert_exporter": "python",
   "pygments_lexer": "ipython3",
   "version": "3.7.0"
  }
 },
 "nbformat": 4,
 "nbformat_minor": 1
}
