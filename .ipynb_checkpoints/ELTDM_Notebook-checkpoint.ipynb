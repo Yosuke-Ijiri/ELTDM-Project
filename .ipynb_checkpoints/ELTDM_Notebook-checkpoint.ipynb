{
 "cells": [
  {
   "cell_type": "markdown",
   "metadata": {},
   "source": [
    "<img src=\"img/ENSAE_logo.jpg\">"
   ]
  },
  {
   "cell_type": "markdown",
   "metadata": {},
   "source": [
    "# *ELTDM Project*\n",
    "# *Parallelised Community Detection with Spark MapReduce*  \n",
    "**Mastère Spécialisé Data Science, 2018-19, \"Éléments logiciels pour le traitement des données massives\"** \n",
    "  \n",
    "**Alban CHAMPEVILLE DE BOISJOLLY**   \n",
    "**Yosuke IJIRI**  \n",
    "  "
   ]
  },
  {
   "cell_type": "code",
   "execution_count": 28,
   "metadata": {},
   "outputs": [
    {
     "data": {
      "text/html": [
       "<div id=\"my_id_menu_nb\">run previous cell, wait for 2 seconds</div>\n",
       "<script>\n",
       "function repeat_indent_string(n){\n",
       "    var a = \"\" ;\n",
       "    for ( ; n > 0 ; --n)\n",
       "        a += \"    \";\n",
       "    return a;\n",
       "}\n",
       "// look up into all sections and builds an automated menu //\n",
       "var update_menu_string = function(begin, lfirst, llast, sformat, send, keep_item, begin_format, end_format) {\n",
       "    var anchors = document.getElementsByClassName(\"section\");\n",
       "    if (anchors.length == 0) {\n",
       "        anchors = document.getElementsByClassName(\"text_cell_render rendered_html\");\n",
       "    }\n",
       "    var i,t;\n",
       "    var text_menu = begin;\n",
       "    var text_memo = \"<pre>\\nlength:\" + anchors.length + \"\\n\";\n",
       "    var ind = \"\";\n",
       "    var memo_level = 1;\n",
       "    var href;\n",
       "    var tags = [];\n",
       "    var main_item = 0;\n",
       "    var format_open = 0;\n",
       "    for (i = 0; i <= llast; i++)\n",
       "        tags.push(\"h\" + i);\n",
       "\n",
       "    for (i = 0; i < anchors.length; i++) {\n",
       "        text_memo += \"**\" + anchors[i].id + \"--\\n\";\n",
       "\n",
       "        var child = null;\n",
       "        for(t = 0; t < tags.length; t++) {\n",
       "            var r = anchors[i].getElementsByTagName(tags[t]);\n",
       "            if (r.length > 0) {\n",
       "child = r[0];\n",
       "break;\n",
       "            }\n",
       "        }\n",
       "        if (child == null) {\n",
       "            text_memo += \"null\\n\";\n",
       "            continue;\n",
       "        }\n",
       "        if (anchors[i].hasAttribute(\"id\")) {\n",
       "            // when converted in RST\n",
       "            href = anchors[i].id;\n",
       "            text_memo += \"#1-\" + href;\n",
       "            // passer à child suivant (le chercher)\n",
       "        }\n",
       "        else if (child.hasAttribute(\"id\")) {\n",
       "            // in a notebook\n",
       "            href = child.id;\n",
       "            text_memo += \"#2-\" + href;\n",
       "        }\n",
       "        else {\n",
       "            text_memo += \"#3-\" + \"*\" + \"\\n\";\n",
       "            continue;\n",
       "        }\n",
       "        var title = child.textContent;\n",
       "        var level = parseInt(child.tagName.substring(1,2));\n",
       "\n",
       "        text_memo += \"--\" + level + \"?\" + lfirst + \"--\" + title + \"\\n\";\n",
       "\n",
       "        if ((level < lfirst) || (level > llast)) {\n",
       "            continue ;\n",
       "        }\n",
       "        if (title.endsWith('¶')) {\n",
       "            title = title.substring(0,title.length-1).replace(\"<\", \"&lt;\")\n",
       "         .replace(\">\", \"&gt;\").replace(\"&\", \"&amp;\");\n",
       "        }\n",
       "        if (title.length == 0) {\n",
       "            continue;\n",
       "        }\n",
       "\n",
       "        while (level < memo_level) {\n",
       "            text_menu += end_format + \"</ul>\\n\";\n",
       "            format_open -= 1;\n",
       "            memo_level -= 1;\n",
       "        }\n",
       "        if (level == lfirst) {\n",
       "            main_item += 1;\n",
       "        }\n",
       "        if (keep_item != -1 && main_item != keep_item + 1) {\n",
       "            // alert(main_item + \" - \" + level + \" - \" + keep_item);\n",
       "            continue;\n",
       "        }\n",
       "        while (level > memo_level) {\n",
       "            text_menu += \"<ul>\\n\";\n",
       "            memo_level += 1;\n",
       "        }\n",
       "        text_menu += repeat_indent_string(level-2);\n",
       "        text_menu += begin_format + sformat.replace(\"__HREF__\", href).replace(\"__TITLE__\", title);\n",
       "        format_open += 1;\n",
       "    }\n",
       "    while (1 < memo_level) {\n",
       "        text_menu += end_format + \"</ul>\\n\";\n",
       "        memo_level -= 1;\n",
       "        format_open -= 1;\n",
       "    }\n",
       "    text_menu += send;\n",
       "    //text_menu += \"\\n\" + text_memo;\n",
       "\n",
       "    while (format_open > 0) {\n",
       "        text_menu += end_format;\n",
       "        format_open -= 1;\n",
       "    }\n",
       "    return text_menu;\n",
       "};\n",
       "var update_menu = function() {\n",
       "    var sbegin = \"\";\n",
       "    var sformat = '<a href=\"#__HREF__\">__TITLE__</a>';\n",
       "    var send = \"\";\n",
       "    var begin_format = '<li>';\n",
       "    var end_format = '</li>';\n",
       "    var keep_item = -1;\n",
       "    var text_menu = update_menu_string(sbegin, 2, 4, sformat, send, keep_item,\n",
       "       begin_format, end_format);\n",
       "    var menu = document.getElementById(\"my_id_menu_nb\");\n",
       "    menu.innerHTML=text_menu;\n",
       "};\n",
       "window.setTimeout(update_menu,2000);\n",
       "            </script>"
      ],
      "text/plain": [
       "<IPython.core.display.HTML object>"
      ]
     },
     "execution_count": 28,
     "metadata": {},
     "output_type": "execute_result"
    }
   ],
   "source": [
    "from jyquickhelper import add_notebook_menu\n",
    "add_notebook_menu()"
   ]
  },
  {
   "cell_type": "markdown",
   "metadata": {},
   "source": [
    "## 0. Abstract"
   ]
  },
  {
   "cell_type": "markdown",
   "metadata": {},
   "source": [
    "This project implements a parallelised community detection algorithm proposed by [*\"S. Moon, et al., Parallel community detection on large graphs with MapReduce and GraphChi, Data Knowl. Eng. (2015)\"*.](http://dx.doi.org/10.1016/j.datak.2015.05.001) The model is based on Girvan-Newman Algorithm. We use Python, Spark and AWS as the environment."
   ]
  },
  {
   "cell_type": "markdown",
   "metadata": {},
   "source": [
    "## 1. Introduction"
   ]
  },
  {
   "cell_type": "markdown",
   "metadata": {},
   "source": [
    "Analysing network datum has become a key issue in many areas to base suggestions, advices and strategies in many sectors and applications. Community detection aims at identifying clusters in a network, i.e. regroup vertices into groups of high density connected vertices i.a. to make friends recommendations or target marketing. The Girvan-Newman algorithm is one of the most used for this objective. It uses the concept of edge betweenness, which is a measure of the centrality and influence of an edge in a network, with the shortest-path method.\n",
    "\n",
    "Given the size of networks and the method used to compute the edge betweenness, parallelization of the computation is unavoidable to realize the task efficiently. Our work is focused on the Shortest-Path Betweeness MapReduce Algorithm (SPB-MRA). Parallelizing computations will be realized at each of the 4 stages of the Map-Reduce algorithm.\n",
    "\n",
    "Related article:  \" Parallel community detection on large graphs with MapReduce and GraphChi\" published in 2015 by Seunghyeon Moon, Jae-Gil Lee, Minseo Kang, Minsoo Choy and Jin-woo Lee."
   ]
  },
  {
   "cell_type": "markdown",
   "metadata": {},
   "source": [
    "## 2. Model"
   ]
  },
  {
   "cell_type": "markdown",
   "metadata": {},
   "source": [
    "Community Detection, Modularity Method"
   ]
  },
  {
   "cell_type": "markdown",
   "metadata": {},
   "source": [
    "## 3. Algorithm"
   ]
  },
  {
   "cell_type": "markdown",
   "metadata": {},
   "source": [
    "Girvan-Newman Algorithm"
   ]
  },
  {
   "cell_type": "markdown",
   "metadata": {},
   "source": [
    "<img src=\"img/algo.png\" width=\"400\" align=\"left\">"
   ]
  },
  {
   "cell_type": "markdown",
   "metadata": {},
   "source": [
    "## 4. Data"
   ]
  },
  {
   "cell_type": "markdown",
   "metadata": {},
   "source": [
    "- We have 6 network datasets with different number of nodes and edges.\n",
    "    - Stanford Large Network Dataset Collection (https://snap.stanford.edu/data/)"
   ]
  },
  {
   "cell_type": "markdown",
   "metadata": {},
   "source": [
    "## 5. Environment"
   ]
  },
  {
   "cell_type": "markdown",
   "metadata": {},
   "source": [
    "Python + Spark on single laptop\n",
    "\n",
    "Hardware Specification  \n",
    "CPU: 2.6GHz dual core, Intel Core i5 processor  \n",
    "Memory: 8GB 1600 MHz DDR3  \n",
    "OS: macOS Mojave, Version 10.14.2\n",
    "\n",
    "Although this laptop has 2 physical cores, software recognises 4 logical cores thanks to hyper-threading technology."
   ]
  },
  {
   "cell_type": "raw",
   "metadata": {},
   "source": [
    "> db.hostInfo()\n",
    "{\n",
    "\t\"system\" : {\n",
    "\t\t\"currentTime\" : ISODate(\"2019-01-10T13:49:24.536Z\"),\n",
    "\t\t\"hostname\" : \"MacBook-Pro-de-Yosuke.local\",\n",
    "\t\t\"cpuAddrSize\" : 64,\n",
    "\t\t\"memSizeMB\" : 8192,\n",
    "\t\t\"numCores\" : 4,\n",
    "\t\t\"cpuArch\" : \"x86_64\",\n",
    "\t\t\"numaEnabled\" : false\n",
    "\t},\n",
    "\t\"os\" : {\n",
    "\t\t\"type\" : \"Darwin\",\n",
    "\t\t\"name\" : \"Mac OS X\",\n",
    "\t\t\"version\" : \"18.2.0\"\n",
    "\t},\n",
    "\t\"extra\" : {\n",
    "\t\t\"versionString\" : \"Darwin Kernel Version 18.2.0: Mon Nov 12 20:24:46 PST 2018; root:xnu-4903.231.4~2/RELEASE_X86_64\",\n",
    "\t\t\"alwaysFullSync\" : 0,\n",
    "\t\t\"nfsAsync\" : 0,\n",
    "\t\t\"model\" : \"MacBookPro11,1\",\n",
    "\t\t\"physicalCores\" : 2,\n",
    "\t\t\"cpuFrequencyMHz\" : 2600,\n",
    "\t\t\"cpuString\" : \"Intel(R) Core(TM) i5-4278U CPU @ 2.60GHz\",\n",
    "\t\t\"cpuFeatures\" : \"FPU VME DE PSE TSC MSR PAE MCE CX8 APIC SEP MTRR PGE MCA CMOV PAT PSE36 CLFSH DS ACPI MMX FXSR SSE SSE2 SS HTT TM PBE SSE3 PCLMULQDQ DTES64 MON DSCPL VMX EST TM2 SSSE3 FMA CX16 TPR PDCM SSE4.1 SSE4.2 x2APIC MOVBE POPCNT AES PCID XSAVE OSXSAVE SEGLIM64 TSCTMR AVX1.0 RDRAND F16C SYSCALL XD 1GBPAGE EM64T LAHF LZCNT RDTSCP TSCI\",\n",
    "\t\t\"pageSize\" : 4096,\n",
    "\t\t\"scheduler\" : \"dualq\"\n",
    "\t},\n",
    "\t\"ok\" : 1\n",
    "}"
   ]
  },
  {
   "cell_type": "markdown",
   "metadata": {},
   "source": [
    "## 6. Implementation"
   ]
  },
  {
   "cell_type": "code",
   "execution_count": 29,
   "metadata": {},
   "outputs": [],
   "source": [
    "import numpy as np\n",
    "import pandas as pd\n",
    "import matplotlib.pyplot as plt\n",
    "import networkx as nx\n",
    "from operator import add\n",
    "import time"
   ]
  },
  {
   "cell_type": "code",
   "execution_count": 30,
   "metadata": {},
   "outputs": [
    {
     "data": {
      "text/plain": [
       "'/Users/IjiriYosuke/Documents/GitHub/ELTDM-Project'"
      ]
     },
     "execution_count": 30,
     "metadata": {},
     "output_type": "execute_result"
    }
   ],
   "source": [
    "# Check the current directory\n",
    "import os\n",
    "os.getcwd()"
   ]
  },
  {
   "cell_type": "markdown",
   "metadata": {},
   "source": [
    "- We have 6 network datasets with different number of nodes and edges."
   ]
  },
  {
   "cell_type": "code",
   "execution_count": 31,
   "metadata": {
    "scrolled": true
   },
   "outputs": [
    {
     "name": "stdout",
     "output_type": "stream",
     "text": [
      "<class 'numpy.ndarray'>\n",
      "[[2 1]\n",
      " [3 1]\n",
      " [4 1]\n",
      " [5 1]\n",
      " [6 1]]\n"
     ]
    }
   ],
   "source": [
    "# Load a dataset from the six options\n",
    "\n",
    "#data = np.loadtxt(\"./Data/test.txt\", dtype='uint16')  # 21 nodes,31 edges\n",
    "data = np.loadtxt(\"./Data/soc-karate.txt\", dtype='uint16')  # 34 nodes,78 edges\n",
    "#data = np.loadtxt(\"./Data/Test100.txt\", dtype='uint16')  # 103 nodes,239 edges\n",
    "#data = np.loadtxt(\"./Data/soc-ANU-residence_without_weights.txt\", dtype='uint16')  # 217 nodes, 1839 edges\n",
    "#data = np.loadtxt(\"./Data/soc-physicians.txt\", dtype='uint16')  # 241 nodes, 923 edges\n",
    "#data = np.loadtxt(\"./Data/ca-GrQc_small.txt\", dtype='uint16')  # 639 nodes, 617 edges\n",
    "#data = np.loadtxt(\"./Data/email-Eu-core.txt\", dtype='uint16')  # 986 nodes, 16064 edges\n",
    "\n",
    "print(type(data))\n",
    "print(data[:5])  # Display the first 5 rows of the loaded dataset"
   ]
  },
  {
   "cell_type": "markdown",
   "metadata": {},
   "source": [
    "### 6.1. Spark Configuration\n",
    "- We first start SparkContext by specifying the number of threads to be used."
   ]
  },
  {
   "cell_type": "code",
   "execution_count": 32,
   "metadata": {},
   "outputs": [
    {
     "data": {
      "text/html": [
       "\n",
       "        <div>\n",
       "            <p><b>SparkContext</b></p>\n",
       "\n",
       "            <p><a href=\"http://10.25.1.155:4040\">Spark UI</a></p>\n",
       "\n",
       "            <dl>\n",
       "              <dt>Version</dt>\n",
       "                <dd><code>v2.4.0</code></dd>\n",
       "              <dt>Master</dt>\n",
       "                <dd><code>local[5]</code></dd>\n",
       "              <dt>AppName</dt>\n",
       "                <dd><code>ELTDM</code></dd>\n",
       "            </dl>\n",
       "        </div>\n",
       "        "
      ],
      "text/plain": [
       "<SparkContext master=local[5] appName=ELTDM>"
      ]
     },
     "execution_count": 32,
     "metadata": {},
     "output_type": "execute_result"
    }
   ],
   "source": [
    "# Stop SparkContext if it is already running\n",
    "try:\n",
    "    sc.stop()\n",
    "except NameError:\n",
    "    pass\n",
    "\n",
    "from copy import deepcopy  # To make a deep copy of tuple-type data\n",
    "from pyspark import SparkContext, SparkConf\n",
    "conf = (SparkConf()\n",
    "        .setMaster(\"local[5]\")  # Specify the number of threads to be used\n",
    "        .setAppName(\"ELTDM\")\n",
    "        .set('spark.executor.memory', '1g')\n",
    "        .set('spark.driver.memory', '1g'))\n",
    "sc = SparkContext(conf = conf)\n",
    "sc"
   ]
  },
  {
   "cell_type": "code",
   "execution_count": 33,
   "metadata": {},
   "outputs": [
    {
     "data": {
      "text/plain": [
       "5"
      ]
     },
     "execution_count": 33,
     "metadata": {},
     "output_type": "execute_result"
    }
   ],
   "source": [
    "sc.defaultParallelism"
   ]
  },
  {
   "cell_type": "code",
   "execution_count": 34,
   "metadata": {},
   "outputs": [
    {
     "data": {
      "text/plain": [
       "[('spark.app.id', 'local-1550426255844'),\n",
       " ('spark.executor.memory', '1g'),\n",
       " ('spark.rdd.compress', 'True'),\n",
       " ('spark.app.name', 'ELTDM'),\n",
       " ('spark.serializer.objectStreamReset', '100'),\n",
       " ('spark.driver.port', '59217'),\n",
       " ('spark.executor.id', 'driver'),\n",
       " ('spark.submit.deployMode', 'client'),\n",
       " ('spark.master', 'local[5]'),\n",
       " ('spark.driver.host', '10.25.1.155'),\n",
       " ('spark.driver.memory', '1g'),\n",
       " ('spark.ui.showConsoleProgress', 'true')]"
      ]
     },
     "execution_count": 34,
     "metadata": {},
     "output_type": "execute_result"
    }
   ],
   "source": [
    "sc._conf.getAll()"
   ]
  },
  {
   "cell_type": "markdown",
   "metadata": {},
   "source": [
    "- Before proceeding, we clean up the dataset (edge list) according to the below three criteria:\n",
    "    1. Put the node with smaller ID to the left for each edge data (e.g. [3 1] -> [1 3]) (undirectional network)\n",
    "    2. Filter out self-edge data (e.g. [2 2] -> delete)\n",
    "    3. Remove duplicate edges"
   ]
  },
  {
   "cell_type": "markdown",
   "metadata": {},
   "source": [
    "### 6.2. Data Preparation"
   ]
  },
  {
   "cell_type": "code",
   "execution_count": 35,
   "metadata": {},
   "outputs": [
    {
     "name": "stdout",
     "output_type": "stream",
     "text": [
      "<class 'list'>\n"
     ]
    }
   ],
   "source": [
    "# Clean up the edge list\n",
    "rdd = sc.parallelize(data)\n",
    "d = rdd.map(lambda x: x if x[0] < x[1] else [x[1], x[0]]  # Criterion 1\n",
    "           ).filter(lambda x: x[0] != x[1]).collect()  # Criterion 2\n",
    "d = list(set(map(tuple, d)))  # Criterion 3\n",
    "d = list(map(list, d))\n",
    "print(type(d))"
   ]
  },
  {
   "cell_type": "code",
   "execution_count": 36,
   "metadata": {},
   "outputs": [
    {
     "name": "stdout",
     "output_type": "stream",
     "text": [
      "The data contains\n",
      "34 distinct nodes, and 78 distinct edges\n"
     ]
    }
   ],
   "source": [
    "# Save the original node list during the whole process\n",
    "nodes = list(set([n1 for n1, n2 in d] + [n2 for n1, n2 in d]))\n",
    "nb_edges_initial = len(d)\n",
    "\n",
    "print(\"The data contains\")\n",
    "print(len(nodes), \"distinct nodes, and\", nb_edges_initial, \"distinct edges\")"
   ]
  },
  {
   "cell_type": "markdown",
   "metadata": {},
   "source": [
    "- Let's visualise the initial network of the dataset."
   ]
  },
  {
   "cell_type": "code",
   "execution_count": 37,
   "metadata": {},
   "outputs": [
    {
     "data": {
      "image/png": "[encoded data removed]",
      "text/plain": [
       "<Figure size 432x288 with 1 Axes>"
      ]
     },
     "metadata": {},
     "output_type": "display_data"
    }
   ],
   "source": [
    "# Visualisation of the graph\n",
    "n_size = 200  # Set the size of the nodes in the graph\n",
    "\n",
    "def draw_initial_graph(graph):\n",
    "    \n",
    "    # Create networkx graph\n",
    "    G=nx.Graph()\n",
    "    \n",
    "    # Add nodes\n",
    "    for node in nodes:\n",
    "        G.add_node(node)\n",
    "        \n",
    "    # Add edges\n",
    "    for edge in graph:\n",
    "        G.add_edge(edge[0], edge[1])\n",
    "        \n",
    "    # Save the positions of the nodes\n",
    "    pos=nx.get_node_attributes(G,'pos')\n",
    "\n",
    "    # Configure the graph\n",
    "    pos = nx.spring_layout(G)\n",
    "    nx.draw(G, \n",
    "            pos, \n",
    "            with_labels = True, \n",
    "            node_size = n_size,\n",
    "            node_color = 'lightgreen', edge_color = 'lightgreen', font_color = 'gray')\n",
    "    \n",
    "    # Save and display the graph\n",
    "    plt.savefig('./Data/Figures/Pre_Round1.png')\n",
    "    plt.show()\n",
    "    \n",
    "    return pos\n",
    "\n",
    "np.random.seed(seed=97)\n",
    "pos = draw_initial_graph(d)  # Save the initial node positions"
   ]
  },
  {
   "cell_type": "code",
   "execution_count": 38,
   "metadata": {},
   "outputs": [
    {
     "name": "stdout",
     "output_type": "stream",
     "text": [
      "Sample: Adjacency list of origin node ID 1 is [1, 32, 2, 3, 4, 5, 6, 7, 8, 9, 11, 12, 13, 14, 18, 20, 22]\n"
     ]
    }
   ],
   "source": [
    "# Make a list of adjacency lists\n",
    "# The first element of each adjacency list denotes the node of origin\n",
    "adj_list = []\n",
    "\n",
    "for n in nodes:\n",
    "    \n",
    "    adj = []\n",
    "\n",
    "    # If a node in a edge data is the origin (n),\n",
    "    # add the connected node to its adjacency list\n",
    "    for i in range(len(d)):\n",
    "        if d[i][0] == n:\n",
    "            adj.append(d[i][1])\n",
    "        if d[i][1] == n:\n",
    "            adj.append(d[i][0])\n",
    "    \n",
    "    adj = list(set(adj)) \n",
    "    adj.insert(0, n)  # Label the adjacency list with the node ID of origin\n",
    "    adj_list.append(adj)\n",
    "\n",
    "print('Sample: Adjacency list of origin node ID %d is %s' %(adj_list[0][0], adj_list[0]))"
   ]
  },
  {
   "cell_type": "markdown",
   "metadata": {},
   "source": [
    "- The format of tuple is : (targetId, sourceId, distance, 'status', weight, [pathInfo], [adjList])"
   ]
  },
  {
   "cell_type": "code",
   "execution_count": 39,
   "metadata": {},
   "outputs": [
    {
     "name": "stdout",
     "output_type": "stream",
     "text": [
      "Sample: the first tuple is [1, 1, 0, 'a', 1, [], [32, 2, 3, 4, 5, 6, 7, 8, 9, 11, 12, 13, 14, 18, 20, 22]]\n"
     ]
    }
   ],
   "source": [
    "# Make tuple for each node\n",
    "class tuples():\n",
    "    def __init__(self, targetId, sourceId, distance, status, weight, pathInfo, adjList) :\n",
    "        self.targetId = targetId\n",
    "        self.sourceId = sourceId\n",
    "        self.distance = distance\n",
    "        self.status = status\n",
    "        self.weight = weight\n",
    "        self.pathInfo = pathInfo\n",
    "        self.adjList = adjList\n",
    "\n",
    "network = []\n",
    "\n",
    "for n in nodes:\n",
    "    \n",
    "    # Create tuples\n",
    "    v = tuples(targetId = n, sourceId = n, distance = 0, status = 'a', weight = 1, pathInfo = [], adjList = [])\n",
    "    \n",
    "    # Fill in adjList\n",
    "    for i in range(len(adj_list)):\n",
    "        if adj_list[i][0] == n:\n",
    "            v.adjList = adj_list[i][1:len(adj_list[i])]\n",
    "            break\n",
    "            \n",
    "    network.append([v.targetId, v.sourceId, v.distance, v.status, v.weight, v.pathInfo, v.adjList])\n",
    "\n",
    "print('Sample: the first tuple is %s' %network[0])"
   ]
  },
  {
   "cell_type": "markdown",
   "metadata": {},
   "source": [
    "- Although it is not necessary to convert the input of the initial Stage1 Map into key-value format, we make this conversion in order to be able to put the output of the Stage4 Reduce directly to the Stage1 Map of the next round."
   ]
  },
  {
   "cell_type": "code",
   "execution_count": 40,
   "metadata": {},
   "outputs": [],
   "source": [
    "# Key-value conversion\n",
    "rdd = sc.parallelize(network)\n",
    "rdd = rdd.map(lambda x: (x[0], x[1:]))\n",
    "output = rdd.collect()"
   ]
  },
  {
   "cell_type": "markdown",
   "metadata": {},
   "source": [
    "### 6.3. Stage 1\n",
    "- In this stage, the shortest paths between every pair of nodes in the network are calculated.\n",
    "- This Map-Reduce stage (stage 1) repeats until all tuples have 'i' (inactive) for status.\n",
    "- The outcome of the iteration of this stage should give a list of tuples which tells the shortest paths between every pair of nodes in the network.\n"
   ]
  },
  {
   "cell_type": "markdown",
   "metadata": {},
   "source": [
    "#### Stage 1 - Map "
   ]
  },
  {
   "cell_type": "markdown",
   "metadata": {},
   "source": [
    "- In the Map operation, the frontiers are expanded from every node to its adjacent nodes.\n",
    "- If $status$ is 'a' (active), status is changed to 'i' (inactive), 1 is added to $distance$ and $targetId$ is added to $pathInfo$.\n",
    "- In addition, new active tuples are generated by assigning each node in $adjList$ to $targetId$, with $distance$ and $pathInfo$ equal to those of the original tuple.\n",
    "- Thus, this Map is characterised by **Breadth First Search**."
   ]
  },
  {
   "cell_type": "code",
   "execution_count": 41,
   "metadata": {},
   "outputs": [],
   "source": [
    "def stage1_map(p):  \n",
    "    result = []\n",
    "    if p[1][2] == 'a':\n",
    "        p[1][2] = 'i'\n",
    "        p[1][1] += 1\n",
    "        p[1][4].append(p[0])\n",
    "        x = deepcopy(p)\n",
    "        result.append(x)\n",
    "        temp = p[1][5].copy()\n",
    "        for i in range(len(temp)):\n",
    "            k = temp[i]\n",
    "            p[1][2] = 'a'\n",
    "            p[1][5] = []\n",
    "            y = deepcopy(p)\n",
    "            result.append((k, y[1]))\n",
    "        return result\n",
    "    else:\n",
    "        els = deepcopy(p)\n",
    "        result.append(els)\n",
    "        return result"
   ]
  },
  {
   "cell_type": "markdown",
   "metadata": {},
   "source": [
    "#### Stage 1 - Reduce "
   ]
  },
  {
   "cell_type": "markdown",
   "metadata": {},
   "source": [
    "- In this Reduce operation, among the tuples sharing $sourceId$ and $targetId$, only the tuple that has the minimum value of distance survices.\n",
    "- If two or more tuples have the same minimum, $weight$ is changed to the number of such tuples to remember the multiplicity of the shortest path.\n",
    "<br />\n",
    "<br />\n",
    "- This Reduce part consists of 6 steps:  \n",
    "1) Add *sourceId* to key  \n",
    "2) Aggregate the values that belong to the same key  \n",
    "3) Take only values that have the shortest distance in the same key  \n",
    "4) Replace *weight* of such values $\\in minList$ with the size of $minList$  \n",
    "5) Flatten values and list the tuples  \n",
    "6) Fill in any empty adjList"
   ]
  },
  {
   "cell_type": "code",
   "execution_count": 42,
   "metadata": {},
   "outputs": [],
   "source": [
    "def join(x, y):\n",
    "    # 4 conditional statements below to join values\n",
    "    # with correct level of nesting\n",
    "    if (type(x[0]) is list) and (type(y[0]) is not list):\n",
    "        return x+[y]\n",
    "    elif (type(x[0]) is not list) and (type(y[0]) is list):\n",
    "        return [x]+y\n",
    "    elif (type(x[0]) is not list) and (type(y[0]) is not list):\n",
    "        return [x]+[y]\n",
    "    else:\n",
    "        return x+y\n",
    "    isinstance(x[0], int)"
   ]
  },
  {
   "cell_type": "code",
   "execution_count": 43,
   "metadata": {},
   "outputs": [],
   "source": [
    "def stage1_reduce(x):\n",
    "    if type(x[1][0]) is list:\n",
    "        m = x[1][0][0]\n",
    "        for s in range(len(x[1])):\n",
    "            if x[1][s][0] < m:\n",
    "                m = x[1][s][0]\n",
    "        minList = []\n",
    "        # Drop tuple(s) with non-shortest distance\n",
    "        for s in range(len(x[1])):\n",
    "            if x[1][s][0] == m:\n",
    "                minList.append(x[1][s])\n",
    "        y = (x[0], minList)\n",
    "        # Update weight\n",
    "        for s in range(len(minList)):\n",
    "            y[1][s][2] = len(minList)\n",
    "        return y\n",
    "    else:\n",
    "        return x"
   ]
  },
  {
   "cell_type": "code",
   "execution_count": 44,
   "metadata": {},
   "outputs": [],
   "source": [
    "def twokeys_to_onekey(x):\n",
    "    k = x[0][0]\n",
    "    v = [x[0][1]]\n",
    "    v.extend(x[1])\n",
    "    return k, v"
   ]
  },
  {
   "cell_type": "markdown",
   "metadata": {},
   "source": [
    "### 6.4. Stage 2\n",
    "- In this stage, the edge betweenneses of all eadges in the network are calculated."
   ]
  },
  {
   "cell_type": "markdown",
   "metadata": {},
   "source": [
    "#### Stage 2 - Map & Reduce\n",
    "- In the Map operation, unity is divided to each edge on a shortest path according to the $weight$ of the shortest paths sharing $sourceId$ and $targetId$.\n",
    "- In the Reduce operation, the contribution of each shortest path is summed up for each stage."
   ]
  },
  {
   "cell_type": "code",
   "execution_count": 52,
   "metadata": {},
   "outputs": [],
   "source": [
    "def stage2_map(x):\n",
    "    edges_on_the_path = []\n",
    "    for i in range(len(x[1][4])-1):\n",
    "        k = (x[1][4][i], x[1][4][i+1])\n",
    "        w = x[1][3]\n",
    "        edges_on_the_path.append((k, 1/w))\n",
    "    return edges_on_the_path"
   ]
  },
  {
   "cell_type": "markdown",
   "metadata": {},
   "source": [
    "### 6.5. Stage 3\n",
    "- In this stage, $k_iter$ edges are selected according to edge betweenness. By default, $k_iter = 1$."
   ]
  },
  {
   "cell_type": "markdown",
   "metadata": {},
   "source": [
    "#### Stage 3 - Map & Reduce"
   ]
  },
  {
   "cell_type": "markdown",
   "metadata": {},
   "source": [
    "- There is no function to be defined here.\n",
    "- Refer to $# Stage3$ of <a href='#Rounds Stage1-4'>6.8. Rounds Stage1-4</a>."
   ]
  },
  {
   "cell_type": "markdown",
   "metadata": {},
   "source": [
    "### 6.6. Stage4\n",
    "- In this stage, the edges selected by Stage 3 are removed from the network. Then, a new set of tuples are generated to reflect the removed edges since edge betweenness needs to be recalculated in the next round."
   ]
  },
  {
   "cell_type": "markdown",
   "metadata": {},
   "source": [
    "#### Stage4 - Map"
   ]
  },
  {
   "cell_type": "code",
   "execution_count": 53,
   "metadata": {},
   "outputs": [],
   "source": [
    "def stage4_map(x):\n",
    "    counter = 0\n",
    "    output = []\n",
    "    for i in range(len(distributed_cache)):\n",
    "        if x[0] in distributed_cache[i][0]:\n",
    "            counter += 1  # Increase counter if its key is affected by the removal of the edge(s)\n",
    "            c = distributed_cache[i][0][not(distributed_cache[i][0].index(x[0]))]  # Take the corresponding node\n",
    "            try:\n",
    "                x[1][5].remove(c)  # Remove if the corresponding node exists in the adjList\n",
    "            except ValueError:\n",
    "                pass  # Pass otherwise\n",
    "    if counter == 0:\n",
    "        return [tuple(x)]\n",
    "    else:\n",
    "        new = (x[1][0], [x[1][0], 0, 'a', 1, [], []])\n",
    "        return x, new"
   ]
  },
  {
   "cell_type": "markdown",
   "metadata": {},
   "source": [
    "#### Stage4 - Reduce"
   ]
  },
  {
   "cell_type": "code",
   "execution_count": 54,
   "metadata": {},
   "outputs": [],
   "source": [
    "def stage4_reduce(x, y):\n",
    "    if x[2] == 'a' and y[2] == 'a':\n",
    "        return x\n",
    "    elif x[2] == 'a' and y[2] == 'i':\n",
    "        x[5] = y[5].copy()\n",
    "        return x\n",
    "    elif x[2] == 'i' and y[2] == 'a':\n",
    "        y[5] = x[5].copy()\n",
    "        return y\n",
    "    else:\n",
    "        return x+y\n",
    "def revision(x):  # To flatten the pressed tuples (ones with status i)\n",
    "    tup = []\n",
    "    if len(x[1]) > 6:\n",
    "        for i in range(int(len(x[1])/6)):\n",
    "            tup.append((x[0],x[1][i*6:i*6+6]))\n",
    "        return tup\n",
    "    else:\n",
    "        return [x]"
   ]
  },
  {
   "cell_type": "code",
   "execution_count": 55,
   "metadata": {},
   "outputs": [],
   "source": [
    "def from_tuples_to_edgelist(x):\n",
    "    res = []\n",
    "    for i in range(len(x)):\n",
    "        for j in range(len(x[i][1][5])):\n",
    "            res.append([x[i][0], x[i][1][5][j]])\n",
    "    res = set(map(tuple, res))  # Remove duplicate edges\n",
    "    res = list(res)\n",
    "    result = list(map(list, res))\n",
    "    return result"
   ]
  },
  {
   "cell_type": "code",
   "execution_count": 56,
   "metadata": {},
   "outputs": [],
   "source": [
    "#Visualisation of the graph\n",
    "import pandas\n",
    "import networkx as nx\n",
    "import matplotlib.pyplot as plt\n",
    "from datetime import datetime\n",
    "\n",
    "nodes = set([n1 for n1, n2 in data] + [n2 for n1, n2 in data])\n",
    "r = 1\n",
    "def draw_graph(graph, r):\n",
    "    # create networkx graph\n",
    "    G=nx.Graph()\n",
    "    # add nodes\n",
    "    for node in nodes:\n",
    "        G.add_node(node)\n",
    "    # add edges\n",
    "    for edge in graph:\n",
    "        G.add_edge(edge[0], edge[1])\n",
    "    # draw graph\n",
    "    nx.draw(G, pos = pos, with_labels = True, node_size=n_size, node_color=\"lightgreen\", edge_color='lightgreen', font_color='gray')\n",
    "    # show graph\n",
    "    t = float(time.time())\n",
    "    plt.savefig('./Data/Figures/Post_Round_%d.png' %r)\n",
    "    plt.show()"
   ]
  },
  {
   "cell_type": "markdown",
   "metadata": {},
   "source": [
    "### 6.7. Modularity Q\n",
    "- In order to measure the goodness of a community we find, We employ Modularity Q proposed by [*Newman and Girvan, Finding and evaluating community structure in networks, Physical Review (2004)*.](http://www.cse.cuhk.edu.hk/~cslui/CMSC5734/newman_community_struct_networks_phys_rev.pdf)\n",
    "- Modularity Q measures the strengh of the community structure of the network."
   ]
  },
  {
   "cell_type": "markdown",
   "metadata": {},
   "source": [
    "[To be summarised]\n",
    "- Consider a particular division of a network into k communi- ties. Let us define a k􏰊k symmetric matrix e whose element eij is the fraction of all edges in the network that link verti- ces in community i to vertices in community j 􏰃50􏰁. 􏰅Here we consider all edges in the original network—even after edges have been removed by the community structure algorithm, our modularity measure is calculated using the full network.􏰀\n",
    "The trace of this matrix Tr e􏰋􏰂ieii gives the fraction of edges in the network that connect vertices in the same com- munity, and clearly a good division into communities should have a high value of this trace. The trace on its own, how- ever, is not a good indicator of the quality of the division since, for example, placing all vertices in a single community would give the maximal value of Tr e􏰋1 while giving no information about community structure at all.\n",
    "So we further define the row 􏰅or column􏰀 sums ai 􏰋 􏰂 j e i j , which represent the fraction of edges that connect to vertices in community i. In a network in which edges fall between vertices without regard for the communities they belong to, we would have eij􏰋aiaj . Thus we can define a modularity measure by:  \n",
    "$Q=\\sum_{i}(e_{ii}-a_i^2) = \\mathrm{Tr}\\ {\\bf e} - \\|{\\bf e}^2\\|$\n",
    "- where 􏰒x􏰒 indicates the sum of the elements of the matrix x. This quantity measures the fraction of the edges in the net- work that connect vertices of the same type 􏰅i.e., within- community edges􏰀 minus the expected value of the same quantity in a network with the same community divisions but random connections between the vertices. If the number of within-community edges is no better than random, we will get Q􏰋0. Values approaching Q􏰋1, which is the maximum, indicate networks with strong community structure 􏰃51􏰁. In practice, values for such networks typically fall in the range from about 0.3 to 0.7. Higher values are rare."
   ]
  },
  {
   "cell_type": "code",
   "execution_count": 57,
   "metadata": {},
   "outputs": [],
   "source": [
    "def Q_modularity(elist, nodes):\n",
    "\n",
    "# Read and clean up edges\n",
    "    c = sc.parallelize(elist)\n",
    "    c = c.map(lambda x: x if x[0] < x[1] else [x[1], x[0]]).filter(lambda x: x[0] != x[1]).collect()  # remove edge between a sigle node and prepare to remove duplicate edges\n",
    "    c = set(map(tuple, c))  # Remove duplicate edges\n",
    "    c = list(c)\n",
    "    c = list(map(list, c))\n",
    "\n",
    "# Make a graph for NetworkX library\n",
    "    H=nx.Graph()\n",
    "    # add nodes\n",
    "    for node in nodes:\n",
    "        H.add_node(node)\n",
    "    # add edges\n",
    "    for edge in c:\n",
    "        H.add_edge(edge[0], edge[1])\n",
    "\n",
    "# Make a community dictionary from the edge list {nodeId: communityId}\n",
    "    com_dic = {}\n",
    "    com_id = 0\n",
    "\n",
    "    for n in nodes:\n",
    "        try:\n",
    "            com_dic[n]\n",
    "        except KeyError:\n",
    "            com_id += 1\n",
    "            com_dic[n] = com_id\n",
    "            for m in nodes:\n",
    "                if (n != m) and (nx.has_path(H, m, n)):  # has_path(G, source, target): return True if there is a path\n",
    "                    try:\n",
    "                        com_dic[m]\n",
    "                    except KeyError:\n",
    "                        com_dic[m] = com_id\n",
    "\n",
    "    com_ids = list(set(com_dic.values()))\n",
    "    com_ids\n",
    "\n",
    "# Create a matrix `e` to calculate Q\n",
    "    e = np.matrix([[0.]*len(com_ids)]*len(com_ids))\n",
    "\n",
    "# Fill in `e` \n",
    "    for i in range(len(com_ids)):\n",
    "        for j in range(len(com_ids)):\n",
    "            keys_i = [k for k, v in com_dic.items() if v == i+1]\n",
    "            keys_j = [k for k, v in com_dic.items() if v == j+1]\n",
    "            if i == j:  # Fraction of edges that are within the same community\n",
    "                nb_within = 0\n",
    "                for edge in c:\n",
    "                    if set(edge) <= set(keys_i):\n",
    "                        nb_within += 1\n",
    "                e[i, i] = nb_within/nb_edges_initial\n",
    "            elif i < j:  # Fraction of edges that cross between community i and community j\n",
    "                nb_cross = 0\n",
    "                for edge in d:\n",
    "                    if (({edge[0]} <= set(keys_i)) and ({edge[1]} <= set(keys_j))) or (({edge[0]} <= set(keys_j)) and ({edge[1]} <= set(keys_i))):\n",
    "                        nb_cross += 1\n",
    "                e[i, j] = nb_cross/nb_edges_initial\n",
    "                e[j, i] = nb_cross/nb_edges_initial\n",
    "\n",
    "    a = np.ndarray.sum(e, axis=1)  \n",
    "    a = np.squeeze(np.asarray(a))\n",
    "\n",
    "# Calculate Q \n",
    "    Q = float(e.trace()) - np.dot(a, a)\n",
    "\n",
    "    return Q, com_dic"
   ]
  },
  {
   "cell_type": "markdown",
   "metadata": {},
   "source": [
    "<a id='Rounds Stage1-4'></a>"
   ]
  },
  {
   "cell_type": "markdown",
   "metadata": {},
   "source": [
    "### 6.8. Rounds Stage1-4\n",
    "- Finally we run the code using the functions defined above."
   ]
  },
  {
   "cell_type": "code",
   "execution_count": null,
   "metadata": {
    "scrolled": false
   },
   "outputs": [
    {
     "name": "stdout",
     "output_type": "stream",
     "text": [
      "Data contains 34 nodes, and 78 edges \n",
      "\n",
      "ROUND 1 STARTED! \n",
      "\n",
      "Iteration 1 started...\n",
      " Now doing Map..\n",
      " Now doing Reduce..\n",
      " Now collecting Reduce result..\n",
      "  Collecting Reduce result took 2.9 seconds ( 0.0 mins ).\n",
      " Now flattening Reduce result..\n",
      "  Flattening took 0.1 seconds ( 0.0 mins ).\n",
      " Now finalising Reduce result by filling in adjList..\n",
      "  Filling in adjList took 0.0 seconds ( 0.0 mins ).\n",
      " Now iteration 1 finished!\n",
      "Iteration 1 finished. There are 0 / 3424 active tuples left. \n",
      "\n",
      "All the Stage1 iterations have finished. Stage1 was iterated for 1 times.\n",
      "Stage1 execution time was 3.7 seconds ( 0.1 mins ).\n",
      "Edge betweenness Score Top 10 is: [((1, 9), 77.31739926739928), ((14, 34), 57.26987179487179), ((20, 34), 51.292216117216114), ((1, 6), 43.833333333333336), ((1, 7), 43.833333333333336), ((1, 14), 42.89120879120878), ((1, 20), 39.69954212454212), ((9, 34), 38.65741758241758), ((9, 33), 33.59285714285714), ((1, 12), 33.0)]\n",
      "Round 1 removes [((1, 9), 77.31739926739928)]\n",
      "After the edge removal, the graph is:\n"
     ]
    },
    {
     "data": {
      "image/png": "[encoded data removed]",
      "text/plain": [
       "<Figure size 432x288 with 1 Axes>"
      ]
     },
     "metadata": {},
     "output_type": "display_data"
    },
    {
     "name": "stdout",
     "output_type": "stream",
     "text": [
      "Community Labelling is: {1: 1, 2: 1, 3: 1, 4: 1, 5: 1, 6: 1, 7: 1, 8: 1, 9: 1, 10: 1, 11: 1, 12: 1, 13: 1, 14: 1, 15: 1, 16: 1, 17: 1, 18: 1, 19: 1, 20: 1, 21: 1, 22: 1, 23: 1, 24: 1, 25: 1, 26: 1, 27: 1, 28: 1, 29: 1, 30: 1, 31: 1, 32: 1, 33: 1, 34: 1}\n",
      "(There are 1 communities now)\n",
      "Q Modularity is: 0.03698224852071008\n",
      "Round 1 took 13.2 seconds ( 0.2 mins)\n",
      "\n",
      " \n",
      "\n",
      "ROUND 2 STARTED! \n",
      "\n",
      "Iteration 1 started...\n",
      " Now doing Map..\n",
      " Now doing Reduce..\n",
      " Now collecting Reduce result..\n",
      "  Collecting Reduce result took 1.1 seconds ( 0.0 mins ).\n",
      " Now flattening Reduce result..\n",
      "  Flattening took 0.0 seconds ( 0.0 mins ).\n",
      " Now finalising Reduce result by filling in adjList..\n",
      "  Filling in adjList took 0.0 seconds ( 0.0 mins ).\n",
      " Now iteration 1 finished!\n",
      "Iteration 1 finished. There are 150 / 184 active tuples left. \n",
      "\n",
      "Iteration 2 started...\n",
      " Now doing Map..\n",
      " Now doing Reduce..\n",
      " Now collecting Reduce result..\n",
      "  Collecting Reduce result took 1.7 seconds ( 0.0 mins ).\n",
      " Now flattening Reduce result..\n",
      "  Flattening took 0.0 seconds ( 0.0 mins ).\n",
      " Now finalising Reduce result by filling in adjList..\n",
      "  Filling in adjList took 0.1 seconds ( 0.0 mins ).\n",
      " Now iteration 2 finished!\n",
      "Iteration 2 finished. There are 936 / 1120 active tuples left. \n",
      "\n",
      "Iteration 3 started...\n",
      " Now doing Map..\n",
      " Now doing Reduce..\n",
      " Now collecting Reduce result..\n",
      "  Collecting Reduce result took 2.0 seconds ( 0.0 mins ).\n",
      " Now flattening Reduce result..\n",
      "  Flattening took 0.1 seconds ( 0.0 mins ).\n",
      " Now finalising Reduce result by filling in adjList..\n",
      "  Filling in adjList took 0.1 seconds ( 0.0 mins ).\n",
      " Now iteration 3 finished!\n",
      "Iteration 3 finished. There are 2790 / 3670 active tuples left. \n",
      "\n",
      "Iteration 4 started...\n",
      " Now doing Map..\n",
      " Now doing Reduce..\n",
      " Now collecting Reduce result..\n",
      "  Collecting Reduce result took 3.7 seconds ( 0.1 mins ).\n",
      " Now flattening Reduce result..\n",
      "  Flattening took 0.1 seconds ( 0.0 mins ).\n",
      " Now finalising Reduce result by filling in adjList..\n",
      "  Filling in adjList took 0.2 seconds ( 0.0 mins ).\n",
      " Now iteration 4 finished!\n",
      "Iteration 4 finished. There are 4226 / 5730 active tuples left. \n",
      "\n",
      "Iteration 5 started...\n",
      " Now doing Map..\n",
      " Now doing Reduce..\n",
      " Now collecting Reduce result..\n",
      "  Collecting Reduce result took 5.7 seconds ( 0.1 mins ).\n",
      " Now flattening Reduce result..\n",
      "  Flattening took 0.1 seconds ( 0.0 mins ).\n",
      " Now finalising Reduce result by filling in adjList..\n",
      "  Filling in adjList took 0.1 seconds ( 0.0 mins ).\n",
      " Now iteration 5 finished!\n",
      "Iteration 5 finished. There are 6398 / 8862 active tuples left. \n",
      "\n",
      "Iteration 6 started...\n",
      " Now doing Map..\n",
      " Now doing Reduce..\n",
      " Now collecting Reduce result..\n",
      "  Collecting Reduce result took 6.1 seconds ( 0.1 mins ).\n",
      " Now flattening Reduce result..\n",
      "  Flattening took 0.1 seconds ( 0.0 mins ).\n",
      " Now finalising Reduce result by filling in adjList..\n",
      "  Filling in adjList took 0.1 seconds ( 0.0 mins ).\n",
      " Now iteration 6 finished!\n",
      "Iteration 6 finished. There are 3138 / 6012 active tuples left. \n",
      "\n",
      "Iteration 7 started...\n",
      " Now doing Map..\n",
      " Now doing Reduce..\n",
      " Now collecting Reduce result..\n",
      "  Collecting Reduce result took 4.4 seconds ( 0.1 mins ).\n",
      " Now flattening Reduce result..\n",
      "  Flattening took 0.0 seconds ( 0.0 mins ).\n",
      " Now finalising Reduce result by filling in adjList..\n",
      "  Filling in adjList took 0.0 seconds ( 0.0 mins ).\n",
      " Now iteration 7 finished!\n",
      "Iteration 7 finished. There are 436 / 3358 active tuples left. \n",
      "\n",
      "Iteration 8 started...\n",
      " Now doing Map..\n",
      " Now doing Reduce..\n",
      " Now collecting Reduce result..\n",
      "  Collecting Reduce result took 2.5 seconds ( 0.0 mins ).\n",
      " Now flattening Reduce result..\n",
      "  Flattening took 0.0 seconds ( 0.0 mins ).\n",
      " Now finalising Reduce result by filling in adjList..\n",
      "  Filling in adjList took 0.0 seconds ( 0.0 mins ).\n",
      " Now iteration 8 finished!\n",
      "Iteration 8 finished. There are 0 / 2922 active tuples left. \n",
      "\n",
      "All the Stage1 iterations have finished. Stage1 was iterated for 8 times.\n",
      "Stage1 execution time was 33.0 seconds ( 0.6 mins ).\n",
      "Edge betweenness Score Top 10 is: [((14, 34), 82.00290591761178), ((20, 34), 75.50533682004269), ((1, 14), 69.11665442400735), ((1, 20), 62.24165442400736), ((1, 6), 43.833333333333336), ((1, 7), 43.83333333333333), ((3, 33), 37.16051889287183), ((32, 34), 34.70125560713796), ((2, 3), 33.01213639301874), ((1, 12), 33.0)]\n",
      "Round 2 removes [((14, 34), 82.00290591761178)]\n",
      "After the edge removal, the graph is:\n"
     ]
    },
    {
     "data": {
      "image/png": "[encoded data removed]",
      "text/plain": [
       "<Figure size 432x288 with 1 Axes>"
      ]
     },
     "metadata": {},
     "output_type": "display_data"
    },
    {
     "name": "stdout",
     "output_type": "stream",
     "text": [
      "Community Labelling is: {1: 1, 2: 1, 3: 1, 4: 1, 5: 1, 6: 1, 7: 1, 8: 1, 9: 1, 10: 1, 11: 1, 12: 1, 13: 1, 14: 1, 15: 1, 16: 1, 17: 1, 18: 1, 19: 1, 20: 1, 21: 1, 22: 1, 23: 1, 24: 1, 25: 1, 26: 1, 27: 1, 28: 1, 29: 1, 30: 1, 31: 1, 32: 1, 33: 1, 34: 1}\n",
      "(There are 1 communities now)\n",
      "Q Modularity is: 0.048652202498356334\n",
      "Round 2 took 42.4 seconds ( 0.7 mins)\n",
      "\n",
      " \n",
      "\n",
      "ROUND 3 STARTED! \n",
      "\n",
      "Iteration 1 started...\n",
      " Now doing Map..\n",
      " Now doing Reduce..\n",
      " Now collecting Reduce result..\n",
      "  Collecting Reduce result took 1.4 seconds ( 0.0 mins ).\n",
      " Now flattening Reduce result..\n",
      "  Flattening took 0.0 seconds ( 0.0 mins ).\n",
      " Now finalising Reduce result by filling in adjList..\n",
      "  Filling in adjList took 0.0 seconds ( 0.0 mins ).\n",
      " Now iteration 1 finished!\n",
      "Iteration 1 finished. There are 148 / 182 active tuples left. \n",
      "\n",
      "Iteration 2 started...\n",
      " Now doing Map..\n",
      " Now doing Reduce..\n",
      " Now collecting Reduce result..\n",
      "  Collecting Reduce result took 1.6 seconds ( 0.0 mins ).\n",
      " Now flattening Reduce result..\n",
      "  Flattening took 0.0 seconds ( 0.0 mins ).\n",
      " Now finalising Reduce result by filling in adjList..\n",
      "  Filling in adjList took 0.0 seconds ( 0.0 mins ).\n",
      " Now iteration 2 finished!\n",
      "Iteration 2 finished. There are 896 / 1078 active tuples left. \n",
      "\n",
      "Iteration 3 started...\n",
      " Now doing Map..\n",
      " Now doing Reduce..\n",
      " Now collecting Reduce result..\n",
      "  Collecting Reduce result took 2.2 seconds ( 0.0 mins ).\n",
      " Now flattening Reduce result..\n",
      "  Flattening took 0.1 seconds ( 0.0 mins ).\n",
      " Now finalising Reduce result by filling in adjList..\n",
      "  Filling in adjList took 0.2 seconds ( 0.0 mins ).\n",
      " Now iteration 3 finished!\n",
      "Iteration 3 finished. There are 2576 / 3414 active tuples left. \n",
      "\n",
      "Iteration 4 started...\n",
      " Now doing Map..\n",
      " Now doing Reduce..\n",
      " Now collecting Reduce result..\n",
      "  Collecting Reduce result took 4.0 seconds ( 0.1 mins ).\n",
      " Now flattening Reduce result..\n",
      "  Flattening took 0.1 seconds ( 0.0 mins ).\n",
      " Now finalising Reduce result by filling in adjList..\n",
      "  Filling in adjList took 0.3 seconds ( 0.0 mins ).\n",
      " Now iteration 4 finished!\n",
      "Iteration 4 finished. There are 3788 / 5198 active tuples left. \n",
      "\n",
      "Iteration 5 started...\n",
      " Now doing Map..\n",
      " Now doing Reduce..\n",
      " Now collecting Reduce result..\n",
      "  Collecting Reduce result took 5.8 seconds ( 0.1 mins ).\n",
      " Now flattening Reduce result..\n",
      "  Flattening took 0.1 seconds ( 0.0 mins ).\n",
      " Now finalising Reduce result by filling in adjList..\n",
      "  Filling in adjList took 0.2 seconds ( 0.0 mins ).\n",
      " Now iteration 5 finished!\n",
      "Iteration 5 finished. There are 5156 / 7296 active tuples left. \n",
      "\n",
      "Iteration 6 started...\n",
      " Now doing Map..\n",
      " Now doing Reduce..\n",
      " Now collecting Reduce result..\n"
     ]
    }
   ],
   "source": [
    "# Iteration of Stage1-4\n",
    "import matplotlib.pyplot as plt\n",
    "import time\n",
    "\n",
    "print(\"Data contains\", len(nodes), \"nodes, and\", nb_edges_initial, \"edges \\n\")\n",
    "\n",
    "# Parameter initialisation\n",
    "k_iter = 1  # Number of edges to be removed at each round. The default value is 1.\n",
    "r=1\n",
    "removed_edges=[]\n",
    "t_initial = time.time()\n",
    "Q = 0\n",
    "elist_hist = []\n",
    "Q_hist = []\n",
    "community_hist = []\n",
    "t_hist = []\n",
    "\n",
    "while Q >= 0:\n",
    "    print(\"ROUND\", r, \"STARTED! \\n\")\n",
    "    \n",
    "# Stage1\n",
    "    t_start = time.time() \n",
    "    # Iteration until status becomes 'i' for all tuples\n",
    "    act_counter = 1\n",
    "    ite = 1\n",
    "    while act_counter > 0:\n",
    "        print(\"Iteration\", ite, \"started...\")\n",
    "        rdd = sc.parallelize(output)#.repartition(sc.defaultParallelism * 3)\n",
    "\n",
    "    # <stage1 map>\n",
    "        print(\" Now doing Map..\")\n",
    "        pos_map1 = rdd.flatMap(stage1_map)\n",
    "    # <stage1 reduce>\n",
    "        print(\" Now doing Reduce..\")\n",
    "        red1_twokeys = pos_map1.map(lambda x: ((x[0],x[1][0]), x[1][1:]))\n",
    "        red1_grouped = red1_twokeys.reduceByKey(join)\n",
    "        red1_weighted = red1_grouped.map(stage1_reduce)\n",
    "        print(\" Now collecting Reduce result..\")\n",
    "        t1 = time.time()\n",
    "        record = red1_weighted.map(twokeys_to_onekey).collect()\n",
    "        t2 = time.time()\n",
    "        print(\"  Collecting Reduce result took\", round(t2-t1, 1), \"seconds (\", round((t2-t1)/60, 1), \"mins ).\")\n",
    "        print(\" Now flattening Reduce result..\")\n",
    "        t3 = time.time()\n",
    "        \n",
    "        # 'for' loop to flatten the grouped values (non-parallelized)\n",
    "        new = []\n",
    "        for i in range(len(record)):\n",
    "            if type(record[i][1][1]) is list:\n",
    "                record[i]\n",
    "                key = record[i][0]\n",
    "                srcId = [record[i][1][0]]\n",
    "                others = record[i][1][1:]\n",
    "                for j in range(len(others)):\n",
    "                    s = srcId.copy()\n",
    "                    o = others[j]\n",
    "                    s.extend(o)\n",
    "                    newrec = (key, s)\n",
    "                    new.append(newrec)\n",
    "        pos_red1 = list(filter(lambda item: type(item[1][1]) != list, record))  # Save records with only one value\n",
    "        pos_red1.extend(new)  # Add records which had multiple values\n",
    "        output = pos_red1.copy()\n",
    "        t4 = time.time()\n",
    "        print(\"  Flattening took\", round(t4-t3, 1), \"seconds (\", round((t4-t3)/60, 1), \"mins ).\")\n",
    "        print(\" Now finalising Reduce result by filling in adjList..\")\n",
    "        # Fill in adjList before going to next iteration\n",
    "        t5 = time.time()    \n",
    "        for i in range(len(output)):\n",
    "            if output[i][1][5] == []:\n",
    "                for j in range(len(adj_list)):\n",
    "                    if adj_list[j][0] == output[i][0]:\n",
    "                        output[i][1][5] = adj_list[j][1:len(adj_list[j])]\n",
    "                        break\n",
    "        t6 = time.time()\n",
    "        print(\"  Filling in adjList took\", round(t6-t5, 1), \"seconds (\", round((t6-t5)/60, 1), \"mins ).\")\n",
    "        print(\" Now iteration\",ite ,\"finished!\")\n",
    "        act_counter = 0\n",
    "        for i in range(len(output)):\n",
    "            if output[i][1][2] == 'a':\n",
    "                act_counter += 1\n",
    "        print(\"Iteration\", ite, \"finished. There are\", act_counter, \"/\", len(output), \"active tuples left. \\n\")\n",
    "        ite += 1\n",
    "    stage1_output = output.copy()\n",
    "    print(\"All the Stage1 iterations have finished. Stage1 was iterated for\", ite-1, \"times.\")\n",
    "    #print(\"Stage1 result is:\")  # DELETE AFTER DEBUGGING\n",
    "    #for i in range(len(stage1_output)):  # DELETE AFTER DEBUGGING\n",
    "    #    print(stage1_output[i])  # DELETE AFTER DEBUGGING\n",
    "    t_end = time.time()\n",
    "    elapsed_time = t_end-t_start\n",
    "    elapsed_time_min = elapsed_time/60\n",
    "    print(\"Stage1 execution time was\", round(elapsed_time, 1), \"seconds (\", round(elapsed_time_min, 1), \"mins ).\")\n",
    "\n",
    "# Stage2\n",
    "    pre_map2 = sc.parallelize(stage1_output)#.repartition(sc.defaultParallelism * 3)\n",
    "    # Apply Map after filtering out tuples which has single node info and duplicated tuples (as we consider undirected graph network)\n",
    "    pos_map2 = pre_map2.filter(lambda x: x[0] > x[1][0]).flatMap(stage2_map)\n",
    "    # Stage2 Reduce\n",
    "    pos_red2_directed = pos_map2.reduceByKey(add)\n",
    "    # Ignore the order of node ID at each edge and run reduceByKey(add) again\n",
    "    pos_red2 = pos_red2_directed.map(lambda x: ((x[0][1], x[0][0]), x[1]) if x[0][0] > x[0][1] else x).reduceByKey(add)\n",
    "\n",
    "# Stage3\n",
    "    # Stage3 Map & Reduce\n",
    "    distributed_cache = pos_red2.map(lambda x: (x[1], x[0])).sortByKey(False).map(lambda x: (x[1], x[0])).take(k_iter)\n",
    "    top10 = pos_red2.map(lambda x: (x[1], x[0])).sortByKey(False).map(lambda x: (x[1], x[0])).take(10)\n",
    "    print(\"Edge betweenness Score Top 10 is:\", top10)   \n",
    "    print(\"Round\", r, \"removes\", distributed_cache)\n",
    "    removed_edges.append(distributed_cache)\n",
    "    \n",
    "# Stage4\n",
    "    pos_map4 = pre_map2.flatMap(stage4_map)\n",
    "    pos_red4 = pos_map4.reduceByKey(stage4_reduce).flatMap(revision)\n",
    "    output = pos_red4.collect()\n",
    "    elist = from_tuples_to_edgelist(output)\n",
    "    print(\"After the edge removal, the graph is:\")\n",
    "    np.random.seed(seed=1234)\n",
    "    draw_graph(elist, r)\n",
    "\n",
    "# Update adj_list \n",
    "    adj_list = []\n",
    "    for i in range(len(output)):\n",
    "        targ = [output[i][0]]\n",
    "        targ.extend(output[i][1][5])\n",
    "        adj_list.append(targ)\n",
    "    adj_list = set(map(tuple, adj_list))  # Remove duplicates\n",
    "    adj_list = list(adj_list)\n",
    "    adj_list = list(map(list, adj_list))\n",
    "# Calculate Q\n",
    "    Q_fun_result = Q_modularity(elist, nodes)\n",
    "    Q = Q_fun_result[0]\n",
    "    community = Q_fun_result[1]\n",
    "    print(\"Community Labelling is:\", community)\n",
    "    print('(There are', len(set(community.values())), 'communities now)')\n",
    "    print(\"Q Modularity is:\", Q)\n",
    "\n",
    "# Store the result histories\n",
    "    Q_hist.append(Q)\n",
    "    elist_hist.append(elist)\n",
    "    community_hist.append(community)\n",
    "    t_hist.append(time.time()-t_initial)\n",
    "    t_r_end = time.time() \n",
    "    r_time = t_r_end - t_start\n",
    "    print('Round', r, 'took', round(r_time, 1), 'seconds (', round(r_time/60, 1), 'mins)')\n",
    "    r += 1\n",
    "    print(\"\\n \\n\")\n",
    "t_terminal = time.time()\n",
    "total_time = t_terminal - t_initial\n",
    "\n",
    "# Give the conclusion\n",
    "print('Since the Q modularity reached less than 0, we ended the calculations.')\n",
    "print('All the ', r-1, 'rounds finished')\n",
    "print('\\nTotal execution time was', round(total_time, 1), 'seconds (', round(total_time/60, 1), 'mins)\\n')\n",
    "print('Removed edges were', removed_edges)\n",
    "print('Please check the saved figures under \"./Data/Figures\"')\n",
    "x_axis = [x+1 for x in range(r-1)]\n",
    "plt.plot(x_axis, Q_hist)\n",
    "plt.title(\"Evolution of Q\")\n",
    "plt.xlabel(\"Round\")\n",
    "plt.ylabel(\"Q Modularity\")\n",
    "plt.savefig('./Data/Figures/Q_Modularity_evolution.png')\n",
    "plt.show()\n",
    "\n",
    "Q_best = Q_hist[np.argmax(Q_hist)]\n",
    "r_best = np.argmax(Q_hist) + 1\n",
    "elist_best = elist_hist[np.argmax(Q_hist)]\n",
    "community_best = community_hist[np.argmax(Q_hist)]\n",
    "t_best = t_hist[np.argmax(Q_hist)]\n",
    "\n",
    "print('Q list is:', Q_hist)\n",
    "print('\\n Maximum Q was achieved at round', r_best, 'and the value was', Q_best)\n",
    "print(' The best community structure is:', community_best)\n",
    "print('  and there are', len(set(community_best.values())), 'communities.')\n",
    "print(' The graph at the best was:')\n",
    "draw_graph(elist_best, r_best)\n",
    "print(' It took', round(t_best, 1), 'seconds (', round((t_best)/60, 1), 'mins) until the network reaches the best community structure.')\n"
   ]
  },
  {
   "cell_type": "markdown",
   "metadata": {},
   "source": [
    "## 7. Result and discussion"
   ]
  },
  {
   "cell_type": "markdown",
   "metadata": {},
   "source": [
    "1) Try with different datasets with different size  \n",
    "2) Scale out (increase the number of computing instances)  \n",
    "3) In which case we better use Spark?"
   ]
  },
  {
   "cell_type": "markdown",
   "metadata": {},
   "source": [
    "## 9. References"
   ]
  },
  {
   "cell_type": "markdown",
   "metadata": {},
   "source": [
    "1) S. Moon, et al., Parallel community detection on large graphs with MapReduce and GraphChi, Data Knowl. Eng. (2015)  \n",
    "2) M.E. Newman, M. Girvan, Finding and evaluating community structure in networks, Phys. Rev. E 69 (2) (2004) 026113  "
   ]
  }
 ],
 "metadata": {
  "kernelspec": {
   "display_name": "Python 3",
   "language": "python",
   "name": "python3"
  },
  "language_info": {
   "codemirror_mode": {
    "name": "ipython",
    "version": 3
   },
   "file_extension": ".py",
   "mimetype": "text/x-python",
   "name": "python",
   "nbconvert_exporter": "python",
   "pygments_lexer": "ipython3",
   "version": "3.6.6"
  }
 },
 "nbformat": 4,
 "nbformat_minor": 2
}
