{
  "nbformat": 4,
  "nbformat_minor": 0,
  "metadata": {
    "colab": {
      "name": "ELTDM.ipynb",
      "version": "0.3.2",
      "provenance": [],
      "collapsed_sections": []
    },
    "kernelspec": {
      "name": "python3",
      "display_name": "Python 3"
    }
  },
  "cells": [
    {
      "metadata": {
        "id": "ylT6kawGVYjC",
        "colab_type": "text"
      },
      "cell_type": "markdown",
      "source": [
        "1. Introduction\n",
        "\n",
        "Analysing network datum has become a key issue in many areas to base suggestions, advices and strategies in many sectors and applications. \n",
        "We focus our work on community detection...  \n",
        "The paper we base ourself on is named \" Parallel community detection on large graphs with MapReduce and GraphChi\" published in 2015 by Seunghyeon Moon, Jae-Gil Lee, Minseo Kang, Minsoo Choy and Jin-woo Lee. This paper is based on \"Community structure in social and biological networks\" in 2001 by Michelle Girvan, M. E. J. Newman.\n",
        "\n",
        "Our work is covering the Shortest-Path Betweeness MapReduce Algorithm (SPB-MRA) and the parallel calculation using pyspark on AWS."
      ]
    },
    {
      "metadata": {
        "id": "vn5-dlhIVbAM",
        "colab_type": "text"
      },
      "cell_type": "markdown",
      "source": [
        "2. Model"
      ]
    },
    {
      "metadata": {
        "id": "Yd2i6SCyReLo",
        "colab_type": "code",
        "colab": {}
      },
      "cell_type": "code",
      "source": [
        ""
      ],
      "execution_count": 0,
      "outputs": []
    },
    {
      "metadata": {
        "id": "E3-ep7DdWCap",
        "colab_type": "text"
      },
      "cell_type": "markdown",
      "source": [
        "3. Algorithm"
      ]
    },
    {
      "metadata": {
        "id": "2F2tkBQlWXei",
        "colab_type": "code",
        "colab": {}
      },
      "cell_type": "code",
      "source": [
        "code here"
      ],
      "execution_count": 0,
      "outputs": []
    },
    {
      "metadata": {
        "id": "CmzortVzVdTn",
        "colab_type": "text"
      },
      "cell_type": "markdown",
      "source": [
        "4. Data"
      ]
    },
    {
      "metadata": {
        "id": "Ualy_sMdVg9k",
        "colab_type": "text"
      },
      "cell_type": "markdown",
      "source": [
        "5. Implementation (Environment)"
      ]
    },
    {
      "metadata": {
        "id": "ygSmqwRJVmBz",
        "colab_type": "text"
      },
      "cell_type": "markdown",
      "source": [
        "6. Result and discussion"
      ]
    },
    {
      "metadata": {
        "id": "hG9g7JanVozE",
        "colab_type": "text"
      },
      "cell_type": "markdown",
      "source": [
        "7. Efficiency (compare with algorithm without parallelization)"
      ]
    },
    {
      "metadata": {
        "id": "8JiGoyqLVzVW",
        "colab_type": "text"
      },
      "cell_type": "markdown",
      "source": [
        ""
      ]
    }
  ]
}